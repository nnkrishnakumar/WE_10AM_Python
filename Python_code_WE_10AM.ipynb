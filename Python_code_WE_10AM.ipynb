{
  "nbformat": 4,
  "nbformat_minor": 0,
  "metadata": {
    "colab": {
      "provenance": [],
      "collapsed_sections": []
    },
    "kernelspec": {
      "name": "python3",
      "display_name": "Python 3"
    },
    "language_info": {
      "name": "python"
    },
    "gpuClass": "standard"
  },
  "cells": [
    {
      "cell_type": "markdown",
      "source": [
        "# String"
      ],
      "metadata": {
        "id": "bOheP8K4kDn6"
      }
    },
    {
      "cell_type": "code",
      "execution_count": null,
      "metadata": {
        "colab": {
          "base_uri": "https://localhost:8080/"
        },
        "id": "znqpyhZbevGb",
        "outputId": "73d45dbd-7075-4ec2-ee93-ffb1b9cebcf9"
      },
      "outputs": [
        {
          "output_type": "stream",
          "name": "stdout",
          "text": [
            "Hello world\n"
          ]
        }
      ],
      "source": [
        "print(\"Hello world\")"
      ]
    },
    {
      "cell_type": "code",
      "source": [
        "print(\"This is krishna\")\n",
        "print(\"I am AI trainer\")"
      ],
      "metadata": {
        "colab": {
          "base_uri": "https://localhost:8080/"
        },
        "id": "-lGb24ULgt4_",
        "outputId": "90a89fd2-2fef-41ee-af3c-6c7a322149e8"
      },
      "execution_count": null,
      "outputs": [
        {
          "output_type": "stream",
          "name": "stdout",
          "text": [
            "This is krishna\n",
            "I am AI trainer\n"
          ]
        }
      ]
    },
    {
      "cell_type": "code",
      "source": [
        "print(\"This is krishna\",end=\"\\n\")\n",
        "print(\"I am AI trainer\")"
      ],
      "metadata": {
        "colab": {
          "base_uri": "https://localhost:8080/"
        },
        "id": "a55iKnluhGu6",
        "outputId": "ecfb0831-e43a-41b0-ef77-d3f6486bdaff"
      },
      "execution_count": null,
      "outputs": [
        {
          "output_type": "stream",
          "name": "stdout",
          "text": [
            "This is krishna\n",
            "I am AI trainer\n"
          ]
        }
      ]
    },
    {
      "cell_type": "code",
      "source": [
        "print(\"Hello world\")   # 1st "
      ],
      "metadata": {
        "colab": {
          "base_uri": "https://localhost:8080/"
        },
        "id": "AotL1cxIhh7o",
        "outputId": "006331aa-156b-4d3c-ae2a-626c169bec26"
      },
      "execution_count": null,
      "outputs": [
        {
          "output_type": "stream",
          "name": "stdout",
          "text": [
            "Hello world\n"
          ]
        }
      ]
    },
    {
      "cell_type": "code",
      "source": [
        "print('Hello world')    # 2nd "
      ],
      "metadata": {
        "colab": {
          "base_uri": "https://localhost:8080/"
        },
        "id": "goJp_dePhoKM",
        "outputId": "bf0a41c0-5414-4b3c-c4df-3cefed961481"
      },
      "execution_count": null,
      "outputs": [
        {
          "output_type": "stream",
          "name": "stdout",
          "text": [
            "Hello world\n"
          ]
        }
      ]
    },
    {
      "cell_type": "code",
      "source": [
        "print(\"\"\"Hello \n",
        "world\"\"\")  #3rd"
      ],
      "metadata": {
        "colab": {
          "base_uri": "https://localhost:8080/"
        },
        "id": "_Rkz_SDyhsx9",
        "outputId": "a8224914-1685-43a5-8e72-46bafcfe0d0c"
      },
      "execution_count": null,
      "outputs": [
        {
          "output_type": "stream",
          "name": "stdout",
          "text": [
            "Hello \n",
            "world\n"
          ]
        }
      ]
    },
    {
      "cell_type": "code",
      "source": [
        "print('''he'''\n",
        "      '''llo \n",
        "                      \n",
        "                      world''')  #4th"
      ],
      "metadata": {
        "colab": {
          "base_uri": "https://localhost:8080/"
        },
        "id": "qCZWxU41hv2t",
        "outputId": "420029e1-855b-4cfc-90b0-2b6572a84bd8"
      },
      "execution_count": null,
      "outputs": [
        {
          "output_type": "stream",
          "name": "stdout",
          "text": [
            "hello \n",
            "                      \n",
            "                      world\n"
          ]
        }
      ]
    },
    {
      "cell_type": "code",
      "source": [
        "print(''hello world'')"
      ],
      "metadata": {
        "colab": {
          "base_uri": "https://localhost:8080/",
          "height": 130
        },
        "id": "5tHiL7xuhzGN",
        "outputId": "197bf450-b664-4cd4-e239-b53cb9ec973d"
      },
      "execution_count": null,
      "outputs": [
        {
          "output_type": "error",
          "ename": "SyntaxError",
          "evalue": "ignored",
          "traceback": [
            "\u001b[0;36m  File \u001b[0;32m\"<ipython-input-8-036a28ab3d57>\"\u001b[0;36m, line \u001b[0;32m1\u001b[0m\n\u001b[0;31m    print(''hello world'')\u001b[0m\n\u001b[0m                ^\u001b[0m\n\u001b[0;31mSyntaxError\u001b[0m\u001b[0;31m:\u001b[0m invalid syntax\n"
          ]
        }
      ]
    },
    {
      "cell_type": "code",
      "source": [
        "print(\"This is krishna\")\n",
        "print(\"I am AI trainer\")\n"
      ],
      "metadata": {
        "colab": {
          "base_uri": "https://localhost:8080/"
        },
        "id": "72wZ0OUmioUL",
        "outputId": "a0459f12-0ab6-4774-eece-3332032ddc6c"
      },
      "execution_count": null,
      "outputs": [
        {
          "output_type": "stream",
          "name": "stdout",
          "text": [
            "This is krishna\n",
            "I am AI trainer\n"
          ]
        }
      ]
    },
    {
      "cell_type": "code",
      "source": [
        "print(\"This is krishna\",end=\"\\t\")\n",
        "print(\"I am AI trainer\")"
      ],
      "metadata": {
        "colab": {
          "base_uri": "https://localhost:8080/"
        },
        "id": "9ifhSlzrnvHN",
        "outputId": "944ac2ab-7b16-470a-966b-d255bb669f8a"
      },
      "execution_count": null,
      "outputs": [
        {
          "output_type": "stream",
          "name": "stdout",
          "text": [
            "This is krishna\tI am AI trainer\n"
          ]
        }
      ]
    },
    {
      "cell_type": "code",
      "source": [
        "print(\"Mango\", \"Apple\", \"Banana\",)"
      ],
      "metadata": {
        "colab": {
          "base_uri": "https://localhost:8080/"
        },
        "id": "RdpAaEv1n7R9",
        "outputId": "99188c39-dc33-4ee4-fbfc-396119b3a89c"
      },
      "execution_count": null,
      "outputs": [
        {
          "output_type": "stream",
          "name": "stdout",
          "text": [
            "Mango Apple Banana\n"
          ]
        }
      ]
    },
    {
      "cell_type": "code",
      "source": [
        "print(\"Mango\", \"Apple\", \"Banana\",sep=\" \")"
      ],
      "metadata": {
        "colab": {
          "base_uri": "https://localhost:8080/"
        },
        "id": "yKEtAb9moNbG",
        "outputId": "b177ea43-2324-45bc-c8b0-de47e59ef456"
      },
      "execution_count": null,
      "outputs": [
        {
          "output_type": "stream",
          "name": "stdout",
          "text": [
            "Mango Apple Banana\n"
          ]
        }
      ]
    },
    {
      "cell_type": "code",
      "source": [
        "import random"
      ],
      "metadata": {
        "id": "NWflTf7Pp73S"
      },
      "execution_count": null,
      "outputs": []
    },
    {
      "cell_type": "code",
      "source": [
        "a=random.randint(1,5)\n",
        "print(\"k\"*a)"
      ],
      "metadata": {
        "colab": {
          "base_uri": "https://localhost:8080/"
        },
        "id": "q7SlyuzToYw6",
        "outputId": "595eb5fb-a2c3-482a-b55f-4d42e023e12d"
      },
      "execution_count": null,
      "outputs": [
        {
          "output_type": "stream",
          "name": "stdout",
          "text": [
            "kkkk\n"
          ]
        }
      ]
    },
    {
      "cell_type": "markdown",
      "source": [
        "# variable\n",
        "\n",
        "1> A variable never start with number[0-9]\n",
        "\n",
        "2> A variable never contain special character like (!@#$%^&*...etc) \n",
        "\n",
        "3> A variable can containe \"_\"\n",
        "\n",
        "5> A variable should be readable(preferd)\n"
      ],
      "metadata": {
        "id": "V5yvYLIaqxF6"
      }
    },
    {
      "cell_type": "code",
      "source": [
        "0krishna=10  # A variable never start with number[0-9]\n"
      ],
      "metadata": {
        "colab": {
          "base_uri": "https://localhost:8080/",
          "height": 130
        },
        "id": "7C5a2rTZfNQM",
        "outputId": "f3e0da72-e1ab-49de-9315-5a7f46471f40"
      },
      "execution_count": null,
      "outputs": [
        {
          "output_type": "error",
          "ename": "SyntaxError",
          "evalue": "ignored",
          "traceback": [
            "\u001b[0;36m  File \u001b[0;32m\"<ipython-input-28-83b6e0965d93>\"\u001b[0;36m, line \u001b[0;32m1\u001b[0m\n\u001b[0;31m    0krishna=10  # A variable never start with number[0-9]\u001b[0m\n\u001b[0m           ^\u001b[0m\n\u001b[0;31mSyntaxError\u001b[0m\u001b[0;31m:\u001b[0m invalid syntax\n"
          ]
        }
      ]
    },
    {
      "cell_type": "code",
      "source": [
        "a@=10     #a variable never contain special characte excep _"
      ],
      "metadata": {
        "id": "YxIAgAUbfPW-",
        "colab": {
          "base_uri": "https://localhost:8080/",
          "height": 165
        },
        "outputId": "26fc5446-6a61-4680-a003-7c5969dc6cb9"
      },
      "execution_count": null,
      "outputs": [
        {
          "output_type": "error",
          "ename": "TypeError",
          "evalue": "ignored",
          "traceback": [
            "\u001b[0;31m---------------------------------------------------------------------------\u001b[0m",
            "\u001b[0;31mTypeError\u001b[0m                                 Traceback (most recent call last)",
            "\u001b[0;32m<ipython-input-29-34d9405489eb>\u001b[0m in \u001b[0;36m<module>\u001b[0;34m()\u001b[0m\n\u001b[0;32m----> 1\u001b[0;31m \u001b[0ma\u001b[0m\u001b[0;34m@=\u001b[0m\u001b[0;36m10\u001b[0m     \u001b[0;31m#a variable never contain special characte excep _\u001b[0m\u001b[0;34m\u001b[0m\u001b[0;34m\u001b[0m\u001b[0m\n\u001b[0m",
            "\u001b[0;31mTypeError\u001b[0m: unsupported operand type(s) for @=: 'int' and 'int'"
          ]
        }
      ]
    },
    {
      "cell_type": "code",
      "source": [],
      "metadata": {
        "colab": {
          "base_uri": "https://localhost:8080/"
        },
        "id": "6rcHMSXdXTwj",
        "outputId": "43b2f351-a01a-4525-c2b0-cedf721232d6"
      },
      "execution_count": null,
      "outputs": [
        {
          "output_type": "execute_result",
          "data": {
            "text/plain": [
              "True"
            ]
          },
          "metadata": {},
          "execution_count": 20
        }
      ]
    },
    {
      "cell_type": "code",
      "source": [
        "d!=10"
      ],
      "metadata": {
        "colab": {
          "base_uri": "https://localhost:8080/",
          "height": 165
        },
        "id": "hwzJMKrZXYsA",
        "outputId": "47f208b2-5c80-4225-b4b3-f0be21032be9"
      },
      "execution_count": null,
      "outputs": [
        {
          "output_type": "error",
          "ename": "NameError",
          "evalue": "ignored",
          "traceback": [
            "\u001b[0;31m---------------------------------------------------------------------------\u001b[0m",
            "\u001b[0;31mNameError\u001b[0m                                 Traceback (most recent call last)",
            "\u001b[0;32m<ipython-input-21-78068cc72e3c>\u001b[0m in \u001b[0;36m<module>\u001b[0;34m()\u001b[0m\n\u001b[0;32m----> 1\u001b[0;31m \u001b[0md\u001b[0m\u001b[0;34m!=\u001b[0m\u001b[0;36m10\u001b[0m\u001b[0;34m\u001b[0m\u001b[0;34m\u001b[0m\u001b[0m\n\u001b[0m",
            "\u001b[0;31mNameError\u001b[0m: name 'd' is not defined"
          ]
        }
      ]
    },
    {
      "cell_type": "code",
      "source": [
        "$d=10"
      ],
      "metadata": {
        "colab": {
          "base_uri": "https://localhost:8080/",
          "height": 130
        },
        "id": "lbfk90zQXjwj",
        "outputId": "51994595-a91f-4816-8523-7679aa8607f5"
      },
      "execution_count": null,
      "outputs": [
        {
          "output_type": "error",
          "ename": "SyntaxError",
          "evalue": "ignored",
          "traceback": [
            "\u001b[0;36m  File \u001b[0;32m\"<ipython-input-24-c57c3802e866>\"\u001b[0;36m, line \u001b[0;32m1\u001b[0m\n\u001b[0;31m    $d=10\u001b[0m\n\u001b[0m    ^\u001b[0m\n\u001b[0;31mSyntaxError\u001b[0m\u001b[0;31m:\u001b[0m invalid syntax\n"
          ]
        }
      ]
    },
    {
      "cell_type": "code",
      "source": [
        "a_=10"
      ],
      "metadata": {
        "id": "6Syl6zVDXnE_"
      },
      "execution_count": null,
      "outputs": []
    },
    {
      "cell_type": "code",
      "source": [
        "_=10    # A variable should contain _"
      ],
      "metadata": {
        "id": "f3mRwtO8X12_"
      },
      "execution_count": null,
      "outputs": []
    },
    {
      "cell_type": "code",
      "source": [
        "print(_)"
      ],
      "metadata": {
        "colab": {
          "base_uri": "https://localhost:8080/"
        },
        "id": "rpC0bF_IX7l_",
        "outputId": "c0fdf50f-6e45-4ecc-b402-b10210d80f59"
      },
      "execution_count": null,
      "outputs": [
        {
          "output_type": "stream",
          "name": "stdout",
          "text": [
            "10\n"
          ]
        }
      ]
    },
    {
      "cell_type": "markdown",
      "source": [
        "# Comment\n",
        "\n",
        "In python there is single line comment \n",
        "\n",
        "Comment start with #----\n",
        "\n",
        "Python interpretre never read comment\n",
        "\n",
        "Comment use to explain our code "
      ],
      "metadata": {
        "id": "qULZTpRlX9cv"
      }
    },
    {
      "cell_type": "code",
      "source": [
        "a=\"\"\"this is krishna\n",
        "  and i am AI trainer\"\"\"\n",
        "print(a)"
      ],
      "metadata": {
        "colab": {
          "base_uri": "https://localhost:8080/"
        },
        "id": "MIBnawELYIhR",
        "outputId": "0e205077-820d-4acb-d9fb-271390c4f4b5"
      },
      "execution_count": null,
      "outputs": [
        {
          "output_type": "stream",
          "name": "stdout",
          "text": [
            "this is krishna\n",
            "  and i am AI trainer\n"
          ]
        }
      ]
    },
    {
      "cell_type": "code",
      "source": [
        "b=#\"I am in MCA\"\n",
        "\n",
        "print(b)\n"
      ],
      "metadata": {
        "colab": {
          "base_uri": "https://localhost:8080/",
          "height": 130
        },
        "id": "KyINfJXTZkJP",
        "outputId": "738a298e-2132-409b-9ba4-3d85f81e09c4"
      },
      "execution_count": null,
      "outputs": [
        {
          "output_type": "error",
          "ename": "SyntaxError",
          "evalue": "ignored",
          "traceback": [
            "\u001b[0;36m  File \u001b[0;32m\"<ipython-input-32-eda91be90822>\"\u001b[0;36m, line \u001b[0;32m1\u001b[0m\n\u001b[0;31m    b=#\"I am in MCA\"\u001b[0m\n\u001b[0m                    ^\u001b[0m\n\u001b[0;31mSyntaxError\u001b[0m\u001b[0;31m:\u001b[0m invalid syntax\n"
          ]
        }
      ]
    },
    {
      "cell_type": "markdown",
      "source": [
        "# Use case"
      ],
      "metadata": {
        "id": "CYe4g8IwaUTg"
      }
    },
    {
      "cell_type": "code",
      "source": [
        "print(\"Krishna \"Kumar\"\")"
      ],
      "metadata": {
        "colab": {
          "base_uri": "https://localhost:8080/",
          "height": 130
        },
        "id": "_N9oEw-VaiRv",
        "outputId": "19c64fc6-94e3-4361-cea7-325b1a091a28"
      },
      "execution_count": null,
      "outputs": [
        {
          "output_type": "error",
          "ename": "SyntaxError",
          "evalue": "ignored",
          "traceback": [
            "\u001b[0;36m  File \u001b[0;32m\"<ipython-input-37-edf31f29a462>\"\u001b[0;36m, line \u001b[0;32m1\u001b[0m\n\u001b[0;31m    print(\"Krishna \"Kumar\"\")\u001b[0m\n\u001b[0m                        ^\u001b[0m\n\u001b[0;31mSyntaxError\u001b[0m\u001b[0;31m:\u001b[0m invalid syntax\n"
          ]
        }
      ]
    },
    {
      "cell_type": "code",
      "source": [
        "print(\"Krishna \\\"Kumar\\\"\")"
      ],
      "metadata": {
        "colab": {
          "base_uri": "https://localhost:8080/"
        },
        "id": "i0GUfCsfan1-",
        "outputId": "c453ddb5-890d-4f76-d366-fc4a168b9fb3"
      },
      "execution_count": null,
      "outputs": [
        {
          "output_type": "stream",
          "name": "stdout",
          "text": [
            "Krishna \"Kumar\"\n"
          ]
        }
      ]
    },
    {
      "cell_type": "code",
      "source": [
        "print(\"Krishna 'Kumar'\")"
      ],
      "metadata": {
        "colab": {
          "base_uri": "https://localhost:8080/"
        },
        "id": "qjcKOOggbBLe",
        "outputId": "c3d8648f-5e4d-4e2c-cd2d-a5bf82476964"
      },
      "execution_count": null,
      "outputs": [
        {
          "output_type": "stream",
          "name": "stdout",
          "text": [
            "Krishna 'Kumar'\n"
          ]
        }
      ]
    },
    {
      "cell_type": "code",
      "source": [
        "print(\"krishna \\\\n kumar \")"
      ],
      "metadata": {
        "colab": {
          "base_uri": "https://localhost:8080/"
        },
        "id": "_pYVQkaJbEm-",
        "outputId": "70e6a042-33c1-4117-c054-015a0e61ce3b"
      },
      "execution_count": null,
      "outputs": [
        {
          "output_type": "stream",
          "name": "stdout",
          "text": [
            "krishna \\n kumar \n"
          ]
        }
      ]
    },
    {
      "cell_type": "code",
      "source": [
        "print('krishna \"kumar\"')"
      ],
      "metadata": {
        "colab": {
          "base_uri": "https://localhost:8080/"
        },
        "id": "s22XM8W6bR9O",
        "outputId": "0ae698bc-5df7-4ce6-e814-6e1f6d92e7a8"
      },
      "execution_count": null,
      "outputs": [
        {
          "output_type": "stream",
          "name": "stdout",
          "text": [
            "krishna \"kumar\"\n"
          ]
        }
      ]
    },
    {
      "cell_type": "code",
      "source": [
        "print(\"\"\"krishna \"kumar\" is a trainer\"\"\")"
      ],
      "metadata": {
        "colab": {
          "base_uri": "https://localhost:8080/"
        },
        "id": "_nEtC868blwJ",
        "outputId": "63be5d2e-7ad2-46c0-e523-93c5718067b1"
      },
      "execution_count": null,
      "outputs": [
        {
          "output_type": "stream",
          "name": "stdout",
          "text": [
            "krishna \"kumar\" is a trainer\n"
          ]
        }
      ]
    },
    {
      "cell_type": "code",
      "source": [
        "print('''krishna 'kumar' is a trainer''')"
      ],
      "metadata": {
        "colab": {
          "base_uri": "https://localhost:8080/"
        },
        "id": "4IljsGxsb5H6",
        "outputId": "cbcba2a5-81f1-4309-a1b4-74365f6c96d9"
      },
      "execution_count": null,
      "outputs": [
        {
          "output_type": "stream",
          "name": "stdout",
          "text": [
            "krishna 'kumar' is a trainer\n"
          ]
        }
      ]
    },
    {
      "cell_type": "markdown",
      "source": [
        "# Interpreter types\n",
        "\n",
        "cpython\n",
        "\n",
        "jython\n",
        "\n",
        "rodpython\n",
        "\n",
        "ipython\n",
        "\n",
        "pipi\n",
        "\n",
        "\n"
      ],
      "metadata": {
        "id": "pEgyr5n-cPit"
      }
    },
    {
      "cell_type": "code",
      "source": [
        "\"this is krishna\""
      ],
      "metadata": {
        "colab": {
          "base_uri": "https://localhost:8080/",
          "height": 36
        },
        "id": "PhBtrzYacfh3",
        "outputId": "707c78f0-025c-43d7-ac98-a83bfdb404e7"
      },
      "execution_count": null,
      "outputs": [
        {
          "output_type": "execute_result",
          "data": {
            "text/plain": [
              "'this is krishna'"
            ],
            "application/vnd.google.colaboratory.intrinsic+json": {
              "type": "string"
            }
          },
          "metadata": {},
          "execution_count": 50
        }
      ]
    },
    {
      "cell_type": "code",
      "source": [
        "\"\"\"this is krishna \n",
        "and i am AI \"\"\""
      ],
      "metadata": {
        "colab": {
          "base_uri": "https://localhost:8080/",
          "height": 36
        },
        "id": "NlWbSuRIcj6o",
        "outputId": "dd6b66b7-cbd2-4f59-85da-2ec9e6f3df20"
      },
      "execution_count": null,
      "outputs": [
        {
          "output_type": "execute_result",
          "data": {
            "text/plain": [
              "'this is krishna \\nand i am AI '"
            ],
            "application/vnd.google.colaboratory.intrinsic+json": {
              "type": "string"
            }
          },
          "metadata": {},
          "execution_count": 52
        }
      ]
    },
    {
      "cell_type": "code",
      "source": [
        "print(r\"this is krishna \\n And i'm \\naveen's brother\")  # r is raw string "
      ],
      "metadata": {
        "colab": {
          "base_uri": "https://localhost:8080/"
        },
        "id": "FtJKP6gBcltd",
        "outputId": "3985324c-bca4-4d95-8160-6b97e622c58c"
      },
      "execution_count": null,
      "outputs": [
        {
          "output_type": "stream",
          "name": "stdout",
          "text": [
            "this is krishna \\n And i'm \\naveen's brother\n"
          ]
        }
      ]
    },
    {
      "cell_type": "markdown",
      "source": [
        "# input"
      ],
      "metadata": {
        "id": "bufH-ZUwemio"
      }
    },
    {
      "cell_type": "code",
      "source": [
        "print(\"Kindly enter your age\")"
      ],
      "metadata": {
        "colab": {
          "base_uri": "https://localhost:8080/"
        },
        "id": "hDHN-aj7fKfD",
        "outputId": "1805f23d-578d-44ea-c2ea-53c4f73b2ec1"
      },
      "execution_count": null,
      "outputs": [
        {
          "output_type": "stream",
          "name": "stdout",
          "text": [
            "Kindly enter your age\n"
          ]
        }
      ]
    },
    {
      "cell_type": "code",
      "source": [
        "a=int(input(\"kindly enter your age :\"))    # input accept all values in the form of string "
      ],
      "metadata": {
        "colab": {
          "base_uri": "https://localhost:8080/",
          "height": 200
        },
        "id": "DGMaJX5HfYh9",
        "outputId": "c78ea31c-e371-405a-a7a9-9bdc2d8f51fa"
      },
      "execution_count": null,
      "outputs": [
        {
          "name": "stdout",
          "output_type": "stream",
          "text": [
            "kindly enter your age :krishna\n"
          ]
        },
        {
          "output_type": "error",
          "ename": "ValueError",
          "evalue": "ignored",
          "traceback": [
            "\u001b[0;31m---------------------------------------------------------------------------\u001b[0m",
            "\u001b[0;31mValueError\u001b[0m                                Traceback (most recent call last)",
            "\u001b[0;32m<ipython-input-69-d63a3cd3edb2>\u001b[0m in \u001b[0;36m<module>\u001b[0;34m()\u001b[0m\n\u001b[0;32m----> 1\u001b[0;31m \u001b[0ma\u001b[0m\u001b[0;34m=\u001b[0m\u001b[0mint\u001b[0m\u001b[0;34m(\u001b[0m\u001b[0minput\u001b[0m\u001b[0;34m(\u001b[0m\u001b[0;34m\"kindly enter your age :\"\u001b[0m\u001b[0;34m)\u001b[0m\u001b[0;34m)\u001b[0m    \u001b[0;31m# input accept all values in the form of string\u001b[0m\u001b[0;34m\u001b[0m\u001b[0;34m\u001b[0m\u001b[0m\n\u001b[0m",
            "\u001b[0;31mValueError\u001b[0m: invalid literal for int() with base 10: 'krishna'"
          ]
        }
      ]
    },
    {
      "cell_type": "code",
      "source": [
        "print(a)"
      ],
      "metadata": {
        "colab": {
          "base_uri": "https://localhost:8080/"
        },
        "id": "4qX1t180fe89",
        "outputId": "0872a13c-8442-4175-f412-e0e2e69b67da"
      },
      "execution_count": null,
      "outputs": [
        {
          "output_type": "stream",
          "name": "stdout",
          "text": [
            "26\n"
          ]
        }
      ]
    },
    {
      "cell_type": "code",
      "source": [
        "print(type(a))"
      ],
      "metadata": {
        "colab": {
          "base_uri": "https://localhost:8080/"
        },
        "id": "RXWaIAv-fxqe",
        "outputId": "678f37b1-cd76-42c5-ffcf-11eb4d123a09"
      },
      "execution_count": null,
      "outputs": [
        {
          "output_type": "stream",
          "name": "stdout",
          "text": [
            "<class 'int'>\n"
          ]
        }
      ]
    },
    {
      "cell_type": "code",
      "source": [
        "/a=10"
      ],
      "metadata": {
        "colab": {
          "base_uri": "https://localhost:8080/",
          "height": 130
        },
        "id": "oqpjf7qOf3L7",
        "outputId": "a898538e-e57c-4844-f0ea-15914a5e1794"
      },
      "execution_count": null,
      "outputs": [
        {
          "output_type": "error",
          "ename": "SyntaxError",
          "evalue": "ignored",
          "traceback": [
            "\u001b[0;36m  File \u001b[0;32m\"<ipython-input-73-f4eb2148a743>\"\u001b[0;36m, line \u001b[0;32m1\u001b[0m\n\u001b[0;31m    a(=10)\u001b[0m\n\u001b[0m      ^\u001b[0m\n\u001b[0;31mSyntaxError\u001b[0m\u001b[0;31m:\u001b[0m invalid syntax\n"
          ]
        }
      ]
    },
    {
      "cell_type": "markdown",
      "source": [
        "# variable\n",
        "\n",
        "# comment\n",
        "\n",
        "# interpreter types\n",
        "\n",
        "# input\n",
        "\n",
        "# raw string \n"
      ],
      "metadata": {
        "id": "XyHe1XE0hDWb"
      }
    },
    {
      "cell_type": "markdown",
      "source": [
        "#24/07/2022\n",
        "\n",
        "# Data types\n",
        "\n"
      ],
      "metadata": {
        "id": "eqTbdbWwha58"
      }
    },
    {
      "cell_type": "markdown",
      "source": [
        "int\n",
        "\n",
        "float\n",
        "\n",
        "str \n",
        "\n",
        "list\n",
        "\n",
        "tuple \n",
        "\n",
        "set\n",
        "\n",
        "dict\n",
        "\n",
        "bool\n",
        "\n",
        "\n"
      ],
      "metadata": {
        "id": "rhPDh7gzevcI"
      }
    },
    {
      "cell_type": "markdown",
      "source": [
        "# int\n",
        "\n",
        "integer datatype base is 10\n",
        "\n",
        "integer datatype is not iterable\n",
        "\n",
        "integer consutructor is \"int()\""
      ],
      "metadata": {
        "id": "PwZUp1fdfMj1"
      }
    },
    {
      "cell_type": "markdown",
      "source": [
        "#Casting"
      ],
      "metadata": {
        "id": "2nJn5H-ZfQTS"
      }
    },
    {
      "cell_type": "code",
      "source": [
        "a=10\n",
        "print(type(a))"
      ],
      "metadata": {
        "colab": {
          "base_uri": "https://localhost:8080/"
        },
        "id": "hd0DOJpHfR06",
        "outputId": "56081c7b-2f39-4614-db5b-64a18ba63c80"
      },
      "execution_count": null,
      "outputs": [
        {
          "output_type": "stream",
          "name": "stdout",
          "text": [
            "<class 'int'>\n"
          ]
        }
      ]
    },
    {
      "cell_type": "code",
      "source": [
        "b=20.0\n",
        "print(type(b))"
      ],
      "metadata": {
        "colab": {
          "base_uri": "https://localhost:8080/"
        },
        "id": "mdEzwKfMf_UK",
        "outputId": "fdaa57fc-f9a8-4b40-91a3-3dcb673877d6"
      },
      "execution_count": null,
      "outputs": [
        {
          "output_type": "stream",
          "name": "stdout",
          "text": [
            "<class 'float'>\n"
          ]
        }
      ]
    },
    {
      "cell_type": "code",
      "source": [
        "c=int(b)        #using int() constructor we do conversion of float to int\n",
        "print(c)\n",
        "print(type(c))"
      ],
      "metadata": {
        "colab": {
          "base_uri": "https://localhost:8080/"
        },
        "id": "7GdAlBBLgEZq",
        "outputId": "22b4dd23-17b6-45c3-f958-ac616f75e8a3"
      },
      "execution_count": null,
      "outputs": [
        {
          "output_type": "stream",
          "name": "stdout",
          "text": [
            "20\n",
            "<class 'int'>\n"
          ]
        }
      ]
    },
    {
      "cell_type": "markdown",
      "source": [
        "# float\n"
      ],
      "metadata": {
        "id": "5smx5Vz_gSmP"
      }
    },
    {
      "cell_type": "code",
      "source": [
        "a=10.0\n",
        "print(a)\n",
        "print(type(a))"
      ],
      "metadata": {
        "colab": {
          "base_uri": "https://localhost:8080/"
        },
        "id": "vG46dsfegtii",
        "outputId": "0e3dc205-da45-4eaa-f2a8-16d3249fbc87"
      },
      "execution_count": null,
      "outputs": [
        {
          "output_type": "stream",
          "name": "stdout",
          "text": [
            "10.0\n",
            "<class 'float'>\n"
          ]
        }
      ]
    },
    {
      "cell_type": "code",
      "source": [
        "b=10.\n",
        "print(b)"
      ],
      "metadata": {
        "colab": {
          "base_uri": "https://localhost:8080/"
        },
        "id": "_OZvi_Y3g0nD",
        "outputId": "f2b08106-637c-4628-b52c-c40e2554de91"
      },
      "execution_count": null,
      "outputs": [
        {
          "output_type": "stream",
          "name": "stdout",
          "text": [
            "10.0\n"
          ]
        }
      ]
    },
    {
      "cell_type": "code",
      "source": [
        "c=2e10         \n",
        "print(type(c))\n",
        "print(c)"
      ],
      "metadata": {
        "colab": {
          "base_uri": "https://localhost:8080/"
        },
        "id": "ZipCYwxog4rk",
        "outputId": "d4bcd9cf-d74b-40cd-dcfb-deb55b71608a"
      },
      "execution_count": null,
      "outputs": [
        {
          "output_type": "stream",
          "name": "stdout",
          "text": [
            "<class 'float'>\n",
            "20000000000.0\n"
          ]
        }
      ]
    },
    {
      "cell_type": "code",
      "source": [
        "d=2*10.0**10\n",
        "print(d)"
      ],
      "metadata": {
        "colab": {
          "base_uri": "https://localhost:8080/"
        },
        "id": "Z9OrDHK-hKM2",
        "outputId": "a786ebf8-82f8-4bef-d4c9-e20fb5065b0b"
      },
      "execution_count": null,
      "outputs": [
        {
          "output_type": "stream",
          "name": "stdout",
          "text": [
            "20000000000.0\n"
          ]
        }
      ]
    },
    {
      "cell_type": "markdown",
      "source": [
        "# str\n",
        "\n",
        "string is a set of sequence.\n",
        "\n",
        "constructor of str is str()\n",
        "\n",
        "string support indexing \n",
        "\n",
        "string support slicing \n",
        "\n",
        "str literal '',\"\",\"\"\"\"\"\",''''''\n",
        "\n",
        "string is immutable(we can't change it )"
      ],
      "metadata": {
        "id": "uSXfUt4AhpXA"
      }
    },
    {
      "cell_type": "code",
      "source": [
        "a=''\n",
        "print(a)\n",
        "print(type(a))\n",
        "a"
      ],
      "metadata": {
        "colab": {
          "base_uri": "https://localhost:8080/",
          "height": 72
        },
        "id": "y55qkSh6g3l7",
        "outputId": "5be4fc1b-d2f6-41ad-ff10-246910a7b3a5"
      },
      "execution_count": null,
      "outputs": [
        {
          "output_type": "stream",
          "name": "stdout",
          "text": [
            "\n",
            "<class 'str'>\n"
          ]
        },
        {
          "output_type": "execute_result",
          "data": {
            "text/plain": [
              "''"
            ],
            "application/vnd.google.colaboratory.intrinsic+json": {
              "type": "string"
            }
          },
          "metadata": {},
          "execution_count": 13
        }
      ]
    },
    {
      "cell_type": "code",
      "source": [
        "# string is a set of sequence\n",
        "\n",
        "a=\"Krishna\"\n",
        "print(a)"
      ],
      "metadata": {
        "colab": {
          "base_uri": "https://localhost:8080/"
        },
        "id": "rKY7SSVcjPEp",
        "outputId": "e4f1dc82-1dd9-4daa-82c4-7263d6093ae0"
      },
      "execution_count": null,
      "outputs": [
        {
          "output_type": "stream",
          "name": "stdout",
          "text": [
            "Krishna\n"
          ]
        }
      ]
    },
    {
      "cell_type": "code",
      "source": [
        "print(a[0])"
      ],
      "metadata": {
        "colab": {
          "base_uri": "https://localhost:8080/"
        },
        "id": "2e7Gq8hJkCwO",
        "outputId": "47c7557d-7eb8-4fe1-e81c-73ab7c168bfa"
      },
      "execution_count": null,
      "outputs": [
        {
          "output_type": "stream",
          "name": "stdout",
          "text": [
            "K\n"
          ]
        }
      ]
    },
    {
      "cell_type": "code",
      "source": [],
      "metadata": {
        "id": "bqzM5Bk5g3uY"
      },
      "execution_count": null,
      "outputs": []
    },
    {
      "cell_type": "code",
      "source": [
        "print(a[-1])"
      ],
      "metadata": {
        "colab": {
          "base_uri": "https://localhost:8080/"
        },
        "id": "5Pm6ARRElCNf",
        "outputId": "060feaf5-4097-460f-d85e-67254b3542eb"
      },
      "execution_count": null,
      "outputs": [
        {
          "output_type": "stream",
          "name": "stdout",
          "text": [
            "a\n"
          ]
        }
      ]
    },
    {
      "cell_type": "markdown",
      "source": [
        "# Slicing"
      ],
      "metadata": {
        "id": "KN5rM7JalSxz"
      }
    },
    {
      "cell_type": "code",
      "source": [
        "print(a[1:6])"
      ],
      "metadata": {
        "colab": {
          "base_uri": "https://localhost:8080/"
        },
        "id": "-2iB8vaPmL0_",
        "outputId": "7d9b680a-f21d-48ac-ac03-c859ad24c7d9"
      },
      "execution_count": null,
      "outputs": [
        {
          "output_type": "stream",
          "name": "stdout",
          "text": [
            "rishn\n"
          ]
        }
      ]
    },
    {
      "cell_type": "code",
      "source": [
        "print(a[1:1000000000000000000000000000000000000000000000000000000000000000000:1])"
      ],
      "metadata": {
        "colab": {
          "base_uri": "https://localhost:8080/"
        },
        "id": "QNMmo1OgmYwS",
        "outputId": "64735720-6845-4a41-d808-be5b54f1d5de"
      },
      "execution_count": null,
      "outputs": [
        {
          "output_type": "stream",
          "name": "stdout",
          "text": [
            "rishna\n"
          ]
        }
      ]
    },
    {
      "cell_type": "code",
      "source": [
        "print(a[1::1])"
      ],
      "metadata": {
        "colab": {
          "base_uri": "https://localhost:8080/"
        },
        "id": "S-plsimEnOgC",
        "outputId": "3f7e6b77-4de5-44cc-b669-6af20141ea24"
      },
      "execution_count": null,
      "outputs": [
        {
          "output_type": "stream",
          "name": "stdout",
          "text": [
            "rishna\n"
          ]
        }
      ]
    },
    {
      "cell_type": "code",
      "source": [
        "print(a[1:])"
      ],
      "metadata": {
        "colab": {
          "base_uri": "https://localhost:8080/"
        },
        "id": "xH_-1x9nn51_",
        "outputId": "f850c0a8-6b14-4a0a-ca7e-c711b9676265"
      },
      "execution_count": null,
      "outputs": [
        {
          "output_type": "stream",
          "name": "stdout",
          "text": [
            "rishna\n"
          ]
        }
      ]
    },
    {
      "cell_type": "code",
      "source": [
        "print(a[1::])"
      ],
      "metadata": {
        "colab": {
          "base_uri": "https://localhost:8080/"
        },
        "id": "TDzb4OGzoKnt",
        "outputId": "7e383eb2-ec1d-4b1d-ac60-2e39bd28b2c4"
      },
      "execution_count": null,
      "outputs": [
        {
          "output_type": "stream",
          "name": "stdout",
          "text": [
            "rishna\n"
          ]
        }
      ]
    },
    {
      "cell_type": "code",
      "source": [
        "print(a[1::2])"
      ],
      "metadata": {
        "colab": {
          "base_uri": "https://localhost:8080/"
        },
        "id": "Enx0G4VJoSjn",
        "outputId": "9e2258bd-9ba4-4d3a-ce59-cc802ec18d6c"
      },
      "execution_count": null,
      "outputs": [
        {
          "output_type": "stream",
          "name": "stdout",
          "text": [
            "rsn\n"
          ]
        }
      ]
    },
    {
      "cell_type": "code",
      "source": [
        "print(a[1::1000000000000000000])"
      ],
      "metadata": {
        "colab": {
          "base_uri": "https://localhost:8080/"
        },
        "id": "t83zgGTVoWpQ",
        "outputId": "17a840b5-8d0e-4a77-ede9-5ece48ae58a4"
      },
      "execution_count": null,
      "outputs": [
        {
          "output_type": "stream",
          "name": "stdout",
          "text": [
            "r\n"
          ]
        }
      ]
    },
    {
      "cell_type": "code",
      "source": [
        "print(a[0::])"
      ],
      "metadata": {
        "colab": {
          "base_uri": "https://localhost:8080/"
        },
        "id": "jF7LaJ_Coe9v",
        "outputId": "79eb4028-95f8-4fd2-e0f6-5543c987f23a"
      },
      "execution_count": null,
      "outputs": [
        {
          "output_type": "stream",
          "name": "stdout",
          "text": [
            "Krishna\n"
          ]
        }
      ]
    },
    {
      "cell_type": "code",
      "source": [
        "print(a[::])"
      ],
      "metadata": {
        "colab": {
          "base_uri": "https://localhost:8080/"
        },
        "id": "gspQAlQKosxm",
        "outputId": "07cece3a-bde2-4d66-f344-2a0b61bb9800"
      },
      "execution_count": null,
      "outputs": [
        {
          "output_type": "stream",
          "name": "stdout",
          "text": [
            "Krishna\n"
          ]
        }
      ]
    },
    {
      "cell_type": "code",
      "source": [
        "print(a[:10:])"
      ],
      "metadata": {
        "colab": {
          "base_uri": "https://localhost:8080/"
        },
        "id": "-rhk6-pNoz9V",
        "outputId": "e2b0757b-1785-4d54-c8a4-0b8d75101d66"
      },
      "execution_count": null,
      "outputs": [
        {
          "output_type": "stream",
          "name": "stdout",
          "text": [
            "Krishna\n"
          ]
        }
      ]
    },
    {
      "cell_type": "code",
      "source": [
        "print(a[::1])   # indexing never give you error until unless your are not voilating the syntex"
      ],
      "metadata": {
        "colab": {
          "base_uri": "https://localhost:8080/"
        },
        "id": "nZQlRwpBo3S3",
        "outputId": "a1d5a0c2-a712-4af8-aea8-d2d3391d81a8"
      },
      "execution_count": null,
      "outputs": [
        {
          "output_type": "stream",
          "name": "stdout",
          "text": [
            "Krishna\n"
          ]
        }
      ]
    },
    {
      "cell_type": "code",
      "source": [
        "print(a[10::1])  # the default values of stepping is 1 and starting is 0 middel values is upto end+1\n"
      ],
      "metadata": {
        "colab": {
          "base_uri": "https://localhost:8080/"
        },
        "id": "lLBeDDoho6Fl",
        "outputId": "bf0288fd-dc29-4a57-fdaa-16ad3d561e95"
      },
      "execution_count": null,
      "outputs": [
        {
          "output_type": "stream",
          "name": "stdout",
          "text": [
            "\n"
          ]
        }
      ]
    },
    {
      "cell_type": "code",
      "source": [
        "print(a[6: :-1])"
      ],
      "metadata": {
        "colab": {
          "base_uri": "https://localhost:8080/"
        },
        "id": "M1BoNX79pMb2",
        "outputId": "ecccb1d7-076b-4615-b523-923745cb1f81"
      },
      "execution_count": null,
      "outputs": [
        {
          "output_type": "stream",
          "name": "stdout",
          "text": [
            "anhsirK\n"
          ]
        }
      ]
    },
    {
      "cell_type": "code",
      "source": [
        "print(a[: :-1])"
      ],
      "metadata": {
        "colab": {
          "base_uri": "https://localhost:8080/"
        },
        "id": "tarZgWjMqE6X",
        "outputId": "aa9d5b79-b482-4830-a172-6e05578188ae"
      },
      "execution_count": null,
      "outputs": [
        {
          "output_type": "stream",
          "name": "stdout",
          "text": [
            "anhsirK\n"
          ]
        }
      ]
    },
    {
      "cell_type": "code",
      "source": [
        "a=\"fsgfdgdfgfffffffffffffffffffffffffffffffffffffffffffffffffffffffffffffffffffffffffffffffffffffffffffffffffffffffffffffffffffffffffffffffffffffffffffffffffffffffffffffffffffffffffffffffffffffffffffffffffffffffffffffffffffffffffffffffffffffffff     f\""
      ],
      "metadata": {
        "id": "fhDg3Q0BqN7l"
      },
      "execution_count": null,
      "outputs": []
    },
    {
      "cell_type": "code",
      "source": [
        "len(a)"
      ],
      "metadata": {
        "colab": {
          "base_uri": "https://localhost:8080/"
        },
        "id": "loAAa2fPrY2W",
        "outputId": "aed84a4d-a83f-4a61-f44e-7419c2673555"
      },
      "execution_count": null,
      "outputs": [
        {
          "output_type": "execute_result",
          "data": {
            "text/plain": [
              "248"
            ]
          },
          "metadata": {},
          "execution_count": 44
        }
      ]
    },
    {
      "cell_type": "code",
      "source": [
        "b=\"                                                                    \"\n",
        "print(len(b))"
      ],
      "metadata": {
        "colab": {
          "base_uri": "https://localhost:8080/"
        },
        "id": "0QQ25Sddra-V",
        "outputId": "239c4b2d-b2ca-4851-dcc6-bc91ca3a41a9"
      },
      "execution_count": null,
      "outputs": [
        {
          "output_type": "stream",
          "name": "stdout",
          "text": [
            "68\n"
          ]
        }
      ]
    },
    {
      "cell_type": "code",
      "source": [
        "(2/3)+(2/3)"
      ],
      "metadata": {
        "colab": {
          "base_uri": "https://localhost:8080/"
        },
        "id": "MYxwkn-PsQd2",
        "outputId": "d4572a9b-5256-4117-9f21-61f498971f09"
      },
      "execution_count": null,
      "outputs": [
        {
          "output_type": "execute_result",
          "data": {
            "text/plain": [
              "1.3333333333333333"
            ]
          },
          "metadata": {},
          "execution_count": 46
        }
      ]
    },
    {
      "cell_type": "code",
      "source": [
        "a=\"Krishna\"\n",
        "a[-1:-7:-1]"
      ],
      "metadata": {
        "id": "TgUyO5--sxYV",
        "colab": {
          "base_uri": "https://localhost:8080/",
          "height": 36
        },
        "outputId": "901e0534-611a-49f9-b63c-5f7d5a6b1841"
      },
      "execution_count": null,
      "outputs": [
        {
          "output_type": "execute_result",
          "data": {
            "text/plain": [
              "'anhsir'"
            ],
            "application/vnd.google.colaboratory.intrinsic+json": {
              "type": "string"
            }
          },
          "metadata": {},
          "execution_count": 2
        }
      ]
    },
    {
      "cell_type": "code",
      "source": [
        "print(a[-1:-7:])"
      ],
      "metadata": {
        "colab": {
          "base_uri": "https://localhost:8080/"
        },
        "id": "WUL2KYTnaHqd",
        "outputId": "6c66ca28-178c-42dd-8b58-0a09ca9482ba"
      },
      "execution_count": null,
      "outputs": [
        {
          "output_type": "stream",
          "name": "stdout",
          "text": [
            "\n"
          ]
        }
      ]
    },
    {
      "cell_type": "markdown",
      "source": [
        "# concatination"
      ],
      "metadata": {
        "id": "Gu6reXleehbx"
      }
    },
    {
      "cell_type": "code",
      "source": [
        "a=\"Krishna\"\n",
        "b=\"Prajapati\"\n",
        "\n",
        "print(a+\" \"+b)"
      ],
      "metadata": {
        "colab": {
          "base_uri": "https://localhost:8080/"
        },
        "id": "_JqumkjAenMj",
        "outputId": "615c287a-e016-46dd-9ef5-b80d9e746cfa"
      },
      "execution_count": null,
      "outputs": [
        {
          "output_type": "stream",
          "name": "stdout",
          "text": [
            "Krishna Prajapati\n"
          ]
        }
      ]
    },
    {
      "cell_type": "code",
      "source": [
        "print(a*5.0)"
      ],
      "metadata": {
        "colab": {
          "base_uri": "https://localhost:8080/",
          "height": 171
        },
        "id": "-YJBloHfe-qY",
        "outputId": "6895da08-9c6c-46b0-c03d-f66840e0a6cb"
      },
      "execution_count": null,
      "outputs": [
        {
          "output_type": "error",
          "ename": "TypeError",
          "evalue": "ignored",
          "traceback": [
            "\u001b[0;31m---------------------------------------------------------------------------\u001b[0m",
            "\u001b[0;31mTypeError\u001b[0m                                 Traceback (most recent call last)",
            "\u001b[0;32m<ipython-input-10-e184828284d8>\u001b[0m in \u001b[0;36m<module>\u001b[0;34m()\u001b[0m\n\u001b[0;32m----> 1\u001b[0;31m \u001b[0mprint\u001b[0m\u001b[0;34m(\u001b[0m\u001b[0ma\u001b[0m\u001b[0;34m*\u001b[0m\u001b[0;36m5.0\u001b[0m\u001b[0;34m)\u001b[0m\u001b[0;34m\u001b[0m\u001b[0;34m\u001b[0m\u001b[0m\n\u001b[0m",
            "\u001b[0;31mTypeError\u001b[0m: can't multiply sequence by non-int of type 'float'"
          ]
        }
      ]
    },
    {
      "cell_type": "markdown",
      "source": [
        "# list\n",
        "\n",
        "list is a set of sequence of element(s)\n",
        "\n",
        "list is mutable\n",
        "\n",
        "list constructor is list()\n",
        "\n",
        "list literal(to create empty list fast) is \"[ ]\"\n",
        "\n",
        "list support indexing\n",
        "\n",
        "list support slicing "
      ],
      "metadata": {
        "id": "JrE3s40ybiJP"
      }
    },
    {
      "cell_type": "code",
      "source": [
        "a=[]"
      ],
      "metadata": {
        "id": "WTzE-as0d1L7"
      },
      "execution_count": null,
      "outputs": []
    },
    {
      "cell_type": "code",
      "source": [
        "a"
      ],
      "metadata": {
        "colab": {
          "base_uri": "https://localhost:8080/"
        },
        "id": "vuQr35NUgli3",
        "outputId": "aacc571f-8d10-4867-fb27-c4aedd3ad6d0"
      },
      "execution_count": null,
      "outputs": [
        {
          "output_type": "execute_result",
          "data": {
            "text/plain": [
              "[]"
            ]
          },
          "metadata": {},
          "execution_count": 16
        }
      ]
    },
    {
      "cell_type": "code",
      "source": [
        "b=list()"
      ],
      "metadata": {
        "id": "RrtSEFNjhh76"
      },
      "execution_count": null,
      "outputs": []
    },
    {
      "cell_type": "code",
      "source": [
        "b"
      ],
      "metadata": {
        "colab": {
          "base_uri": "https://localhost:8080/"
        },
        "id": "uqWv8Rmmh3ea",
        "outputId": "d0709bc5-ec0b-4e22-96d5-8f8e51608c56"
      },
      "execution_count": null,
      "outputs": [
        {
          "output_type": "execute_result",
          "data": {
            "text/plain": [
              "[]"
            ]
          },
          "metadata": {},
          "execution_count": 21
        }
      ]
    },
    {
      "cell_type": "code",
      "source": [
        "c=[1,\"krishna\",1.0]"
      ],
      "metadata": {
        "id": "k9BaYv8wh5f5"
      },
      "execution_count": null,
      "outputs": []
    },
    {
      "cell_type": "code",
      "source": [
        "c"
      ],
      "metadata": {
        "colab": {
          "base_uri": "https://localhost:8080/"
        },
        "id": "7NlLVue8iFp6",
        "outputId": "fd374b34-e2bf-402b-af35-9e6f9cb97c42"
      },
      "execution_count": null,
      "outputs": [
        {
          "output_type": "execute_result",
          "data": {
            "text/plain": [
              "[1, 'krishna', 1.0]"
            ]
          },
          "metadata": {},
          "execution_count": 23
        }
      ]
    },
    {
      "cell_type": "code",
      "source": [
        "print(c[1])"
      ],
      "metadata": {
        "colab": {
          "base_uri": "https://localhost:8080/"
        },
        "id": "m-f4DFryiGkq",
        "outputId": "81fb3dc6-dbc3-46c3-f7be-fa517fb872de"
      },
      "execution_count": null,
      "outputs": [
        {
          "output_type": "stream",
          "name": "stdout",
          "text": [
            "krishna\n"
          ]
        }
      ]
    },
    {
      "cell_type": "code",
      "source": [
        "c"
      ],
      "metadata": {
        "colab": {
          "base_uri": "https://localhost:8080/"
        },
        "id": "xOAeaEzbiiuq",
        "outputId": "006ba251-e5c3-4e33-bc24-0e4ba69a30a9"
      },
      "execution_count": null,
      "outputs": [
        {
          "output_type": "execute_result",
          "data": {
            "text/plain": [
              "[1, 'krishna', 1.0]"
            ]
          },
          "metadata": {},
          "execution_count": 25
        }
      ]
    },
    {
      "cell_type": "code",
      "source": [
        "print(c[1][5])"
      ],
      "metadata": {
        "colab": {
          "base_uri": "https://localhost:8080/"
        },
        "id": "N6EJZAvBircM",
        "outputId": "dc3ede24-a089-4013-a941-049ffebe8cc1"
      },
      "execution_count": null,
      "outputs": [
        {
          "output_type": "stream",
          "name": "stdout",
          "text": [
            "n\n"
          ]
        }
      ]
    },
    {
      "cell_type": "code",
      "source": [
        "d=[1,2,3,4,[3,1,[\"k\",\"r\",'i'],4,6],3,4,5]"
      ],
      "metadata": {
        "id": "XBa4EZifi3eZ"
      },
      "execution_count": null,
      "outputs": []
    },
    {
      "cell_type": "code",
      "source": [
        "d[4][2][1]  "
      ],
      "metadata": {
        "colab": {
          "base_uri": "https://localhost:8080/",
          "height": 36
        },
        "id": "hQ4maF7OkAK6",
        "outputId": "fbe9b5a1-72da-4f5a-d0cf-0c5d38aea7ab"
      },
      "execution_count": null,
      "outputs": [
        {
          "output_type": "execute_result",
          "data": {
            "text/plain": [
              "'r'"
            ],
            "application/vnd.google.colaboratory.intrinsic+json": {
              "type": "string"
            }
          },
          "metadata": {},
          "execution_count": 31
        }
      ]
    },
    {
      "cell_type": "code",
      "source": [
        "print(d[2:6:1])"
      ],
      "metadata": {
        "colab": {
          "base_uri": "https://localhost:8080/"
        },
        "id": "QvjRsu8qkJNZ",
        "outputId": "81989596-421b-462f-e06e-d2b710b1c851"
      },
      "execution_count": null,
      "outputs": [
        {
          "output_type": "stream",
          "name": "stdout",
          "text": [
            "[3, 4, [3, 1, ['k', 'r', 'i'], 4, 6], 3]\n"
          ]
        }
      ]
    },
    {
      "cell_type": "code",
      "source": [
        "a=d[3]\n",
        "b=d[4][2][2]"
      ],
      "metadata": {
        "id": "U7k_Q2V9l76K"
      },
      "execution_count": null,
      "outputs": []
    },
    {
      "cell_type": "code",
      "source": [
        "print(d[[3]:[4][2][2]])"
      ],
      "metadata": {
        "colab": {
          "base_uri": "https://localhost:8080/",
          "height": 171
        },
        "id": "7ZObaSeqmtVE",
        "outputId": "90fd79ce-ebd7-4f18-d9e6-610702303f6c"
      },
      "execution_count": null,
      "outputs": [
        {
          "output_type": "error",
          "ename": "IndexError",
          "evalue": "ignored",
          "traceback": [
            "\u001b[0;31m---------------------------------------------------------------------------\u001b[0m",
            "\u001b[0;31mIndexError\u001b[0m                                Traceback (most recent call last)",
            "\u001b[0;32m<ipython-input-37-e0f5c5b08081>\u001b[0m in \u001b[0;36m<module>\u001b[0;34m()\u001b[0m\n\u001b[0;32m----> 1\u001b[0;31m \u001b[0mprint\u001b[0m\u001b[0;34m(\u001b[0m\u001b[0md\u001b[0m\u001b[0;34m[\u001b[0m\u001b[0;34m[\u001b[0m\u001b[0;36m3\u001b[0m\u001b[0;34m]\u001b[0m\u001b[0;34m:\u001b[0m\u001b[0;34m[\u001b[0m\u001b[0;36m4\u001b[0m\u001b[0;34m]\u001b[0m\u001b[0;34m[\u001b[0m\u001b[0;36m2\u001b[0m\u001b[0;34m]\u001b[0m\u001b[0;34m[\u001b[0m\u001b[0;36m2\u001b[0m\u001b[0;34m]\u001b[0m\u001b[0;34m]\u001b[0m\u001b[0;34m)\u001b[0m\u001b[0;34m\u001b[0m\u001b[0;34m\u001b[0m\u001b[0m\n\u001b[0m",
            "\u001b[0;31mIndexError\u001b[0m: list index out of range"
          ]
        }
      ]
    },
    {
      "cell_type": "code",
      "source": [
        "d"
      ],
      "metadata": {
        "colab": {
          "base_uri": "https://localhost:8080/"
        },
        "id": "wUWLxZSRna7J",
        "outputId": "0a1f9582-f8f1-42c4-dbc8-d9e90b78a279"
      },
      "execution_count": null,
      "outputs": [
        {
          "output_type": "execute_result",
          "data": {
            "text/plain": [
              "[1, 2, 3, 4, [3, 1, ['k', 'r', 'i'], 4, 6], 3, 4, 5]"
            ]
          },
          "metadata": {},
          "execution_count": 40
        }
      ]
    },
    {
      "cell_type": "code",
      "source": [
        "print(type(d))"
      ],
      "metadata": {
        "colab": {
          "base_uri": "https://localhost:8080/"
        },
        "id": "1C3w1BVjn7CK",
        "outputId": "c823e314-e606-44db-ce72-e3da197d7013"
      },
      "execution_count": null,
      "outputs": [
        {
          "output_type": "stream",
          "name": "stdout",
          "text": [
            "<class 'list'>\n"
          ]
        }
      ]
    },
    {
      "cell_type": "code",
      "source": [
        "d.append(1)"
      ],
      "metadata": {
        "id": "WExPJ2r_oCBZ"
      },
      "execution_count": null,
      "outputs": []
    },
    {
      "cell_type": "code",
      "source": [
        "d"
      ],
      "metadata": {
        "colab": {
          "base_uri": "https://localhost:8080/"
        },
        "id": "_FukPMACo3a5",
        "outputId": "7a288ce0-b25c-4a7c-fd9b-e0341533e0e7"
      },
      "execution_count": null,
      "outputs": [
        {
          "output_type": "execute_result",
          "data": {
            "text/plain": [
              "[1, 2, 3, 4, [3, 1, ['k', 'r', 'i'], 4, 6], 3, 4, 5, 1]"
            ]
          },
          "metadata": {},
          "execution_count": 43
        }
      ]
    },
    {
      "cell_type": "code",
      "source": [
        "a=\"Krishna\""
      ],
      "metadata": {
        "id": "-oAyFPjEo4wp"
      },
      "execution_count": null,
      "outputs": []
    },
    {
      "cell_type": "code",
      "source": [
        "d.append(1,2)"
      ],
      "metadata": {
        "colab": {
          "base_uri": "https://localhost:8080/",
          "height": 171
        },
        "id": "H0n4BxWupIuo",
        "outputId": "22794c5f-b1bc-4ac0-f3cc-012b09b2d9f0"
      },
      "execution_count": null,
      "outputs": [
        {
          "output_type": "error",
          "ename": "TypeError",
          "evalue": "ignored",
          "traceback": [
            "\u001b[0;31m---------------------------------------------------------------------------\u001b[0m",
            "\u001b[0;31mTypeError\u001b[0m                                 Traceback (most recent call last)",
            "\u001b[0;32m<ipython-input-45-6090ed45b793>\u001b[0m in \u001b[0;36m<module>\u001b[0;34m()\u001b[0m\n\u001b[0;32m----> 1\u001b[0;31m \u001b[0md\u001b[0m\u001b[0;34m.\u001b[0m\u001b[0mappend\u001b[0m\u001b[0;34m(\u001b[0m\u001b[0;36m1\u001b[0m\u001b[0;34m,\u001b[0m\u001b[0;36m2\u001b[0m\u001b[0;34m)\u001b[0m\u001b[0;34m\u001b[0m\u001b[0;34m\u001b[0m\u001b[0m\n\u001b[0m",
            "\u001b[0;31mTypeError\u001b[0m: append() takes exactly one argument (2 given)"
          ]
        }
      ]
    },
    {
      "cell_type": "code",
      "source": [
        "d.append([1,2])"
      ],
      "metadata": {
        "id": "Gj5StUihqK36"
      },
      "execution_count": null,
      "outputs": []
    },
    {
      "cell_type": "code",
      "source": [
        "d"
      ],
      "metadata": {
        "colab": {
          "base_uri": "https://localhost:8080/"
        },
        "id": "2byVhnLpqYgY",
        "outputId": "7c4da5ec-3b1e-4be1-f40d-f7142215d31c"
      },
      "execution_count": null,
      "outputs": [
        {
          "output_type": "execute_result",
          "data": {
            "text/plain": [
              "[1, 2, 3, 4, [3, 1, ['k', 'r', 'i'], 4, 6], 3, 4, 5, 1, [1, 2]]"
            ]
          },
          "metadata": {},
          "execution_count": 47
        }
      ]
    },
    {
      "cell_type": "code",
      "source": [
        "n=[1,2,3,4]"
      ],
      "metadata": {
        "id": "9y7PsAoJqZvY"
      },
      "execution_count": null,
      "outputs": []
    },
    {
      "cell_type": "code",
      "source": [
        "m=n"
      ],
      "metadata": {
        "id": "xWFGe4EuqpBZ"
      },
      "execution_count": null,
      "outputs": []
    },
    {
      "cell_type": "code",
      "source": [
        "m"
      ],
      "metadata": {
        "colab": {
          "base_uri": "https://localhost:8080/"
        },
        "id": "gTb_W8ZMqrLq",
        "outputId": "295f46b9-9192-4d05-c1b0-82b7295179c8"
      },
      "execution_count": null,
      "outputs": [
        {
          "output_type": "execute_result",
          "data": {
            "text/plain": [
              "[1, 2, 3, 4]"
            ]
          },
          "metadata": {},
          "execution_count": 50
        }
      ]
    },
    {
      "cell_type": "code",
      "source": [
        "m.append(1999)"
      ],
      "metadata": {
        "id": "nzMRoyk-qsep"
      },
      "execution_count": null,
      "outputs": []
    },
    {
      "cell_type": "code",
      "source": [
        "m"
      ],
      "metadata": {
        "colab": {
          "base_uri": "https://localhost:8080/"
        },
        "id": "-KSL1L09qyTZ",
        "outputId": "2b1e3e89-5728-48de-e88e-08517f3236fc"
      },
      "execution_count": null,
      "outputs": [
        {
          "output_type": "execute_result",
          "data": {
            "text/plain": [
              "[1, 2, 3, 4, 1999]"
            ]
          },
          "metadata": {},
          "execution_count": 52
        }
      ]
    },
    {
      "cell_type": "code",
      "source": [
        "n"
      ],
      "metadata": {
        "colab": {
          "base_uri": "https://localhost:8080/"
        },
        "id": "JK4eqxq5qy6Z",
        "outputId": "0d1359a9-828d-4107-dc6a-1b4d43b4683a"
      },
      "execution_count": null,
      "outputs": [
        {
          "output_type": "execute_result",
          "data": {
            "text/plain": [
              "[1, 2, 3, 4, 1999]"
            ]
          },
          "metadata": {},
          "execution_count": 53
        }
      ]
    },
    {
      "cell_type": "code",
      "source": [
        "n"
      ],
      "metadata": {
        "colab": {
          "base_uri": "https://localhost:8080/"
        },
        "id": "1APsylXhq0BY",
        "outputId": "c6b10ca9-04e2-4422-aba1-1fc765db45ca"
      },
      "execution_count": null,
      "outputs": [
        {
          "output_type": "execute_result",
          "data": {
            "text/plain": [
              "[1, 2, 3, 4, 1999]"
            ]
          },
          "metadata": {},
          "execution_count": 54
        }
      ]
    },
    {
      "cell_type": "code",
      "source": [
        "m=n.copy()"
      ],
      "metadata": {
        "id": "8LM6rwLTq9ho"
      },
      "execution_count": null,
      "outputs": []
    },
    {
      "cell_type": "code",
      "source": [
        "m"
      ],
      "metadata": {
        "id": "bW9_ksqsrEW4",
        "outputId": "4741f551-1e4e-45f7-f6ba-f31c40f7e6d1",
        "colab": {
          "base_uri": "https://localhost:8080/"
        }
      },
      "execution_count": null,
      "outputs": [
        {
          "output_type": "execute_result",
          "data": {
            "text/plain": [
              "[1, 2, 3, 4, 1999]"
            ]
          },
          "metadata": {},
          "execution_count": 56
        }
      ]
    },
    {
      "cell_type": "code",
      "source": [
        "m.append(10000000)"
      ],
      "metadata": {
        "id": "Jc98PxLZrE_Z"
      },
      "execution_count": null,
      "outputs": []
    },
    {
      "cell_type": "code",
      "source": [
        "m"
      ],
      "metadata": {
        "id": "811tdQdfrIUY",
        "outputId": "409ba971-e815-4cb0-ce4b-7fe78e756b3a",
        "colab": {
          "base_uri": "https://localhost:8080/"
        }
      },
      "execution_count": null,
      "outputs": [
        {
          "output_type": "execute_result",
          "data": {
            "text/plain": [
              "[1, 2, 3, 4, 1999, 10000000]"
            ]
          },
          "metadata": {},
          "execution_count": 58
        }
      ]
    },
    {
      "cell_type": "code",
      "source": [
        "n"
      ],
      "metadata": {
        "id": "MdRFr3vkrIuL",
        "outputId": "1a27caf0-5664-4fef-f47b-31f39b99736f",
        "colab": {
          "base_uri": "https://localhost:8080/"
        }
      },
      "execution_count": null,
      "outputs": [
        {
          "output_type": "execute_result",
          "data": {
            "text/plain": [
              "[1, 2, 3, 4, 1999]"
            ]
          },
          "metadata": {},
          "execution_count": 59
        }
      ]
    },
    {
      "cell_type": "markdown",
      "source": [
        "# Tuple\n",
        "\n",
        "tuple is immutable \n",
        "\n",
        "tuple is a set of sequence of elements\n",
        "\n",
        "tuple constructor is tuple()\n",
        "\n",
        "tuple literal is ()\n",
        "\n",
        "tuple is faster then list\n",
        "\n",
        "tuple support indexing\n",
        "\n",
        "tuple support slicing\n"
      ],
      "metadata": {
        "id": "knWC8r9FrJ7t"
      }
    },
    {
      "cell_type": "code",
      "source": [
        "tup1= ()   #tuple literal is ()"
      ],
      "metadata": {
        "id": "m8NDADuKauV-"
      },
      "execution_count": null,
      "outputs": []
    },
    {
      "cell_type": "code",
      "source": [
        "print(tup1)    "
      ],
      "metadata": {
        "colab": {
          "base_uri": "https://localhost:8080/"
        },
        "id": "sdY0zLXubN5X",
        "outputId": "ce6185c8-8ab1-4a80-e96a-61aadd2600e6"
      },
      "execution_count": null,
      "outputs": [
        {
          "output_type": "stream",
          "name": "stdout",
          "text": [
            "()\n"
          ]
        }
      ]
    },
    {
      "cell_type": "code",
      "source": [
        "print(type(tup1))"
      ],
      "metadata": {
        "colab": {
          "base_uri": "https://localhost:8080/"
        },
        "id": "9fVVGUJabO4F",
        "outputId": "49990aa9-c577-4b93-9736-ade8bd979390"
      },
      "execution_count": null,
      "outputs": [
        {
          "output_type": "stream",
          "name": "stdout",
          "text": [
            "<class 'tuple'>\n"
          ]
        }
      ]
    },
    {
      "cell_type": "code",
      "source": [
        "tup2=tuple()     #tuple constructor is tuple()\n",
        "\n",
        "print(tup2)"
      ],
      "metadata": {
        "colab": {
          "base_uri": "https://localhost:8080/"
        },
        "id": "iYoLSLLjbZWk",
        "outputId": "73467bba-50fa-4f3d-af26-5c7f29a078e4"
      },
      "execution_count": null,
      "outputs": [
        {
          "output_type": "stream",
          "name": "stdout",
          "text": [
            "()\n"
          ]
        }
      ]
    },
    {
      "cell_type": "code",
      "source": [
        "print(type(tup2))"
      ],
      "metadata": {
        "colab": {
          "base_uri": "https://localhost:8080/"
        },
        "id": "O8ePhZhNbzek",
        "outputId": "77244c6b-335e-47ba-c041-812eb95625ec"
      },
      "execution_count": null,
      "outputs": [
        {
          "output_type": "stream",
          "name": "stdout",
          "text": [
            "<class 'tuple'>\n"
          ]
        }
      ]
    },
    {
      "cell_type": "code",
      "source": [
        "tup3=(1,2,3,4)"
      ],
      "metadata": {
        "id": "HYVhHAypb4bk"
      },
      "execution_count": null,
      "outputs": []
    },
    {
      "cell_type": "code",
      "source": [
        "print(tup3)"
      ],
      "metadata": {
        "colab": {
          "base_uri": "https://localhost:8080/"
        },
        "id": "u-OWzm69c-c0",
        "outputId": "7f81db0a-1c1c-4a5d-f5ea-a68d085222ad"
      },
      "execution_count": null,
      "outputs": [
        {
          "output_type": "stream",
          "name": "stdout",
          "text": [
            "(1, 2, 3, 4)\n"
          ]
        }
      ]
    },
    {
      "cell_type": "code",
      "source": [
        "print(tup3[0])"
      ],
      "metadata": {
        "colab": {
          "base_uri": "https://localhost:8080/"
        },
        "id": "-a9dJ9fKdHzU",
        "outputId": "6db9cd6c-2806-477e-e9a5-262c2ff38b81"
      },
      "execution_count": null,
      "outputs": [
        {
          "output_type": "stream",
          "name": "stdout",
          "text": [
            "1\n"
          ]
        }
      ]
    },
    {
      "cell_type": "code",
      "source": [
        "print(tup3[-1])"
      ],
      "metadata": {
        "colab": {
          "base_uri": "https://localhost:8080/"
        },
        "id": "WpVZWdppdpuF",
        "outputId": "35fc548a-61dc-43b0-a2ab-8be1a42efdc0"
      },
      "execution_count": null,
      "outputs": [
        {
          "output_type": "stream",
          "name": "stdout",
          "text": [
            "4\n"
          ]
        }
      ]
    },
    {
      "cell_type": "code",
      "source": [
        "tup4=(1,2,3,(5,3,2,2),245,6)"
      ],
      "metadata": {
        "id": "2paF5VS-eGBT"
      },
      "execution_count": null,
      "outputs": []
    },
    {
      "cell_type": "code",
      "source": [
        "print(tup4[3][2]) #tuple support indexing"
      ],
      "metadata": {
        "colab": {
          "base_uri": "https://localhost:8080/"
        },
        "id": "oElExWhueoWl",
        "outputId": "9166b5e0-e9c9-41a4-f662-90f43afae1cd"
      },
      "execution_count": null,
      "outputs": [
        {
          "output_type": "stream",
          "name": "stdout",
          "text": [
            "2\n"
          ]
        }
      ]
    },
    {
      "cell_type": "code",
      "source": [
        "tup5=[i for i in range(20,50,2)]"
      ],
      "metadata": {
        "id": "1YnUdVyofDrz"
      },
      "execution_count": null,
      "outputs": []
    },
    {
      "cell_type": "code",
      "source": [
        "tup6=tuple(tup5)   #using tuple constructor i am creating a list into tuple"
      ],
      "metadata": {
        "id": "nOF_-fEMfUcj"
      },
      "execution_count": null,
      "outputs": []
    },
    {
      "cell_type": "code",
      "source": [
        "print(tup6)"
      ],
      "metadata": {
        "colab": {
          "base_uri": "https://localhost:8080/"
        },
        "id": "8b92_iBWfVdD",
        "outputId": "c37ccb8d-0a9b-4963-9401-2ecc28edf433"
      },
      "execution_count": null,
      "outputs": [
        {
          "output_type": "stream",
          "name": "stdout",
          "text": [
            "(20, 22, 24, 26, 28, 30, 32, 34, 36, 38, 40, 42, 44, 46, 48)\n"
          ]
        }
      ]
    },
    {
      "cell_type": "code",
      "source": [
        "#tuple support slicing\n",
        "print(tup6[2:9:1])   #slicing_variable_name[start:endpoint+1:stepping]"
      ],
      "metadata": {
        "colab": {
          "base_uri": "https://localhost:8080/"
        },
        "id": "slu0lfdGgHv4",
        "outputId": "6b9453e0-1445-454c-df09-2dfc477376ae"
      },
      "execution_count": null,
      "outputs": [
        {
          "output_type": "stream",
          "name": "stdout",
          "text": [
            "(24, 26, 28, 30, 32, 34, 36)\n"
          ]
        }
      ]
    },
    {
      "cell_type": "code",
      "source": [
        "print(tup6[0:1000000000000:1])"
      ],
      "metadata": {
        "colab": {
          "base_uri": "https://localhost:8080/"
        },
        "id": "amnav0ashZCg",
        "outputId": "7fede103-b7bf-4e57-869b-4db1d811f95d"
      },
      "execution_count": null,
      "outputs": [
        {
          "output_type": "stream",
          "name": "stdout",
          "text": [
            "(20, 22, 24, 26, 28, 30, 32, 34, 36, 38, 40, 42, 44, 46, 48)\n"
          ]
        }
      ]
    },
    {
      "cell_type": "code",
      "source": [
        "print(tup6[::])"
      ],
      "metadata": {
        "colab": {
          "base_uri": "https://localhost:8080/"
        },
        "id": "GMT7qjXeihWb",
        "outputId": "99089994-bd6d-4b47-a913-7eb2bf641773"
      },
      "execution_count": null,
      "outputs": [
        {
          "output_type": "stream",
          "name": "stdout",
          "text": [
            "(20, 22, 24, 26, 28, 30, 32, 34, 36, 38, 40, 42, 44, 46, 48)\n"
          ]
        }
      ]
    },
    {
      "cell_type": "code",
      "source": [
        "print(tup6[0::])"
      ],
      "metadata": {
        "colab": {
          "base_uri": "https://localhost:8080/"
        },
        "id": "dYczqaouiv5o",
        "outputId": "e86e0155-c512-4a79-cb26-0484d787c8bc"
      },
      "execution_count": null,
      "outputs": [
        {
          "output_type": "stream",
          "name": "stdout",
          "text": [
            "(20, 22, 24, 26, 28, 30, 32, 34, 36, 38, 40, 42, 44, 46, 48)\n"
          ]
        }
      ]
    },
    {
      "cell_type": "code",
      "source": [
        "print(tup6[::1])"
      ],
      "metadata": {
        "colab": {
          "base_uri": "https://localhost:8080/"
        },
        "id": "UQXbRmfEizI0",
        "outputId": "043c3fbd-9f39-4c30-cb54-57ea3caf0507"
      },
      "execution_count": null,
      "outputs": [
        {
          "output_type": "stream",
          "name": "stdout",
          "text": [
            "(20, 22, 24, 26, 28, 30, 32, 34, 36, 38, 40, 42, 44, 46, 48)\n"
          ]
        }
      ]
    },
    {
      "cell_type": "code",
      "source": [
        "print(tup6[15::])"
      ],
      "metadata": {
        "colab": {
          "base_uri": "https://localhost:8080/"
        },
        "id": "b39M9zl7jJPE",
        "outputId": "3c02889b-ba6d-4ee9-aa83-3aa279c9be84"
      },
      "execution_count": null,
      "outputs": [
        {
          "output_type": "stream",
          "name": "stdout",
          "text": [
            "()\n"
          ]
        }
      ]
    },
    {
      "cell_type": "code",
      "source": [
        "tup5"
      ],
      "metadata": {
        "colab": {
          "base_uri": "https://localhost:8080/"
        },
        "id": "NRAS8k__jO60",
        "outputId": "a136c057-ac83-464d-f81c-913cd359b0e5"
      },
      "execution_count": null,
      "outputs": [
        {
          "output_type": "execute_result",
          "data": {
            "text/plain": [
              "[20, 22, 24, 26, 28, 30, 32, 34, 36, 38, 40, 42, 44, 46, 48]"
            ]
          },
          "metadata": {},
          "execution_count": 52
        }
      ]
    },
    {
      "cell_type": "code",
      "source": [
        "tup6"
      ],
      "metadata": {
        "colab": {
          "base_uri": "https://localhost:8080/"
        },
        "id": "4TYOx2C9jyLV",
        "outputId": "6ef0a38a-fee3-4423-b006-f9b7c4621161"
      },
      "execution_count": null,
      "outputs": [
        {
          "output_type": "execute_result",
          "data": {
            "text/plain": [
              "(20, 22, 24, 26, 28, 30, 32, 34, 36, 38, 40, 42, 44, 46, 48)"
            ]
          },
          "metadata": {},
          "execution_count": 53
        }
      ]
    },
    {
      "cell_type": "code",
      "source": [
        "tup6.count(22)"
      ],
      "metadata": {
        "colab": {
          "base_uri": "https://localhost:8080/"
        },
        "id": "VTv-Coc2kVMD",
        "outputId": "141cd2c1-0414-4eaa-a483-0ea01df39e1a"
      },
      "execution_count": null,
      "outputs": [
        {
          "output_type": "execute_result",
          "data": {
            "text/plain": [
              "1"
            ]
          },
          "metadata": {},
          "execution_count": 54
        }
      ]
    },
    {
      "cell_type": "code",
      "source": [
        "tup6.index(22)"
      ],
      "metadata": {
        "colab": {
          "base_uri": "https://localhost:8080/"
        },
        "id": "L0XrIrF9kdVG",
        "outputId": "dea37cb5-f312-4296-9a0c-c142f543a894"
      },
      "execution_count": null,
      "outputs": [
        {
          "output_type": "execute_result",
          "data": {
            "text/plain": [
              "1"
            ]
          },
          "metadata": {},
          "execution_count": 55
        }
      ]
    },
    {
      "cell_type": "code",
      "source": [
        "tup7=list(tup6)"
      ],
      "metadata": {
        "id": "FY2n2PWqkiHj"
      },
      "execution_count": null,
      "outputs": []
    },
    {
      "cell_type": "code",
      "source": [
        "tup7"
      ],
      "metadata": {
        "colab": {
          "base_uri": "https://localhost:8080/"
        },
        "id": "3rErkC-_krRV",
        "outputId": "5985b4bb-9f26-4cdc-bbc2-f88b2d5f4909"
      },
      "execution_count": null,
      "outputs": [
        {
          "output_type": "execute_result",
          "data": {
            "text/plain": [
              "[20, 22, 24, 26, 28, 30, 32, 34, 36, 38, 40, 42, 44, 46, 48]"
            ]
          },
          "metadata": {},
          "execution_count": 57
        }
      ]
    },
    {
      "cell_type": "code",
      "source": [
        "tup7.append(49)"
      ],
      "metadata": {
        "id": "4BhApNF-kuS1"
      },
      "execution_count": null,
      "outputs": []
    },
    {
      "cell_type": "code",
      "source": [
        "tup7"
      ],
      "metadata": {
        "colab": {
          "base_uri": "https://localhost:8080/"
        },
        "id": "EzA--GhHkzxl",
        "outputId": "94490dba-0f37-47f0-d383-bdef9c5ff2aa"
      },
      "execution_count": null,
      "outputs": [
        {
          "output_type": "execute_result",
          "data": {
            "text/plain": [
              "[20, 22, 24, 26, 28, 30, 32, 34, 36, 38, 40, 42, 44, 46, 48, 49]"
            ]
          },
          "metadata": {},
          "execution_count": 59
        }
      ]
    },
    {
      "cell_type": "code",
      "source": [
        "tup6=tuple(tup7)"
      ],
      "metadata": {
        "id": "P8vrH_Hrk0XF"
      },
      "execution_count": null,
      "outputs": []
    },
    {
      "cell_type": "code",
      "source": [
        "tup6"
      ],
      "metadata": {
        "colab": {
          "base_uri": "https://localhost:8080/"
        },
        "id": "JpJlvdCOk67s",
        "outputId": "247295da-4a8c-4aab-e033-7da9de773ae8"
      },
      "execution_count": null,
      "outputs": [
        {
          "output_type": "execute_result",
          "data": {
            "text/plain": [
              "(20, 22, 24, 26, 28, 30, 32, 34, 36, 38, 40, 42, 44, 46, 48, 49)"
            ]
          },
          "metadata": {},
          "execution_count": 61
        }
      ]
    },
    {
      "cell_type": "markdown",
      "source": [
        "# set\n",
        "\n",
        "set is unorder set of sequence of elements.\n",
        "\n",
        "set constructor set()\n",
        "\n",
        "set use hashing table.\n",
        "\n",
        "set doesnot support duplicate values\n",
        "\n",
        "set doesnot contain immutable datatype\n",
        "\n"
      ],
      "metadata": {
        "id": "Co33mdrEk7rk"
      }
    },
    {
      "cell_type": "code",
      "source": [
        "set1=set()"
      ],
      "metadata": {
        "id": "yHiXugW1lJC3"
      },
      "execution_count": null,
      "outputs": []
    },
    {
      "cell_type": "code",
      "source": [
        "print(set1)"
      ],
      "metadata": {
        "colab": {
          "base_uri": "https://localhost:8080/"
        },
        "id": "cvQiIFuymHQQ",
        "outputId": "ca991baf-ab06-4537-a48b-f3630120ff1e"
      },
      "execution_count": null,
      "outputs": [
        {
          "output_type": "stream",
          "name": "stdout",
          "text": [
            "set()\n"
          ]
        }
      ]
    },
    {
      "cell_type": "code",
      "source": [
        "set2={1}"
      ],
      "metadata": {
        "id": "QbhTIWlhmI-5"
      },
      "execution_count": null,
      "outputs": []
    },
    {
      "cell_type": "code",
      "source": [
        "print(set2)"
      ],
      "metadata": {
        "colab": {
          "base_uri": "https://localhost:8080/"
        },
        "id": "ptVthzMbmUCU",
        "outputId": "d045f654-5a60-4018-c0bf-a9e19fc19f56"
      },
      "execution_count": null,
      "outputs": [
        {
          "output_type": "stream",
          "name": "stdout",
          "text": [
            "{1}\n"
          ]
        }
      ]
    },
    {
      "cell_type": "code",
      "source": [
        "print(type(set2))"
      ],
      "metadata": {
        "colab": {
          "base_uri": "https://localhost:8080/"
        },
        "id": "nqeeDne4mU50",
        "outputId": "a45dfe90-8c28-48e6-d420-843e4a0cdaad"
      },
      "execution_count": null,
      "outputs": [
        {
          "output_type": "stream",
          "name": "stdout",
          "text": [
            "<class 'set'>\n"
          ]
        }
      ]
    },
    {
      "cell_type": "code",
      "source": [
        "set2.add(2)"
      ],
      "metadata": {
        "id": "uhNupTFvmYdE"
      },
      "execution_count": null,
      "outputs": []
    },
    {
      "cell_type": "code",
      "source": [
        "set2"
      ],
      "metadata": {
        "colab": {
          "base_uri": "https://localhost:8080/"
        },
        "id": "BHiSO9iAmlGj",
        "outputId": "a48f7f17-0ffd-4e8d-c94f-ea2dd85ec718"
      },
      "execution_count": null,
      "outputs": [
        {
          "output_type": "execute_result",
          "data": {
            "text/plain": [
              "{1, 2}"
            ]
          },
          "metadata": {},
          "execution_count": 68
        }
      ]
    },
    {
      "cell_type": "code",
      "source": [
        "set2.add({1,2})"
      ],
      "metadata": {
        "colab": {
          "base_uri": "https://localhost:8080/",
          "height": 171
        },
        "id": "AzY8-Mpempn0",
        "outputId": "0be19642-2387-4254-8116-86374d455bbb"
      },
      "execution_count": null,
      "outputs": [
        {
          "output_type": "error",
          "ename": "TypeError",
          "evalue": "ignored",
          "traceback": [
            "\u001b[0;31m---------------------------------------------------------------------------\u001b[0m",
            "\u001b[0;31mTypeError\u001b[0m                                 Traceback (most recent call last)",
            "\u001b[0;32m<ipython-input-70-b9335ddb9126>\u001b[0m in \u001b[0;36m<module>\u001b[0;34m()\u001b[0m\n\u001b[0;32m----> 1\u001b[0;31m \u001b[0mset2\u001b[0m\u001b[0;34m.\u001b[0m\u001b[0madd\u001b[0m\u001b[0;34m(\u001b[0m\u001b[0;34m{\u001b[0m\u001b[0;36m1\u001b[0m\u001b[0;34m,\u001b[0m\u001b[0;36m2\u001b[0m\u001b[0;34m}\u001b[0m\u001b[0;34m)\u001b[0m\u001b[0;34m\u001b[0m\u001b[0;34m\u001b[0m\u001b[0m\n\u001b[0m",
            "\u001b[0;31mTypeError\u001b[0m: unhashable type: 'set'"
          ]
        }
      ]
    },
    {
      "cell_type": "code",
      "source": [
        "set2.add([1,2])"
      ],
      "metadata": {
        "colab": {
          "base_uri": "https://localhost:8080/",
          "height": 171
        },
        "id": "zW3tA_7kmvrk",
        "outputId": "f119bde3-61d0-4923-b985-218529851cf7"
      },
      "execution_count": null,
      "outputs": [
        {
          "output_type": "error",
          "ename": "TypeError",
          "evalue": "ignored",
          "traceback": [
            "\u001b[0;31m---------------------------------------------------------------------------\u001b[0m",
            "\u001b[0;31mTypeError\u001b[0m                                 Traceback (most recent call last)",
            "\u001b[0;32m<ipython-input-71-d15169e15b7c>\u001b[0m in \u001b[0;36m<module>\u001b[0;34m()\u001b[0m\n\u001b[0;32m----> 1\u001b[0;31m \u001b[0mset2\u001b[0m\u001b[0;34m.\u001b[0m\u001b[0madd\u001b[0m\u001b[0;34m(\u001b[0m\u001b[0;34m[\u001b[0m\u001b[0;36m1\u001b[0m\u001b[0;34m,\u001b[0m\u001b[0;36m2\u001b[0m\u001b[0;34m]\u001b[0m\u001b[0;34m)\u001b[0m\u001b[0;34m\u001b[0m\u001b[0;34m\u001b[0m\u001b[0m\n\u001b[0m",
            "\u001b[0;31mTypeError\u001b[0m: unhashable type: 'list'"
          ]
        }
      ]
    },
    {
      "cell_type": "code",
      "source": [
        "set2.add((1,2))"
      ],
      "metadata": {
        "id": "4Ey5lqvUnRH0"
      },
      "execution_count": null,
      "outputs": []
    },
    {
      "cell_type": "code",
      "source": [
        "set2"
      ],
      "metadata": {
        "colab": {
          "base_uri": "https://localhost:8080/"
        },
        "id": "81ugve1xnWnk",
        "outputId": "e9bdd1aa-289f-45c0-958e-f5ec407c0ecf"
      },
      "execution_count": null,
      "outputs": [
        {
          "output_type": "execute_result",
          "data": {
            "text/plain": [
              "{(1, 2), 1, 2}"
            ]
          },
          "metadata": {},
          "execution_count": 73
        }
      ]
    },
    {
      "cell_type": "code",
      "source": [
        "set3={1,3,4}"
      ],
      "metadata": {
        "id": "9nK-1CernYYU"
      },
      "execution_count": null,
      "outputs": []
    },
    {
      "cell_type": "code",
      "source": [
        "set2"
      ],
      "metadata": {
        "colab": {
          "base_uri": "https://localhost:8080/"
        },
        "id": "QBnrzYuPn_Q1",
        "outputId": "4987845d-67cf-4d55-829b-6d56267d0e0e"
      },
      "execution_count": null,
      "outputs": [
        {
          "output_type": "execute_result",
          "data": {
            "text/plain": [
              "{(1, 2), 1, 2}"
            ]
          },
          "metadata": {},
          "execution_count": 75
        }
      ]
    },
    {
      "cell_type": "code",
      "source": [
        "set3"
      ],
      "metadata": {
        "colab": {
          "base_uri": "https://localhost:8080/"
        },
        "id": "jlCOKzIwn_6k",
        "outputId": "ec63a8ec-8507-410a-8c09-c032304356a7"
      },
      "execution_count": null,
      "outputs": [
        {
          "output_type": "execute_result",
          "data": {
            "text/plain": [
              "{1, 3, 4}"
            ]
          },
          "metadata": {},
          "execution_count": 76
        }
      ]
    },
    {
      "cell_type": "code",
      "source": [
        "set2.difference(set3)"
      ],
      "metadata": {
        "colab": {
          "base_uri": "https://localhost:8080/"
        },
        "id": "m43wwF2doAlk",
        "outputId": "314b4eef-c10f-476d-9914-b315770d723a"
      },
      "execution_count": null,
      "outputs": [
        {
          "output_type": "execute_result",
          "data": {
            "text/plain": [
              "{(1, 2), 2}"
            ]
          },
          "metadata": {},
          "execution_count": 77
        }
      ]
    },
    {
      "cell_type": "code",
      "source": [
        "set2"
      ],
      "metadata": {
        "colab": {
          "base_uri": "https://localhost:8080/"
        },
        "id": "Vz97kkVkpFzK",
        "outputId": "59eedbad-470a-4d63-e765-5e709debaefe"
      },
      "execution_count": null,
      "outputs": [
        {
          "output_type": "execute_result",
          "data": {
            "text/plain": [
              "{(1, 2), 1, 2}"
            ]
          },
          "metadata": {},
          "execution_count": 78
        }
      ]
    },
    {
      "cell_type": "code",
      "source": [
        "set2.difference_update(set3)"
      ],
      "metadata": {
        "id": "M0UAyGUepM0l"
      },
      "execution_count": null,
      "outputs": []
    },
    {
      "cell_type": "code",
      "source": [
        "set2"
      ],
      "metadata": {
        "colab": {
          "base_uri": "https://localhost:8080/"
        },
        "id": "buxlW1gfpR22",
        "outputId": "9e65e2ca-c589-461c-bc22-b3d668da80c3"
      },
      "execution_count": null,
      "outputs": [
        {
          "output_type": "execute_result",
          "data": {
            "text/plain": [
              "{(1, 2), 2}"
            ]
          },
          "metadata": {},
          "execution_count": 80
        }
      ]
    },
    {
      "cell_type": "code",
      "source": [
        "set4={1,2,3,257,257,257,5,6,5,6,6,4}"
      ],
      "metadata": {
        "id": "KZa4iJhipTtV"
      },
      "execution_count": null,
      "outputs": []
    },
    {
      "cell_type": "code",
      "source": [
        "set4"
      ],
      "metadata": {
        "colab": {
          "base_uri": "https://localhost:8080/"
        },
        "id": "4QCbqRw-pr-l",
        "outputId": "dca06a29-e191-4901-ef39-ef00e6564322"
      },
      "execution_count": null,
      "outputs": [
        {
          "output_type": "execute_result",
          "data": {
            "text/plain": [
              "{1, 2, 3, 4, 5, 6, 257}"
            ]
          },
          "metadata": {},
          "execution_count": 86
        }
      ]
    },
    {
      "cell_type": "code",
      "source": [
        "a=257\n",
        "b=257\n",
        "print(id(a))\n",
        "print(id(b))"
      ],
      "metadata": {
        "colab": {
          "base_uri": "https://localhost:8080/"
        },
        "id": "ZMF1vaJcpsdH",
        "outputId": "37cd9568-38fa-4f04-a8da-690eb4c96cec"
      },
      "execution_count": null,
      "outputs": [
        {
          "output_type": "stream",
          "name": "stdout",
          "text": [
            "140546428178928\n",
            "140546428179184\n"
          ]
        }
      ]
    },
    {
      "cell_type": "code",
      "source": [
        "a={1,2,3,4,5}\n",
        "b={3,4,5,6,7,8}"
      ],
      "metadata": {
        "id": "TO6d-rneqm61"
      },
      "execution_count": null,
      "outputs": []
    },
    {
      "cell_type": "code",
      "source": [
        "a.difference(b)"
      ],
      "metadata": {
        "colab": {
          "base_uri": "https://localhost:8080/"
        },
        "id": "LtnmkBctlnhy",
        "outputId": "4c42fdf5-059b-4759-8cb6-0ebfa3b48ce6"
      },
      "execution_count": null,
      "outputs": [
        {
          "output_type": "execute_result",
          "data": {
            "text/plain": [
              "{1, 2}"
            ]
          },
          "metadata": {},
          "execution_count": 2
        }
      ]
    },
    {
      "cell_type": "code",
      "source": [
        "a"
      ],
      "metadata": {
        "colab": {
          "base_uri": "https://localhost:8080/"
        },
        "id": "Me4NOC6TmH92",
        "outputId": "bb9d557d-410b-4581-84e0-5b66004ad8c5"
      },
      "execution_count": null,
      "outputs": [
        {
          "output_type": "execute_result",
          "data": {
            "text/plain": [
              "{1, 2, 3, 4, 5}"
            ]
          },
          "metadata": {},
          "execution_count": 3
        }
      ]
    },
    {
      "cell_type": "code",
      "source": [
        "b"
      ],
      "metadata": {
        "colab": {
          "base_uri": "https://localhost:8080/"
        },
        "id": "4Ar2NEwUmI5g",
        "outputId": "54cd67f7-0c3c-4626-a4c8-9e753f817317"
      },
      "execution_count": null,
      "outputs": [
        {
          "output_type": "execute_result",
          "data": {
            "text/plain": [
              "{3, 4, 5, 6, 7, 8}"
            ]
          },
          "metadata": {},
          "execution_count": 4
        }
      ]
    },
    {
      "cell_type": "code",
      "source": [
        "a.difference_update(b)"
      ],
      "metadata": {
        "id": "mvIdtnrOmJOx"
      },
      "execution_count": null,
      "outputs": []
    },
    {
      "cell_type": "code",
      "source": [
        "a"
      ],
      "metadata": {
        "colab": {
          "base_uri": "https://localhost:8080/"
        },
        "id": "sEIILsTDmMY3",
        "outputId": "8c01dbdb-2bf1-4fc2-f8d5-3cbe4c2a74a4"
      },
      "execution_count": null,
      "outputs": [
        {
          "output_type": "execute_result",
          "data": {
            "text/plain": [
              "{1, 2}"
            ]
          },
          "metadata": {},
          "execution_count": 6
        }
      ]
    },
    {
      "cell_type": "code",
      "source": [
        "b"
      ],
      "metadata": {
        "colab": {
          "base_uri": "https://localhost:8080/"
        },
        "id": "GC0WdwPYmNJx",
        "outputId": "dd7ee944-0380-4955-8e98-279245a02297"
      },
      "execution_count": null,
      "outputs": [
        {
          "output_type": "execute_result",
          "data": {
            "text/plain": [
              "{3, 4, 5, 6, 7, 8}"
            ]
          },
          "metadata": {},
          "execution_count": 7
        }
      ]
    },
    {
      "cell_type": "code",
      "source": [
        "a.discard(4)"
      ],
      "metadata": {
        "id": "RX1D6wDSmOSh"
      },
      "execution_count": null,
      "outputs": []
    },
    {
      "cell_type": "code",
      "source": [
        "a"
      ],
      "metadata": {
        "colab": {
          "base_uri": "https://localhost:8080/"
        },
        "id": "fZQNLFikmdvQ",
        "outputId": "172c5c5e-c3ee-4e19-b56d-45b64886b785"
      },
      "execution_count": null,
      "outputs": [
        {
          "output_type": "execute_result",
          "data": {
            "text/plain": [
              "{1, 2, 3}"
            ]
          },
          "metadata": {},
          "execution_count": 20
        }
      ]
    },
    {
      "cell_type": "code",
      "source": [
        "a.clear()"
      ],
      "metadata": {
        "id": "o72aQYDUmecg"
      },
      "execution_count": null,
      "outputs": []
    },
    {
      "cell_type": "code",
      "source": [
        "a"
      ],
      "metadata": {
        "colab": {
          "base_uri": "https://localhost:8080/"
        },
        "id": "2312tLn8m6kh",
        "outputId": "a862613a-97dd-457f-d24f-8e4397d4959f"
      },
      "execution_count": null,
      "outputs": [
        {
          "output_type": "execute_result",
          "data": {
            "text/plain": [
              "set()"
            ]
          },
          "metadata": {},
          "execution_count": 22
        }
      ]
    },
    {
      "cell_type": "code",
      "source": [
        "a.update({1,2,3,4})"
      ],
      "metadata": {
        "id": "tz4GXJahm7UB"
      },
      "execution_count": null,
      "outputs": []
    },
    {
      "cell_type": "code",
      "source": [
        "a"
      ],
      "metadata": {
        "colab": {
          "base_uri": "https://localhost:8080/"
        },
        "id": "WiGkD_9bnHRh",
        "outputId": "64d6e146-7678-4db1-9533-611b218d9e00"
      },
      "execution_count": null,
      "outputs": [
        {
          "output_type": "execute_result",
          "data": {
            "text/plain": [
              "{1, 2, 3, 4}"
            ]
          },
          "metadata": {},
          "execution_count": 24
        }
      ]
    },
    {
      "cell_type": "code",
      "source": [
        "a.add({4,5,6,7,8})"
      ],
      "metadata": {
        "colab": {
          "base_uri": "https://localhost:8080/",
          "height": 171
        },
        "id": "KTM_zs9RnH5g",
        "outputId": "5b5591a9-b11e-4177-e0e9-b8f703ac83ea"
      },
      "execution_count": null,
      "outputs": [
        {
          "output_type": "error",
          "ename": "TypeError",
          "evalue": "ignored",
          "traceback": [
            "\u001b[0;31m---------------------------------------------------------------------------\u001b[0m",
            "\u001b[0;31mTypeError\u001b[0m                                 Traceback (most recent call last)",
            "\u001b[0;32m<ipython-input-25-2e018eea432f>\u001b[0m in \u001b[0;36m<module>\u001b[0;34m()\u001b[0m\n\u001b[0;32m----> 1\u001b[0;31m \u001b[0ma\u001b[0m\u001b[0;34m.\u001b[0m\u001b[0madd\u001b[0m\u001b[0;34m(\u001b[0m\u001b[0;34m{\u001b[0m\u001b[0;36m4\u001b[0m\u001b[0;34m,\u001b[0m\u001b[0;36m5\u001b[0m\u001b[0;34m,\u001b[0m\u001b[0;36m6\u001b[0m\u001b[0;34m,\u001b[0m\u001b[0;36m7\u001b[0m\u001b[0;34m,\u001b[0m\u001b[0;36m8\u001b[0m\u001b[0;34m}\u001b[0m\u001b[0;34m)\u001b[0m\u001b[0;34m\u001b[0m\u001b[0;34m\u001b[0m\u001b[0m\n\u001b[0m",
            "\u001b[0;31mTypeError\u001b[0m: unhashable type: 'set'"
          ]
        }
      ]
    },
    {
      "cell_type": "code",
      "source": [
        "a.update([6,8,9,0])"
      ],
      "metadata": {
        "id": "h8aZ7Wt1nOIR"
      },
      "execution_count": null,
      "outputs": []
    },
    {
      "cell_type": "code",
      "source": [
        "a"
      ],
      "metadata": {
        "colab": {
          "base_uri": "https://localhost:8080/"
        },
        "id": "txIEnwq2nOaB",
        "outputId": "ccf5e2dc-1535-49af-8c06-e11ae6e1d8be"
      },
      "execution_count": null,
      "outputs": [
        {
          "output_type": "execute_result",
          "data": {
            "text/plain": [
              "{0, 1, 2, 3, 4, 6, 8, 9}"
            ]
          },
          "metadata": {},
          "execution_count": 28
        }
      ]
    },
    {
      "cell_type": "code",
      "source": [
        "a.update((1,2,3,4,10000))"
      ],
      "metadata": {
        "id": "yL_3YRK-nhTw"
      },
      "execution_count": null,
      "outputs": []
    },
    {
      "cell_type": "code",
      "source": [
        "a"
      ],
      "metadata": {
        "colab": {
          "base_uri": "https://localhost:8080/"
        },
        "id": "P08RJHapn4eQ",
        "outputId": "efe72ece-53a0-4cf0-cc16-ea4207049772"
      },
      "execution_count": null,
      "outputs": [
        {
          "output_type": "execute_result",
          "data": {
            "text/plain": [
              "{0, 1, 2, 3, 4, 6, 8, 9, 10000}"
            ]
          },
          "metadata": {},
          "execution_count": 34
        }
      ]
    },
    {
      "cell_type": "code",
      "source": [
        "a.update(1002222)"
      ],
      "metadata": {
        "colab": {
          "base_uri": "https://localhost:8080/",
          "height": 171
        },
        "id": "rJ-V6pTEn9yR",
        "outputId": "42d1325e-0b93-4ae5-d7fd-24862abf483a"
      },
      "execution_count": null,
      "outputs": [
        {
          "output_type": "error",
          "ename": "TypeError",
          "evalue": "ignored",
          "traceback": [
            "\u001b[0;31m---------------------------------------------------------------------------\u001b[0m",
            "\u001b[0;31mTypeError\u001b[0m                                 Traceback (most recent call last)",
            "\u001b[0;32m<ipython-input-35-8cf07e162bd6>\u001b[0m in \u001b[0;36m<module>\u001b[0;34m()\u001b[0m\n\u001b[0;32m----> 1\u001b[0;31m \u001b[0ma\u001b[0m\u001b[0;34m.\u001b[0m\u001b[0mupdate\u001b[0m\u001b[0;34m(\u001b[0m\u001b[0;36m1002222\u001b[0m\u001b[0;34m)\u001b[0m\u001b[0;34m\u001b[0m\u001b[0;34m\u001b[0m\u001b[0m\n\u001b[0m",
            "\u001b[0;31mTypeError\u001b[0m: 'int' object is not iterable"
          ]
        }
      ]
    },
    {
      "cell_type": "code",
      "source": [
        "a.update(10.0)"
      ],
      "metadata": {
        "colab": {
          "base_uri": "https://localhost:8080/",
          "height": 171
        },
        "id": "I1rywXQpoFZw",
        "outputId": "58c5c190-1e0f-42f6-d873-64073c846bec"
      },
      "execution_count": null,
      "outputs": [
        {
          "output_type": "error",
          "ename": "TypeError",
          "evalue": "ignored",
          "traceback": [
            "\u001b[0;31m---------------------------------------------------------------------------\u001b[0m",
            "\u001b[0;31mTypeError\u001b[0m                                 Traceback (most recent call last)",
            "\u001b[0;32m<ipython-input-37-1ec66d31fa31>\u001b[0m in \u001b[0;36m<module>\u001b[0;34m()\u001b[0m\n\u001b[0;32m----> 1\u001b[0;31m \u001b[0ma\u001b[0m\u001b[0;34m.\u001b[0m\u001b[0mupdate\u001b[0m\u001b[0;34m(\u001b[0m\u001b[0;36m10.0\u001b[0m\u001b[0;34m)\u001b[0m\u001b[0;34m\u001b[0m\u001b[0;34m\u001b[0m\u001b[0m\n\u001b[0m",
            "\u001b[0;31mTypeError\u001b[0m: 'float' object is not iterable"
          ]
        }
      ]
    },
    {
      "cell_type": "code",
      "source": [
        "a.update(\"Krishna\")"
      ],
      "metadata": {
        "id": "7XwF_MVFoFtq"
      },
      "execution_count": null,
      "outputs": []
    },
    {
      "cell_type": "code",
      "source": [
        "a"
      ],
      "metadata": {
        "colab": {
          "base_uri": "https://localhost:8080/"
        },
        "id": "-tsGOVRKoMHw",
        "outputId": "daec9b76-dcd1-4197-a9a6-19bf19b3c83b"
      },
      "execution_count": null,
      "outputs": [
        {
          "output_type": "execute_result",
          "data": {
            "text/plain": [
              "{0, 1, 10000, 2, 3, 4, 6, 8, 9, 'K', 'a', 'h', 'i', 'n', 'r', 's'}"
            ]
          },
          "metadata": {},
          "execution_count": 39
        }
      ]
    },
    {
      "cell_type": "code",
      "source": [
        "A={1,2,3,4}\n",
        "B={1,2,3,4,5,6}\n",
        "\n",
        "A.issubset(B)"
      ],
      "metadata": {
        "colab": {
          "base_uri": "https://localhost:8080/"
        },
        "id": "wDXH_Fd3oMfE",
        "outputId": "bf7f0b07-ffbc-43f6-b641-9a3e1b8af407"
      },
      "execution_count": null,
      "outputs": [
        {
          "output_type": "execute_result",
          "data": {
            "text/plain": [
              "True"
            ]
          },
          "metadata": {},
          "execution_count": 40
        }
      ]
    },
    {
      "cell_type": "code",
      "source": [
        "A.issuperset(B)"
      ],
      "metadata": {
        "colab": {
          "base_uri": "https://localhost:8080/"
        },
        "id": "SZjBsjsMpXPQ",
        "outputId": "1762cd90-b89c-4d83-bd97-7fe6e8a00545"
      },
      "execution_count": null,
      "outputs": [
        {
          "output_type": "execute_result",
          "data": {
            "text/plain": [
              "False"
            ]
          },
          "metadata": {},
          "execution_count": 41
        }
      ]
    },
    {
      "cell_type": "code",
      "source": [
        "B.issuperset(A)"
      ],
      "metadata": {
        "colab": {
          "base_uri": "https://localhost:8080/"
        },
        "id": "5SnlSAQopflA",
        "outputId": "a93d5c26-3e16-4cbe-baa8-a4365a98f706"
      },
      "execution_count": null,
      "outputs": [
        {
          "output_type": "execute_result",
          "data": {
            "text/plain": [
              "True"
            ]
          },
          "metadata": {},
          "execution_count": 42
        }
      ]
    },
    {
      "cell_type": "code",
      "source": [
        "A.pop()"
      ],
      "metadata": {
        "colab": {
          "base_uri": "https://localhost:8080/"
        },
        "id": "RRJniohUpjsD",
        "outputId": "94ec9a8a-4134-4d54-c928-2a34a027dddf"
      },
      "execution_count": null,
      "outputs": [
        {
          "output_type": "execute_result",
          "data": {
            "text/plain": [
              "1"
            ]
          },
          "metadata": {},
          "execution_count": 43
        }
      ]
    },
    {
      "cell_type": "code",
      "source": [
        "A"
      ],
      "metadata": {
        "colab": {
          "base_uri": "https://localhost:8080/"
        },
        "id": "HAj2_5fyqD2y",
        "outputId": "1221d137-f956-4fd8-c6eb-d4d552fe5594"
      },
      "execution_count": null,
      "outputs": [
        {
          "output_type": "execute_result",
          "data": {
            "text/plain": [
              "{2, 3, 4}"
            ]
          },
          "metadata": {},
          "execution_count": 44
        }
      ]
    },
    {
      "cell_type": "code",
      "source": [
        "C={1,2,3,4}\n",
        "D={1,3}\n",
        "\n",
        "C.union(D)"
      ],
      "metadata": {
        "colab": {
          "base_uri": "https://localhost:8080/"
        },
        "id": "SAjDVVcrqFgR",
        "outputId": "e9d83843-5328-4bc9-c932-57cfedf4d81b"
      },
      "execution_count": null,
      "outputs": [
        {
          "output_type": "execute_result",
          "data": {
            "text/plain": [
              "{1, 2, 3, 4}"
            ]
          },
          "metadata": {},
          "execution_count": 46
        }
      ]
    },
    {
      "cell_type": "code",
      "source": [
        "C.remove(7)"
      ],
      "metadata": {
        "colab": {
          "base_uri": "https://localhost:8080/",
          "height": 171
        },
        "id": "_RVBrQeurHIi",
        "outputId": "b14e308b-e186-4a69-e228-b7dc0d62a492"
      },
      "execution_count": null,
      "outputs": [
        {
          "output_type": "error",
          "ename": "KeyError",
          "evalue": "ignored",
          "traceback": [
            "\u001b[0;31m---------------------------------------------------------------------------\u001b[0m",
            "\u001b[0;31mKeyError\u001b[0m                                  Traceback (most recent call last)",
            "\u001b[0;32m<ipython-input-49-468f674d4311>\u001b[0m in \u001b[0;36m<module>\u001b[0;34m()\u001b[0m\n\u001b[0;32m----> 1\u001b[0;31m \u001b[0mC\u001b[0m\u001b[0;34m.\u001b[0m\u001b[0mremove\u001b[0m\u001b[0;34m(\u001b[0m\u001b[0;36m7\u001b[0m\u001b[0;34m)\u001b[0m\u001b[0;34m\u001b[0m\u001b[0;34m\u001b[0m\u001b[0m\n\u001b[0m",
            "\u001b[0;31mKeyError\u001b[0m: 7"
          ]
        }
      ]
    },
    {
      "cell_type": "code",
      "source": [
        "C"
      ],
      "metadata": {
        "colab": {
          "base_uri": "https://localhost:8080/"
        },
        "id": "cGzTgPRorXmB",
        "outputId": "d774393c-84d4-428c-80c7-4ca7ee6470f5"
      },
      "execution_count": null,
      "outputs": [
        {
          "output_type": "execute_result",
          "data": {
            "text/plain": [
              "{1, 2, 3}"
            ]
          },
          "metadata": {},
          "execution_count": 50
        }
      ]
    },
    {
      "cell_type": "code",
      "source": [
        "C.discard(4)"
      ],
      "metadata": {
        "id": "U7SXQeoarYNw"
      },
      "execution_count": null,
      "outputs": []
    },
    {
      "cell_type": "code",
      "source": [
        "C.remove(4)"
      ],
      "metadata": {
        "colab": {
          "base_uri": "https://localhost:8080/",
          "height": 171
        },
        "id": "s75nk_sSrqSB",
        "outputId": "6176ef97-f3a8-4f32-d090-981628ca404a"
      },
      "execution_count": null,
      "outputs": [
        {
          "output_type": "error",
          "ename": "KeyError",
          "evalue": "ignored",
          "traceback": [
            "\u001b[0;31m---------------------------------------------------------------------------\u001b[0m",
            "\u001b[0;31mKeyError\u001b[0m                                  Traceback (most recent call last)",
            "\u001b[0;32m<ipython-input-53-f819aa318335>\u001b[0m in \u001b[0;36m<module>\u001b[0;34m()\u001b[0m\n\u001b[0;32m----> 1\u001b[0;31m \u001b[0mC\u001b[0m\u001b[0;34m.\u001b[0m\u001b[0mremove\u001b[0m\u001b[0;34m(\u001b[0m\u001b[0;36m4\u001b[0m\u001b[0;34m)\u001b[0m\u001b[0;34m\u001b[0m\u001b[0;34m\u001b[0m\u001b[0m\n\u001b[0m",
            "\u001b[0;31mKeyError\u001b[0m: 4"
          ]
        }
      ]
    },
    {
      "cell_type": "code",
      "source": [
        "C.symmetric_difference_update(D)"
      ],
      "metadata": {
        "id": "LQBKOxYQr2Zy"
      },
      "execution_count": null,
      "outputs": []
    },
    {
      "cell_type": "code",
      "source": [
        "C"
      ],
      "metadata": {
        "colab": {
          "base_uri": "https://localhost:8080/"
        },
        "id": "tu9607Z9sIhQ",
        "outputId": "4436bb73-5411-4cf4-fc85-975ae430d254"
      },
      "execution_count": null,
      "outputs": [
        {
          "output_type": "execute_result",
          "data": {
            "text/plain": [
              "{2}"
            ]
          },
          "metadata": {},
          "execution_count": 58
        }
      ]
    },
    {
      "cell_type": "code",
      "source": [
        "D"
      ],
      "metadata": {
        "colab": {
          "base_uri": "https://localhost:8080/"
        },
        "id": "7yd5vb2esJ3R",
        "outputId": "496a93e8-b824-4832-b8ca-be63c9c3700b"
      },
      "execution_count": null,
      "outputs": [
        {
          "output_type": "execute_result",
          "data": {
            "text/plain": [
              "{1, 3}"
            ]
          },
          "metadata": {},
          "execution_count": 56
        }
      ]
    },
    {
      "cell_type": "code",
      "source": [
        "C"
      ],
      "metadata": {
        "colab": {
          "base_uri": "https://localhost:8080/"
        },
        "id": "tDCpe_-6sKyC",
        "outputId": "c0213a69-33e1-4b47-e9c8-db09518f17bc"
      },
      "execution_count": null,
      "outputs": [
        {
          "output_type": "execute_result",
          "data": {
            "text/plain": [
              "{2}"
            ]
          },
          "metadata": {},
          "execution_count": 59
        }
      ]
    },
    {
      "cell_type": "code",
      "source": [
        "E=C"
      ],
      "metadata": {
        "id": "U2r9X_kAtA5x"
      },
      "execution_count": null,
      "outputs": []
    },
    {
      "cell_type": "code",
      "source": [
        "E"
      ],
      "metadata": {
        "colab": {
          "base_uri": "https://localhost:8080/"
        },
        "id": "qs3-CJQmtBq3",
        "outputId": "b531a086-27bc-4483-97ef-0ea32df442f5"
      },
      "execution_count": null,
      "outputs": [
        {
          "output_type": "execute_result",
          "data": {
            "text/plain": [
              "{2}"
            ]
          },
          "metadata": {},
          "execution_count": 63
        }
      ]
    },
    {
      "cell_type": "code",
      "source": [
        "E.update((1,2,3,4))"
      ],
      "metadata": {
        "id": "iCD0U4eCtEWx"
      },
      "execution_count": null,
      "outputs": []
    },
    {
      "cell_type": "code",
      "source": [
        "E"
      ],
      "metadata": {
        "colab": {
          "base_uri": "https://localhost:8080/"
        },
        "id": "hxRlxlLetKuR",
        "outputId": "b53e5ac3-1563-472d-9020-b6296eaf1942"
      },
      "execution_count": null,
      "outputs": [
        {
          "output_type": "execute_result",
          "data": {
            "text/plain": [
              "{1, 2, 3, 4}"
            ]
          },
          "metadata": {},
          "execution_count": 65
        }
      ]
    },
    {
      "cell_type": "code",
      "source": [
        "C"
      ],
      "metadata": {
        "colab": {
          "base_uri": "https://localhost:8080/"
        },
        "id": "GaBnEY4mtLaR",
        "outputId": "87645798-106d-4d33-b8b7-90fb02395a5a"
      },
      "execution_count": null,
      "outputs": [
        {
          "output_type": "execute_result",
          "data": {
            "text/plain": [
              "{1, 2, 3, 4}"
            ]
          },
          "metadata": {},
          "execution_count": 66
        }
      ]
    },
    {
      "cell_type": "code",
      "source": [
        "C"
      ],
      "metadata": {
        "colab": {
          "base_uri": "https://localhost:8080/"
        },
        "id": "LJjREoQ0tM-h",
        "outputId": "b77f1ac9-6dd1-4a8d-b46a-138fc0f21191"
      },
      "execution_count": null,
      "outputs": [
        {
          "output_type": "execute_result",
          "data": {
            "text/plain": [
              "{1, 2, 3, 4}"
            ]
          },
          "metadata": {},
          "execution_count": 67
        }
      ]
    },
    {
      "cell_type": "code",
      "source": [
        "F=C.copy()"
      ],
      "metadata": {
        "id": "jk8sRSHFtRdR"
      },
      "execution_count": null,
      "outputs": []
    },
    {
      "cell_type": "code",
      "source": [
        "F"
      ],
      "metadata": {
        "colab": {
          "base_uri": "https://localhost:8080/"
        },
        "id": "gcKypku8tUtw",
        "outputId": "535dc9e9-27fe-4832-a57b-409435728404"
      },
      "execution_count": null,
      "outputs": [
        {
          "output_type": "execute_result",
          "data": {
            "text/plain": [
              "{1, 2, 3, 4}"
            ]
          },
          "metadata": {},
          "execution_count": 69
        }
      ]
    },
    {
      "cell_type": "code",
      "source": [
        "F.update((6,7,8))"
      ],
      "metadata": {
        "id": "Nw3Et5LktVMA"
      },
      "execution_count": null,
      "outputs": []
    },
    {
      "cell_type": "code",
      "source": [
        "F"
      ],
      "metadata": {
        "colab": {
          "base_uri": "https://localhost:8080/"
        },
        "id": "8IXlpB1ctiNR",
        "outputId": "7f78641a-61f9-43b7-83e6-b3e5c361e263"
      },
      "execution_count": null,
      "outputs": [
        {
          "output_type": "execute_result",
          "data": {
            "text/plain": [
              "{1, 2, 3, 4, 6, 7, 8}"
            ]
          },
          "metadata": {},
          "execution_count": 71
        }
      ]
    },
    {
      "cell_type": "code",
      "source": [
        "C"
      ],
      "metadata": {
        "colab": {
          "base_uri": "https://localhost:8080/"
        },
        "id": "HXxz8mrjti3R",
        "outputId": "92f567db-7f10-4c12-e9f6-bcab0718e0ca"
      },
      "execution_count": null,
      "outputs": [
        {
          "output_type": "execute_result",
          "data": {
            "text/plain": [
              "{1, 2, 3, 4}"
            ]
          },
          "metadata": {},
          "execution_count": 72
        }
      ]
    },
    {
      "cell_type": "markdown",
      "source": [
        "# Dictionary\n",
        "\n",
        "dictionary constructor is dict()\n",
        "\n",
        "dictionary literal { }\n",
        "\n",
        "dictionary contain keys:values combination\n",
        "\n",
        "key treat as index\n",
        "\n",
        "it is mutable\n",
        "\n",
        "key always unique in dictionary \n",
        "\n",
        "\n"
      ],
      "metadata": {
        "id": "G-Ew58w6tkAQ"
      }
    },
    {
      "cell_type": "code",
      "source": [
        "a=dict()\n",
        "print(a)\n",
        "print(type(a))\n"
      ],
      "metadata": {
        "colab": {
          "base_uri": "https://localhost:8080/"
        },
        "id": "ORkvp8AiuIoS",
        "outputId": "c96e508d-d8d3-4753-fdfe-bedafaf57459"
      },
      "execution_count": null,
      "outputs": [
        {
          "output_type": "stream",
          "name": "stdout",
          "text": [
            "{}\n",
            "<class 'dict'>\n"
          ]
        }
      ]
    },
    {
      "cell_type": "code",
      "source": [
        "b={}\n",
        "print(b)\n",
        "print(type(b))"
      ],
      "metadata": {
        "colab": {
          "base_uri": "https://localhost:8080/"
        },
        "id": "KjwLy_kIuxVz",
        "outputId": "c77ba563-86db-4afa-d289-2f19fa6c34ec"
      },
      "execution_count": null,
      "outputs": [
        {
          "output_type": "stream",
          "name": "stdout",
          "text": [
            "{}\n",
            "<class 'dict'>\n"
          ]
        }
      ]
    },
    {
      "cell_type": "code",
      "source": [
        "c={1:\"a\",2:\"b\",3:\"c\",4:\"d\",5:\"e\",6:\"f\"}"
      ],
      "metadata": {
        "id": "Mx9ITw-euzV4"
      },
      "execution_count": null,
      "outputs": []
    },
    {
      "cell_type": "code",
      "source": [
        "c"
      ],
      "metadata": {
        "colab": {
          "base_uri": "https://localhost:8080/"
        },
        "id": "30TJDJ_lwFVB",
        "outputId": "bdf0f91f-abec-4ce0-e451-7eefce8867c4"
      },
      "execution_count": null,
      "outputs": [
        {
          "output_type": "execute_result",
          "data": {
            "text/plain": [
              "{1: 'a', 2: 'b', 3: 'c', 4: 'd', 5: 'e', 6: 'f'}"
            ]
          },
          "metadata": {},
          "execution_count": 108
        }
      ]
    },
    {
      "cell_type": "code",
      "source": [
        "c.clear()"
      ],
      "metadata": {
        "id": "E2XQS19FwFfC"
      },
      "execution_count": null,
      "outputs": []
    },
    {
      "cell_type": "code",
      "source": [
        "c"
      ],
      "metadata": {
        "colab": {
          "base_uri": "https://localhost:8080/"
        },
        "id": "-EEhetyWw1OR",
        "outputId": "188ef51f-8883-45d0-eab0-3edd29584cca"
      },
      "execution_count": null,
      "outputs": [
        {
          "output_type": "execute_result",
          "data": {
            "text/plain": [
              "{}"
            ]
          },
          "metadata": {},
          "execution_count": 81
        }
      ]
    },
    {
      "cell_type": "code",
      "source": [
        "c"
      ],
      "metadata": {
        "colab": {
          "base_uri": "https://localhost:8080/"
        },
        "id": "Wmg0v8Akw5jR",
        "outputId": "5037e42c-8576-403a-9e7a-e61d923e951b"
      },
      "execution_count": null,
      "outputs": [
        {
          "output_type": "execute_result",
          "data": {
            "text/plain": [
              "{1: 'a', 2: 'b', 3: 'c', 4: 'd', 5: 'e', 6: 'f'}"
            ]
          },
          "metadata": {},
          "execution_count": 83
        }
      ]
    },
    {
      "cell_type": "code",
      "source": [
        "c.keys()"
      ],
      "metadata": {
        "colab": {
          "base_uri": "https://localhost:8080/"
        },
        "id": "V1KMCGNrw9nB",
        "outputId": "5c7df71f-564f-4ab9-e54b-e3ac2633d026"
      },
      "execution_count": null,
      "outputs": [
        {
          "output_type": "execute_result",
          "data": {
            "text/plain": [
              "dict_keys([1, 2, 3, 4, 5, 6])"
            ]
          },
          "metadata": {},
          "execution_count": 84
        }
      ]
    },
    {
      "cell_type": "code",
      "source": [
        "c.values()"
      ],
      "metadata": {
        "colab": {
          "base_uri": "https://localhost:8080/"
        },
        "id": "HLQNevVVxR0y",
        "outputId": "cebb7759-3c98-47b5-a744-db75c5f4deae"
      },
      "execution_count": null,
      "outputs": [
        {
          "output_type": "execute_result",
          "data": {
            "text/plain": [
              "dict_values(['a', 'b', 'c', 'd', 'e', 'f'])"
            ]
          },
          "metadata": {},
          "execution_count": 85
        }
      ]
    },
    {
      "cell_type": "code",
      "source": [
        "c.items()"
      ],
      "metadata": {
        "colab": {
          "base_uri": "https://localhost:8080/"
        },
        "id": "8zwg9n3wxT0S",
        "outputId": "89fea9fc-b215-4f2a-ef9d-d428d2e0c91d"
      },
      "execution_count": null,
      "outputs": [
        {
          "output_type": "execute_result",
          "data": {
            "text/plain": [
              "dict_items([(1, 'a'), (2, 'b'), (3, 'c'), (4, 'd'), (5, 'e'), (6, 'f')])"
            ]
          },
          "metadata": {},
          "execution_count": 86
        }
      ]
    },
    {
      "cell_type": "code",
      "source": [
        "c.get(1,\"Key is not available\")"
      ],
      "metadata": {
        "colab": {
          "base_uri": "https://localhost:8080/",
          "height": 36
        },
        "id": "m-jXIpcpxhwx",
        "outputId": "09542446-da8d-4f82-b8db-17463a5c0a1f"
      },
      "execution_count": null,
      "outputs": [
        {
          "output_type": "execute_result",
          "data": {
            "text/plain": [
              "'a'"
            ],
            "application/vnd.google.colaboratory.intrinsic+json": {
              "type": "string"
            }
          },
          "metadata": {},
          "execution_count": 90
        }
      ]
    },
    {
      "cell_type": "code",
      "source": [
        "c.pop(1)"
      ],
      "metadata": {
        "colab": {
          "base_uri": "https://localhost:8080/",
          "height": 36
        },
        "id": "8rl7lQHmxpyh",
        "outputId": "3bb799e3-79ad-490d-a98e-90b3ac650a4a"
      },
      "execution_count": null,
      "outputs": [
        {
          "output_type": "execute_result",
          "data": {
            "text/plain": [
              "'a'"
            ],
            "application/vnd.google.colaboratory.intrinsic+json": {
              "type": "string"
            }
          },
          "metadata": {},
          "execution_count": 92
        }
      ]
    },
    {
      "cell_type": "code",
      "source": [
        "c"
      ],
      "metadata": {
        "colab": {
          "base_uri": "https://localhost:8080/"
        },
        "id": "_2WTh252yDVT",
        "outputId": "daf93ada-2572-4d14-8902-e071f6450a3b"
      },
      "execution_count": null,
      "outputs": [
        {
          "output_type": "execute_result",
          "data": {
            "text/plain": [
              "{2: 'b', 3: 'c', 4: 'd', 5: 'e', 6: 'f'}"
            ]
          },
          "metadata": {},
          "execution_count": 93
        }
      ]
    },
    {
      "cell_type": "code",
      "source": [
        "c.popitem()"
      ],
      "metadata": {
        "colab": {
          "base_uri": "https://localhost:8080/"
        },
        "id": "L1aBKZWqyHhx",
        "outputId": "fb0d101f-cdc3-467d-fc8b-03d2e67cd58c"
      },
      "execution_count": null,
      "outputs": [
        {
          "output_type": "execute_result",
          "data": {
            "text/plain": [
              "(6, 'f')"
            ]
          },
          "metadata": {},
          "execution_count": 94
        }
      ]
    },
    {
      "cell_type": "code",
      "source": [
        "c"
      ],
      "metadata": {
        "colab": {
          "base_uri": "https://localhost:8080/"
        },
        "id": "_0h6jtykyQux",
        "outputId": "a575f544-a971-41b1-ef60-79d6418404d8"
      },
      "execution_count": null,
      "outputs": [
        {
          "output_type": "execute_result",
          "data": {
            "text/plain": [
              "{1: 'a', 2: 'b', 3: 'c', 4: 'd', 5: 'e', 6: 'f'}"
            ]
          },
          "metadata": {},
          "execution_count": 114
        }
      ]
    },
    {
      "cell_type": "code",
      "source": [
        "c.setdefault(8,\"Krishna\")"
      ],
      "metadata": {
        "colab": {
          "base_uri": "https://localhost:8080/",
          "height": 36
        },
        "id": "LJMZXct4ySUR",
        "outputId": "f84c2be9-4c55-4629-dbe2-342b3e2e0334"
      },
      "execution_count": null,
      "outputs": [
        {
          "output_type": "execute_result",
          "data": {
            "text/plain": [
              "'Krishna'"
            ],
            "application/vnd.google.colaboratory.intrinsic+json": {
              "type": "string"
            }
          },
          "metadata": {},
          "execution_count": 121
        }
      ]
    },
    {
      "cell_type": "code",
      "source": [
        "c"
      ],
      "metadata": {
        "colab": {
          "base_uri": "https://localhost:8080/"
        },
        "id": "VXDnwHAEytgB",
        "outputId": "a7e60510-d603-4f8c-a5cf-66c6c8a7112a"
      },
      "execution_count": null,
      "outputs": [
        {
          "output_type": "execute_result",
          "data": {
            "text/plain": [
              "{1: 'a', 2: 'b', 3: 'c', 4: 'd', 5: 'e', 6: 'f', 7: None, 8: 'Krishna'}"
            ]
          },
          "metadata": {},
          "execution_count": 122
        }
      ]
    },
    {
      "cell_type": "code",
      "source": [
        "c[7]=\"Navab\""
      ],
      "metadata": {
        "id": "epS8hatFzVqz"
      },
      "execution_count": null,
      "outputs": []
    },
    {
      "cell_type": "code",
      "source": [
        "c"
      ],
      "metadata": {
        "colab": {
          "base_uri": "https://localhost:8080/"
        },
        "id": "welzvYrx0gGS",
        "outputId": "95395233-fa77-47e3-ffec-d7eb3e5c9116"
      },
      "execution_count": null,
      "outputs": [
        {
          "output_type": "execute_result",
          "data": {
            "text/plain": [
              "{1: 'a', 2: 'b', 3: 'c', 4: 'd', 5: 'e', 6: 'f', 7: 'Navab', 8: 'Krishna'}"
            ]
          },
          "metadata": {},
          "execution_count": 124
        }
      ]
    },
    {
      "cell_type": "code",
      "source": [
        "c[6]=(\"Farhan\", \"Ali\")"
      ],
      "metadata": {
        "id": "LE3FBwnG0gfS"
      },
      "execution_count": null,
      "outputs": []
    },
    {
      "cell_type": "code",
      "source": [
        "c"
      ],
      "metadata": {
        "colab": {
          "base_uri": "https://localhost:8080/"
        },
        "id": "IqjZSFp50zBN",
        "outputId": "a58112ba-7867-4dd6-b0e6-21dc18191431"
      },
      "execution_count": null,
      "outputs": [
        {
          "output_type": "execute_result",
          "data": {
            "text/plain": [
              "{1: 'a',\n",
              " 2: 'b',\n",
              " 3: 'c',\n",
              " 4: 'd',\n",
              " 5: 'e',\n",
              " 6: ('Farhan', 'Ali'),\n",
              " 7: 'Navab',\n",
              " 8: 'Krishna'}"
            ]
          },
          "metadata": {},
          "execution_count": 126
        }
      ]
    },
    {
      "cell_type": "code",
      "source": [
        "c[1]={'student_name': \"Krishna\",\"father's name\": \"Sunil\", \"Mother's name\":\"Suman\"}"
      ],
      "metadata": {
        "id": "K0O0HZqB0zPy"
      },
      "execution_count": null,
      "outputs": []
    },
    {
      "cell_type": "code",
      "source": [
        "c"
      ],
      "metadata": {
        "colab": {
          "base_uri": "https://localhost:8080/"
        },
        "id": "eWImxD4T1KVC",
        "outputId": "0147a213-a68d-4d57-dcd5-92e7761b3f86"
      },
      "execution_count": null,
      "outputs": [
        {
          "output_type": "execute_result",
          "data": {
            "text/plain": [
              "{1: {\"Mother's name\": 'Suman',\n",
              "  \"father's name\": 'Sunil',\n",
              "  'student_name': 'Krishna'},\n",
              " 2: 'b',\n",
              " 3: 'c',\n",
              " 4: 'd',\n",
              " 5: 'e',\n",
              " 6: ('Farhan', 'Ali'),\n",
              " 7: 'Navab',\n",
              " 8: 'Krishna'}"
            ]
          },
          "metadata": {},
          "execution_count": 128
        }
      ]
    },
    {
      "cell_type": "code",
      "source": [
        "c[1][\"father's name\"]"
      ],
      "metadata": {
        "colab": {
          "base_uri": "https://localhost:8080/",
          "height": 36
        },
        "id": "FkQjtv3j1KfR",
        "outputId": "d8a9e409-3665-4b2a-81ad-0b031f2a9a20"
      },
      "execution_count": null,
      "outputs": [
        {
          "output_type": "execute_result",
          "data": {
            "text/plain": [
              "'Sunil'"
            ],
            "application/vnd.google.colaboratory.intrinsic+json": {
              "type": "string"
            }
          },
          "metadata": {},
          "execution_count": 129
        }
      ]
    },
    {
      "cell_type": "code",
      "source": [
        "c[1]"
      ],
      "metadata": {
        "colab": {
          "base_uri": "https://localhost:8080/"
        },
        "id": "lRJXMFlQ1cOS",
        "outputId": "80899573-d4a8-40d3-8d1a-a2a5a83c3a72"
      },
      "execution_count": null,
      "outputs": [
        {
          "output_type": "execute_result",
          "data": {
            "text/plain": [
              "{\"Mother's name\": 'Suman', \"father's name\": 'Sunil', 'student_name': 'Krishna'}"
            ]
          },
          "metadata": {},
          "execution_count": 130
        }
      ]
    },
    {
      "cell_type": "code",
      "source": [
        "print(\"krishna\" \"Kumar\")"
      ],
      "metadata": {
        "colab": {
          "base_uri": "https://localhost:8080/"
        },
        "id": "Ym1B9s0Z1lDS",
        "outputId": "cbee1469-71d9-45f5-b660-370be5c94fd5"
      },
      "execution_count": null,
      "outputs": [
        {
          "output_type": "stream",
          "name": "stdout",
          "text": [
            "krishnaKumar\n"
          ]
        }
      ]
    },
    {
      "cell_type": "code",
      "source": [
        "d={(1,2,3,4):\"krishna\",}"
      ],
      "metadata": {
        "id": "Zzq-6VQe2FSj"
      },
      "execution_count": null,
      "outputs": []
    },
    {
      "cell_type": "code",
      "source": [
        "d"
      ],
      "metadata": {
        "colab": {
          "base_uri": "https://localhost:8080/"
        },
        "id": "AAXqpksY2bTy",
        "outputId": "55b187cd-15e9-42eb-c7e1-14554111e398"
      },
      "execution_count": null,
      "outputs": [
        {
          "output_type": "execute_result",
          "data": {
            "text/plain": [
              "{(1, 2, 3, 4): 'krishna'}"
            ]
          },
          "metadata": {},
          "execution_count": 137
        }
      ]
    },
    {
      "cell_type": "code",
      "source": [
        "d[(1,2,3,4)]"
      ],
      "metadata": {
        "colab": {
          "base_uri": "https://localhost:8080/",
          "height": 36
        },
        "id": "C20y0QiD2bly",
        "outputId": "5f85e04f-2b3c-48a8-8422-86238e93454a"
      },
      "execution_count": null,
      "outputs": [
        {
          "output_type": "execute_result",
          "data": {
            "text/plain": [
              "'krishna'"
            ],
            "application/vnd.google.colaboratory.intrinsic+json": {
              "type": "string"
            }
          },
          "metadata": {},
          "execution_count": 138
        }
      ]
    },
    {
      "cell_type": "code",
      "source": [
        "e={10.9999:\"this is number 10\"}"
      ],
      "metadata": {
        "id": "Y-ny25uq2mXB"
      },
      "execution_count": null,
      "outputs": []
    },
    {
      "cell_type": "code",
      "source": [
        "e"
      ],
      "metadata": {
        "id": "wiBDw9BA2uoy",
        "outputId": "72db1c0f-1bc9-4f45-dca8-530442ce3e11",
        "colab": {
          "base_uri": "https://localhost:8080/"
        }
      },
      "execution_count": null,
      "outputs": [
        {
          "output_type": "execute_result",
          "data": {
            "text/plain": [
              "{10.9999: 'this is number 10'}"
            ]
          },
          "metadata": {},
          "execution_count": 140
        }
      ]
    },
    {
      "cell_type": "code",
      "source": [
        "e[10.9999]"
      ],
      "metadata": {
        "id": "A2fhgntg2vCh",
        "outputId": "86d19cc7-f223-48a4-c27d-ec70509c340c",
        "colab": {
          "base_uri": "https://localhost:8080/",
          "height": 36
        }
      },
      "execution_count": null,
      "outputs": [
        {
          "output_type": "execute_result",
          "data": {
            "text/plain": [
              "'this is number 10'"
            ],
            "application/vnd.google.colaboratory.intrinsic+json": {
              "type": "string"
            }
          },
          "metadata": {},
          "execution_count": 141
        }
      ]
    },
    {
      "cell_type": "markdown",
      "source": [
        "# Complex"
      ],
      "metadata": {
        "id": "IYUh-HoR2xzS"
      }
    },
    {
      "cell_type": "markdown",
      "source": [
        "from typing import NoReturn\n",
        "complex number has two part :\n",
        "\n",
        "1> Real number \n",
        "\n",
        "2> Imaginary NoReturn\n",
        "\n",
        "example: (1+1j)"
      ],
      "metadata": {
        "id": "v86Q0UQ9uS4c"
      }
    },
    {
      "cell_type": "code",
      "source": [
        "print(0*j)"
      ],
      "metadata": {
        "colab": {
          "base_uri": "https://localhost:8080/",
          "height": 165
        },
        "id": "p5o-W6fZv5zl",
        "outputId": "b9cd92ea-dce0-44c8-9d2a-105571738404"
      },
      "execution_count": null,
      "outputs": [
        {
          "output_type": "error",
          "ename": "NameError",
          "evalue": "ignored",
          "traceback": [
            "\u001b[0;31m---------------------------------------------------------------------------\u001b[0m",
            "\u001b[0;31mNameError\u001b[0m                                 Traceback (most recent call last)",
            "\u001b[0;32m<ipython-input-1-98ae8e884186>\u001b[0m in \u001b[0;36m<module>\u001b[0;34m()\u001b[0m\n\u001b[0;32m----> 1\u001b[0;31m \u001b[0mprint\u001b[0m\u001b[0;34m(\u001b[0m\u001b[0;36m0\u001b[0m\u001b[0;34m*\u001b[0m\u001b[0mj\u001b[0m\u001b[0;34m)\u001b[0m\u001b[0;34m\u001b[0m\u001b[0;34m\u001b[0m\u001b[0m\n\u001b[0m",
            "\u001b[0;31mNameError\u001b[0m: name 'j' is not defined"
          ]
        }
      ]
    },
    {
      "cell_type": "code",
      "source": [
        "print(0j)"
      ],
      "metadata": {
        "colab": {
          "base_uri": "https://localhost:8080/"
        },
        "id": "0Ttq71QIwMPA",
        "outputId": "105b483e-c342-4c93-cccd-d2c15549286d"
      },
      "execution_count": null,
      "outputs": [
        {
          "output_type": "stream",
          "name": "stdout",
          "text": [
            "0j\n"
          ]
        }
      ]
    },
    {
      "cell_type": "code",
      "source": [
        "a=0j\n",
        "print(a)\n",
        "print(type(a))"
      ],
      "metadata": {
        "colab": {
          "base_uri": "https://localhost:8080/"
        },
        "id": "Kq3JXW_gwQj1",
        "outputId": "9f3f9691-f7e8-4bd4-bdf9-26c86046381b"
      },
      "execution_count": null,
      "outputs": [
        {
          "output_type": "stream",
          "name": "stdout",
          "text": [
            "0j\n",
            "<class 'complex'>\n"
          ]
        }
      ]
    },
    {
      "cell_type": "code",
      "source": [
        "complex(2,2)"
      ],
      "metadata": {
        "colab": {
          "base_uri": "https://localhost:8080/"
        },
        "id": "jWeQY5eDwgyl",
        "outputId": "6858da63-bffb-4204-96e4-c83583a9b41a"
      },
      "execution_count": null,
      "outputs": [
        {
          "output_type": "execute_result",
          "data": {
            "text/plain": [
              "(2+2j)"
            ]
          },
          "metadata": {},
          "execution_count": 6
        }
      ]
    },
    {
      "cell_type": "code",
      "source": [
        "complex(0,0)"
      ],
      "metadata": {
        "colab": {
          "base_uri": "https://localhost:8080/"
        },
        "id": "IZDo38KKwlbF",
        "outputId": "d34adeaf-5710-4ab2-89d4-3c9022d9812c"
      },
      "execution_count": null,
      "outputs": [
        {
          "output_type": "execute_result",
          "data": {
            "text/plain": [
              "0j"
            ]
          },
          "metadata": {},
          "execution_count": 7
        }
      ]
    },
    {
      "cell_type": "markdown",
      "source": [
        "# boolean\n",
        "\n",
        "boolean constructor is bool()\n",
        "\n",
        "Boolean return either True or False\n"
      ],
      "metadata": {
        "id": "yDU1tkUGw111"
      }
    },
    {
      "cell_type": "code",
      "source": [
        "bool(1)"
      ],
      "metadata": {
        "colab": {
          "base_uri": "https://localhost:8080/"
        },
        "id": "nm1G0ikkxSsV",
        "outputId": "909f7a1b-ef45-473b-ab1d-e4969d2daa0e"
      },
      "execution_count": null,
      "outputs": [
        {
          "output_type": "execute_result",
          "data": {
            "text/plain": [
              "True"
            ]
          },
          "metadata": {},
          "execution_count": 9
        }
      ]
    },
    {
      "cell_type": "code",
      "source": [
        "bool(0)"
      ],
      "metadata": {
        "colab": {
          "base_uri": "https://localhost:8080/"
        },
        "id": "Bucpq1ODxafF",
        "outputId": "1b32c5b2-5bdc-41fa-84c6-7a2b4ffc9127"
      },
      "execution_count": null,
      "outputs": [
        {
          "output_type": "execute_result",
          "data": {
            "text/plain": [
              "False"
            ]
          },
          "metadata": {},
          "execution_count": 10
        }
      ]
    },
    {
      "cell_type": "code",
      "source": [
        "bool(-1)"
      ],
      "metadata": {
        "colab": {
          "base_uri": "https://localhost:8080/"
        },
        "id": "G-gTwBGBxcGV",
        "outputId": "ab7fe232-cd81-422c-a8d3-760292c17e66"
      },
      "execution_count": null,
      "outputs": [
        {
          "output_type": "execute_result",
          "data": {
            "text/plain": [
              "True"
            ]
          },
          "metadata": {},
          "execution_count": 11
        }
      ]
    },
    {
      "cell_type": "code",
      "source": [
        "bool(True)"
      ],
      "metadata": {
        "colab": {
          "base_uri": "https://localhost:8080/"
        },
        "id": "rrNJWQmdxjG7",
        "outputId": "f07a0bf9-03b3-452c-ef7f-00f52d352226"
      },
      "execution_count": null,
      "outputs": [
        {
          "output_type": "execute_result",
          "data": {
            "text/plain": [
              "True"
            ]
          },
          "metadata": {},
          "execution_count": 12
        }
      ]
    },
    {
      "cell_type": "code",
      "source": [
        "bool(\"True\")"
      ],
      "metadata": {
        "colab": {
          "base_uri": "https://localhost:8080/"
        },
        "id": "wf9232hbx4Gl",
        "outputId": "ad9bfa94-ff85-49bb-8eda-c4c8217710bd"
      },
      "execution_count": null,
      "outputs": [
        {
          "output_type": "execute_result",
          "data": {
            "text/plain": [
              "True"
            ]
          },
          "metadata": {},
          "execution_count": 13
        }
      ]
    },
    {
      "cell_type": "code",
      "source": [
        "bool(False)"
      ],
      "metadata": {
        "colab": {
          "base_uri": "https://localhost:8080/"
        },
        "id": "wvX110PRyDcm",
        "outputId": "bd15d580-e24b-41f7-faa5-764d2d097c00"
      },
      "execution_count": null,
      "outputs": [
        {
          "output_type": "execute_result",
          "data": {
            "text/plain": [
              "False"
            ]
          },
          "metadata": {},
          "execution_count": 14
        }
      ]
    },
    {
      "cell_type": "code",
      "source": [
        "bool(\"False\")"
      ],
      "metadata": {
        "colab": {
          "base_uri": "https://localhost:8080/"
        },
        "id": "64a_WZ4myHcF",
        "outputId": "b64ee4c5-2494-4ffa-f11a-b9abf22503a0"
      },
      "execution_count": null,
      "outputs": [
        {
          "output_type": "execute_result",
          "data": {
            "text/plain": [
              "True"
            ]
          },
          "metadata": {},
          "execution_count": 15
        }
      ]
    },
    {
      "cell_type": "code",
      "source": [
        "bool({})"
      ],
      "metadata": {
        "colab": {
          "base_uri": "https://localhost:8080/"
        },
        "id": "InNwX6pAyJxG",
        "outputId": "56328925-933c-41d4-c509-dcbebad6c894"
      },
      "execution_count": null,
      "outputs": [
        {
          "output_type": "execute_result",
          "data": {
            "text/plain": [
              "False"
            ]
          },
          "metadata": {},
          "execution_count": 16
        }
      ]
    },
    {
      "cell_type": "code",
      "source": [
        "bool({1})"
      ],
      "metadata": {
        "colab": {
          "base_uri": "https://localhost:8080/"
        },
        "id": "m4vWOdxzyunm",
        "outputId": "9b89be32-9165-4b51-c493-16050ece7b1f"
      },
      "execution_count": null,
      "outputs": [
        {
          "output_type": "execute_result",
          "data": {
            "text/plain": [
              "True"
            ]
          },
          "metadata": {},
          "execution_count": 17
        }
      ]
    },
    {
      "cell_type": "code",
      "source": [
        "bool({False})"
      ],
      "metadata": {
        "colab": {
          "base_uri": "https://localhost:8080/"
        },
        "id": "4qbtgRUly-yV",
        "outputId": "8067c02a-fa4e-4d42-c9af-e559c98e9f45"
      },
      "execution_count": null,
      "outputs": [
        {
          "output_type": "execute_result",
          "data": {
            "text/plain": [
              "True"
            ]
          },
          "metadata": {},
          "execution_count": 18
        }
      ]
    },
    {
      "cell_type": "code",
      "source": [
        "bool({0})"
      ],
      "metadata": {
        "colab": {
          "base_uri": "https://localhost:8080/"
        },
        "id": "6dPzWFH6zNH1",
        "outputId": "0209300c-c844-4a8a-ea25-8abbebc86a96"
      },
      "execution_count": null,
      "outputs": [
        {
          "output_type": "execute_result",
          "data": {
            "text/plain": [
              "True"
            ]
          },
          "metadata": {},
          "execution_count": 19
        }
      ]
    },
    {
      "cell_type": "code",
      "source": [
        "bool(0)"
      ],
      "metadata": {
        "colab": {
          "base_uri": "https://localhost:8080/"
        },
        "id": "2933GGvazUxl",
        "outputId": "f67b383e-c1df-4bde-9b84-85aedb8e9fc9"
      },
      "execution_count": null,
      "outputs": [
        {
          "output_type": "execute_result",
          "data": {
            "text/plain": [
              "False"
            ]
          },
          "metadata": {},
          "execution_count": 20
        }
      ]
    },
    {
      "cell_type": "code",
      "source": [
        "bool({{}})  "
      ],
      "metadata": {
        "colab": {
          "base_uri": "https://localhost:8080/",
          "height": 165
        },
        "id": "kcHZ68D0zXQ1",
        "outputId": "49961b57-7e66-4d8d-caf6-198d415b3f8e"
      },
      "execution_count": null,
      "outputs": [
        {
          "output_type": "error",
          "ename": "TypeError",
          "evalue": "ignored",
          "traceback": [
            "\u001b[0;31m---------------------------------------------------------------------------\u001b[0m",
            "\u001b[0;31mTypeError\u001b[0m                                 Traceback (most recent call last)",
            "\u001b[0;32m<ipython-input-22-d9741cdb5fc0>\u001b[0m in \u001b[0;36m<module>\u001b[0;34m()\u001b[0m\n\u001b[0;32m----> 1\u001b[0;31m \u001b[0mbool\u001b[0m\u001b[0;34m(\u001b[0m\u001b[0;34m{\u001b[0m\u001b[0;34m{\u001b[0m\u001b[0;34m}\u001b[0m\u001b[0;34m}\u001b[0m\u001b[0;34m)\u001b[0m\u001b[0;34m\u001b[0m\u001b[0;34m\u001b[0m\u001b[0m\n\u001b[0m",
            "\u001b[0;31mTypeError\u001b[0m: unhashable type: 'dict'"
          ]
        }
      ]
    },
    {
      "cell_type": "code",
      "source": [
        "bool({({},)})"
      ],
      "metadata": {
        "colab": {
          "base_uri": "https://localhost:8080/",
          "height": 165
        },
        "id": "9nE_z5QBz8WW",
        "outputId": "c0c9bdf6-349b-4037-a8d6-f3c0f4b69e74"
      },
      "execution_count": null,
      "outputs": [
        {
          "output_type": "error",
          "ename": "TypeError",
          "evalue": "ignored",
          "traceback": [
            "\u001b[0;31m---------------------------------------------------------------------------\u001b[0m",
            "\u001b[0;31mTypeError\u001b[0m                                 Traceback (most recent call last)",
            "\u001b[0;32m<ipython-input-32-bda6b020af31>\u001b[0m in \u001b[0;36m<module>\u001b[0;34m()\u001b[0m\n\u001b[0;32m----> 1\u001b[0;31m \u001b[0mbool\u001b[0m\u001b[0;34m(\u001b[0m\u001b[0;34m{\u001b[0m\u001b[0;34m(\u001b[0m\u001b[0;34m{\u001b[0m\u001b[0;34m}\u001b[0m\u001b[0;34m,\u001b[0m\u001b[0;34m)\u001b[0m\u001b[0;34m}\u001b[0m\u001b[0;34m)\u001b[0m\u001b[0;34m\u001b[0m\u001b[0;34m\u001b[0m\u001b[0m\n\u001b[0m",
            "\u001b[0;31mTypeError\u001b[0m: unhashable type: 'dict'"
          ]
        }
      ]
    },
    {
      "cell_type": "code",
      "source": [
        "bool({()})"
      ],
      "metadata": {
        "colab": {
          "base_uri": "https://localhost:8080/"
        },
        "id": "U8zKUiF20HEF",
        "outputId": "1fb1c126-dcbc-4bc6-a11a-8823dd5914d5"
      },
      "execution_count": null,
      "outputs": [
        {
          "output_type": "execute_result",
          "data": {
            "text/plain": [
              "True"
            ]
          },
          "metadata": {},
          "execution_count": 25
        }
      ]
    },
    {
      "cell_type": "code",
      "source": [
        "print(type({({1:\"krishna\"},)}))     "
      ],
      "metadata": {
        "colab": {
          "base_uri": "https://localhost:8080/",
          "height": 165
        },
        "id": "Dmejg-vP0XSl",
        "outputId": "e7b67417-5c2c-4bc9-babd-91f3f2f75f54"
      },
      "execution_count": null,
      "outputs": [
        {
          "output_type": "error",
          "ename": "TypeError",
          "evalue": "ignored",
          "traceback": [
            "\u001b[0;31m---------------------------------------------------------------------------\u001b[0m",
            "\u001b[0;31mTypeError\u001b[0m                                 Traceback (most recent call last)",
            "\u001b[0;32m<ipython-input-34-82ab90a7f461>\u001b[0m in \u001b[0;36m<module>\u001b[0;34m()\u001b[0m\n\u001b[0;32m----> 1\u001b[0;31m \u001b[0mprint\u001b[0m\u001b[0;34m(\u001b[0m\u001b[0mtype\u001b[0m\u001b[0;34m(\u001b[0m\u001b[0;34m{\u001b[0m\u001b[0;34m(\u001b[0m\u001b[0;34m{\u001b[0m\u001b[0;36m1\u001b[0m\u001b[0;34m:\u001b[0m\u001b[0;34m\"krishna\"\u001b[0m\u001b[0;34m}\u001b[0m\u001b[0;34m,\u001b[0m\u001b[0;34m)\u001b[0m\u001b[0;34m}\u001b[0m\u001b[0;34m)\u001b[0m\u001b[0;34m)\u001b[0m\u001b[0;34m\u001b[0m\u001b[0;34m\u001b[0m\u001b[0m\n\u001b[0m",
            "\u001b[0;31mTypeError\u001b[0m: unhashable type: 'dict'"
          ]
        }
      ]
    },
    {
      "cell_type": "code",
      "source": [
        "a=(1)\n",
        "print(type(a))"
      ],
      "metadata": {
        "colab": {
          "base_uri": "https://localhost:8080/"
        },
        "id": "CkYTdu430yIV",
        "outputId": "acf46fe6-4e19-47ee-84bd-87d11595cc6f"
      },
      "execution_count": null,
      "outputs": [
        {
          "output_type": "stream",
          "name": "stdout",
          "text": [
            "<class 'int'>\n"
          ]
        }
      ]
    },
    {
      "cell_type": "code",
      "source": [
        "{({1:2},1,2,3,1,2,3)}"
      ],
      "metadata": {
        "colab": {
          "base_uri": "https://localhost:8080/",
          "height": 165
        },
        "id": "FVG1d8yi1EhV",
        "outputId": "25b8892a-70a7-41de-d5d5-6092bb3cfb74"
      },
      "execution_count": null,
      "outputs": [
        {
          "output_type": "error",
          "ename": "TypeError",
          "evalue": "ignored",
          "traceback": [
            "\u001b[0;31m---------------------------------------------------------------------------\u001b[0m",
            "\u001b[0;31mTypeError\u001b[0m                                 Traceback (most recent call last)",
            "\u001b[0;32m<ipython-input-37-ddd0ca3b2ed1>\u001b[0m in \u001b[0;36m<module>\u001b[0;34m()\u001b[0m\n\u001b[0;32m----> 1\u001b[0;31m \u001b[0;34m{\u001b[0m\u001b[0;34m(\u001b[0m\u001b[0;34m{\u001b[0m\u001b[0;36m1\u001b[0m\u001b[0;34m:\u001b[0m\u001b[0;36m2\u001b[0m\u001b[0;34m}\u001b[0m\u001b[0;34m,\u001b[0m\u001b[0;36m1\u001b[0m\u001b[0;34m,\u001b[0m\u001b[0;36m2\u001b[0m\u001b[0;34m,\u001b[0m\u001b[0;36m3\u001b[0m\u001b[0;34m,\u001b[0m\u001b[0;36m1\u001b[0m\u001b[0;34m,\u001b[0m\u001b[0;36m2\u001b[0m\u001b[0;34m,\u001b[0m\u001b[0;36m3\u001b[0m\u001b[0;34m)\u001b[0m\u001b[0;34m}\u001b[0m\u001b[0;34m\u001b[0m\u001b[0;34m\u001b[0m\u001b[0m\n\u001b[0m",
            "\u001b[0;31mTypeError\u001b[0m: unhashable type: 'dict'"
          ]
        }
      ]
    },
    {
      "cell_type": "code",
      "source": [
        "bool(0.0)"
      ],
      "metadata": {
        "colab": {
          "base_uri": "https://localhost:8080/"
        },
        "id": "LN_3spY21hg2",
        "outputId": "132ea4f5-3335-4796-c9a2-45182ecbf7e0"
      },
      "execution_count": null,
      "outputs": [
        {
          "output_type": "execute_result",
          "data": {
            "text/plain": [
              "False"
            ]
          },
          "metadata": {},
          "execution_count": 38
        }
      ]
    },
    {
      "cell_type": "code",
      "source": [
        "bool()"
      ],
      "metadata": {
        "colab": {
          "base_uri": "https://localhost:8080/"
        },
        "id": "C-WUoRpS1-8Y",
        "outputId": "3966415a-2fec-44f2-a8ba-51fc14863cab"
      },
      "execution_count": null,
      "outputs": [
        {
          "output_type": "execute_result",
          "data": {
            "text/plain": [
              "False"
            ]
          },
          "metadata": {},
          "execution_count": 39
        }
      ]
    },
    {
      "cell_type": "code",
      "source": [
        "bool([])"
      ],
      "metadata": {
        "colab": {
          "base_uri": "https://localhost:8080/"
        },
        "id": "RUEPvRG22AP5",
        "outputId": "fa153ee7-f043-4ebd-ea11-29743a030427"
      },
      "execution_count": null,
      "outputs": [
        {
          "output_type": "execute_result",
          "data": {
            "text/plain": [
              "False"
            ]
          },
          "metadata": {},
          "execution_count": 40
        }
      ]
    },
    {
      "cell_type": "code",
      "source": [
        "bool([[]])"
      ],
      "metadata": {
        "colab": {
          "base_uri": "https://localhost:8080/"
        },
        "id": "o846dnah2C33",
        "outputId": "690126f1-7ea7-498f-d556-470290b33921"
      },
      "execution_count": null,
      "outputs": [
        {
          "output_type": "execute_result",
          "data": {
            "text/plain": [
              "True"
            ]
          },
          "metadata": {},
          "execution_count": 41
        }
      ]
    },
    {
      "cell_type": "code",
      "source": [
        "bool({1:\"krishna\"})"
      ],
      "metadata": {
        "colab": {
          "base_uri": "https://localhost:8080/"
        },
        "id": "yyYFN9Fi2N0W",
        "outputId": "b600847b-668f-4e05-d1a3-961f378ba14b"
      },
      "execution_count": null,
      "outputs": [
        {
          "output_type": "execute_result",
          "data": {
            "text/plain": [
              "True"
            ]
          },
          "metadata": {},
          "execution_count": 42
        }
      ]
    },
    {
      "cell_type": "code",
      "source": [
        "bool({})"
      ],
      "metadata": {
        "colab": {
          "base_uri": "https://localhost:8080/"
        },
        "id": "DstoX7_d2gOV",
        "outputId": "d0f1e9cb-e3cc-48de-8331-59df12ccfb49"
      },
      "execution_count": null,
      "outputs": [
        {
          "output_type": "execute_result",
          "data": {
            "text/plain": [
              "False"
            ]
          },
          "metadata": {},
          "execution_count": 43
        }
      ]
    },
    {
      "cell_type": "code",
      "source": [
        "bool({1:{}})"
      ],
      "metadata": {
        "colab": {
          "base_uri": "https://localhost:8080/"
        },
        "id": "-Ec5h8pK3Cs2",
        "outputId": "b7e61535-bf7c-4ac0-b768-f4c02bdd06ed"
      },
      "execution_count": null,
      "outputs": [
        {
          "output_type": "execute_result",
          "data": {
            "text/plain": [
              "True"
            ]
          },
          "metadata": {},
          "execution_count": 44
        }
      ]
    },
    {
      "cell_type": "markdown",
      "source": [
        "# operators\n",
        "\n",
        "Arithmetic operator: *,**,/,//,-,+,%\n",
        "\n",
        "Bitwise operator : &, |,<<,>>,~\n",
        "\n",
        "membership operator: in, not in, "
      ],
      "metadata": {
        "id": "JblugDYA3G2l"
      }
    },
    {
      "cell_type": "code",
      "source": [
        "a=10\n",
        "b=20"
      ],
      "metadata": {
        "id": "NFiLS8Xw3QGF"
      },
      "execution_count": null,
      "outputs": []
    },
    {
      "cell_type": "code",
      "source": [
        "a,b=10,20"
      ],
      "metadata": {
        "id": "Gbnww8Zc4bX1"
      },
      "execution_count": null,
      "outputs": []
    },
    {
      "cell_type": "code",
      "source": [
        "a=10\n",
        "b=20\n",
        "print(\"a value :\", a)\n",
        "print(\"b value :\", b)"
      ],
      "metadata": {
        "colab": {
          "base_uri": "https://localhost:8080/"
        },
        "id": "7VgVFi9z4l61",
        "outputId": "07bff352-fdb0-490f-abc6-32fd858a0bf6"
      },
      "execution_count": null,
      "outputs": [
        {
          "output_type": "stream",
          "name": "stdout",
          "text": [
            "a value : 10\n",
            "b value : 20\n"
          ]
        }
      ]
    },
    {
      "cell_type": "code",
      "source": [
        "a,b=20,10"
      ],
      "metadata": {
        "id": "T98UseAO46X2"
      },
      "execution_count": null,
      "outputs": []
    },
    {
      "cell_type": "code",
      "source": [
        "print(\"a value :\", a)\n",
        "print(\"b value :\", b)"
      ],
      "metadata": {
        "colab": {
          "base_uri": "https://localhost:8080/"
        },
        "id": "1eO5WkD05CuW",
        "outputId": "eacd848b-eb46-4043-c8e1-8fda520c240e"
      },
      "execution_count": null,
      "outputs": [
        {
          "output_type": "stream",
          "name": "stdout",
          "text": [
            "a value : 20\n",
            "b value : 10\n"
          ]
        }
      ]
    },
    {
      "cell_type": "code",
      "source": [
        "a"
      ],
      "metadata": {
        "colab": {
          "base_uri": "https://localhost:8080/"
        },
        "id": "3Mu27t4Y5EyW",
        "outputId": "6c08f4c5-d0f5-44bd-8ad0-4d04804bd8fc"
      },
      "execution_count": null,
      "outputs": [
        {
          "output_type": "execute_result",
          "data": {
            "text/plain": [
              "30"
            ]
          },
          "metadata": {},
          "execution_count": 60
        }
      ]
    },
    {
      "cell_type": "code",
      "source": [
        "b"
      ],
      "metadata": {
        "colab": {
          "base_uri": "https://localhost:8080/"
        },
        "id": "B4gV1FrS5NjF",
        "outputId": "d22ec1c9-6e16-4995-dc1e-73428f2f35ac"
      },
      "execution_count": null,
      "outputs": [
        {
          "output_type": "execute_result",
          "data": {
            "text/plain": [
              "20"
            ]
          },
          "metadata": {},
          "execution_count": 61
        }
      ]
    },
    {
      "cell_type": "code",
      "source": [
        "a=20\n",
        "b=10\n"
      ],
      "metadata": {
        "id": "9he3CKyS6KjK"
      },
      "execution_count": null,
      "outputs": []
    },
    {
      "cell_type": "code",
      "source": [
        "x=20\n",
        "y=10\n",
        "x=x+y  #//30\n",
        "y=x-y  # 20\n",
        "x=x-y  #30-20=10\n",
        "print(\"x value :\", x)\n",
        "print(\"y value :\", y)"
      ],
      "metadata": {
        "colab": {
          "base_uri": "https://localhost:8080/"
        },
        "id": "DiqqfwrF5N9F",
        "outputId": "cf539f87-8ba8-4341-c11a-e3de1cd721ca"
      },
      "execution_count": null,
      "outputs": [
        {
          "output_type": "stream",
          "name": "stdout",
          "text": [
            "x value : 10\n",
            "y value : 20\n"
          ]
        }
      ]
    },
    {
      "cell_type": "code",
      "source": [],
      "metadata": {
        "id": "4kPh8P8I-98V"
      },
      "execution_count": null,
      "outputs": []
    },
    {
      "cell_type": "code",
      "source": [
        "a=10"
      ],
      "metadata": {
        "id": "cXqDj7ao6nXx"
      },
      "execution_count": null,
      "outputs": []
    },
    {
      "cell_type": "code",
      "source": [
        "b=20"
      ],
      "metadata": {
        "id": "R9qP60DX_GU4"
      },
      "execution_count": null,
      "outputs": []
    },
    {
      "cell_type": "code",
      "source": [
        "a+b"
      ],
      "metadata": {
        "colab": {
          "base_uri": "https://localhost:8080/"
        },
        "id": "3MPB59vq_G6I",
        "outputId": "08383316-5fbb-4cae-e1b3-7ea786024b10"
      },
      "execution_count": null,
      "outputs": [
        {
          "output_type": "execute_result",
          "data": {
            "text/plain": [
              "30"
            ]
          },
          "metadata": {},
          "execution_count": 81
        }
      ]
    },
    {
      "cell_type": "code",
      "source": [
        "a-b"
      ],
      "metadata": {
        "colab": {
          "base_uri": "https://localhost:8080/"
        },
        "id": "snoxIZ66_H1Y",
        "outputId": "1e2b81ec-044d-468d-cba7-0bef2d4f4bbf"
      },
      "execution_count": null,
      "outputs": [
        {
          "output_type": "execute_result",
          "data": {
            "text/plain": [
              "-10"
            ]
          },
          "metadata": {},
          "execution_count": 82
        }
      ]
    },
    {
      "cell_type": "code",
      "source": [
        "a/b"
      ],
      "metadata": {
        "colab": {
          "base_uri": "https://localhost:8080/"
        },
        "id": "Qync66ca_I8p",
        "outputId": "b2938ac9-fe12-46e3-dfad-548a2053cb2e"
      },
      "execution_count": null,
      "outputs": [
        {
          "output_type": "execute_result",
          "data": {
            "text/plain": [
              "0.5"
            ]
          },
          "metadata": {},
          "execution_count": 83
        }
      ]
    },
    {
      "cell_type": "code",
      "source": [
        "a*b"
      ],
      "metadata": {
        "colab": {
          "base_uri": "https://localhost:8080/"
        },
        "id": "TefDGM7K_KVp",
        "outputId": "4943bbe4-49c0-44a8-d762-39d0607007c7"
      },
      "execution_count": null,
      "outputs": [
        {
          "output_type": "execute_result",
          "data": {
            "text/plain": [
              "200"
            ]
          },
          "metadata": {},
          "execution_count": 84
        }
      ]
    },
    {
      "cell_type": "code",
      "source": [
        "a**b"
      ],
      "metadata": {
        "colab": {
          "base_uri": "https://localhost:8080/"
        },
        "id": "DozTMMhy_M4-",
        "outputId": "e36e99a1-0478-44f7-f34d-152606f33864"
      },
      "execution_count": null,
      "outputs": [
        {
          "output_type": "execute_result",
          "data": {
            "text/plain": [
              "100000000000000000000"
            ]
          },
          "metadata": {},
          "execution_count": 85
        }
      ]
    },
    {
      "cell_type": "code",
      "source": [
        "c=10.0\n",
        "d=20"
      ],
      "metadata": {
        "id": "j9IYTxHU_PQH"
      },
      "execution_count": null,
      "outputs": []
    },
    {
      "cell_type": "code",
      "source": [
        "c+d"
      ],
      "metadata": {
        "colab": {
          "base_uri": "https://localhost:8080/"
        },
        "id": "sRIiFIaF_ahH",
        "outputId": "cce69665-7263-4abb-f972-8845b8835dcf"
      },
      "execution_count": null,
      "outputs": [
        {
          "output_type": "execute_result",
          "data": {
            "text/plain": [
              "30.0"
            ]
          },
          "metadata": {},
          "execution_count": 88
        }
      ]
    },
    {
      "cell_type": "code",
      "source": [
        "c-d"
      ],
      "metadata": {
        "colab": {
          "base_uri": "https://localhost:8080/"
        },
        "id": "Taqo5Qps_dXX",
        "outputId": "7defb491-b350-4d34-c24a-eb9e184c8c13"
      },
      "execution_count": null,
      "outputs": [
        {
          "output_type": "execute_result",
          "data": {
            "text/plain": [
              "-10.0"
            ]
          },
          "metadata": {},
          "execution_count": 89
        }
      ]
    },
    {
      "cell_type": "code",
      "source": [
        "c*d"
      ],
      "metadata": {
        "colab": {
          "base_uri": "https://localhost:8080/"
        },
        "id": "mJ2Xtz11_f_5",
        "outputId": "a44a1267-46f4-4638-a90f-957fd9bc4cd2"
      },
      "execution_count": null,
      "outputs": [
        {
          "output_type": "execute_result",
          "data": {
            "text/plain": [
              "200.0"
            ]
          },
          "metadata": {},
          "execution_count": 90
        }
      ]
    },
    {
      "cell_type": "code",
      "source": [
        "c**10"
      ],
      "metadata": {
        "colab": {
          "base_uri": "https://localhost:8080/"
        },
        "id": "Nck5a6no_hxm",
        "outputId": "5621dee8-615c-47e8-e62e-fc546c024344"
      },
      "execution_count": null,
      "outputs": [
        {
          "output_type": "execute_result",
          "data": {
            "text/plain": [
              "10000000000.0"
            ]
          },
          "metadata": {},
          "execution_count": 93
        }
      ]
    },
    {
      "cell_type": "code",
      "source": [
        "print(2e10)"
      ],
      "metadata": {
        "colab": {
          "base_uri": "https://localhost:8080/"
        },
        "id": "qJFi_muV_j_W",
        "outputId": "fa1e9e75-7491-4cec-c939-7c4c92f20c9b"
      },
      "execution_count": null,
      "outputs": [
        {
          "output_type": "stream",
          "name": "stdout",
          "text": [
            "20000000000.0\n"
          ]
        }
      ]
    },
    {
      "cell_type": "code",
      "source": [
        "e=10.0\n",
        "f=3"
      ],
      "metadata": {
        "id": "k_NNUGav_vlG"
      },
      "execution_count": null,
      "outputs": []
    },
    {
      "cell_type": "code",
      "source": [
        "e/f"
      ],
      "metadata": {
        "colab": {
          "base_uri": "https://localhost:8080/"
        },
        "id": "PHHcx-RL_8BW",
        "outputId": "57f8c613-673c-4059-e28a-9fc2d5c3b3ec"
      },
      "execution_count": null,
      "outputs": [
        {
          "output_type": "execute_result",
          "data": {
            "text/plain": [
              "3.3333333333333335"
            ]
          },
          "metadata": {},
          "execution_count": 95
        }
      ]
    },
    {
      "cell_type": "code",
      "source": [
        "e//f"
      ],
      "metadata": {
        "colab": {
          "base_uri": "https://localhost:8080/"
        },
        "id": "fUuMPec7_87m",
        "outputId": "bf063bdc-7c34-410a-e04b-dd6d4c93ae9e"
      },
      "execution_count": null,
      "outputs": [
        {
          "output_type": "execute_result",
          "data": {
            "text/plain": [
              "3.0"
            ]
          },
          "metadata": {},
          "execution_count": 96
        }
      ]
    },
    {
      "cell_type": "code",
      "source": [
        "e%f"
      ],
      "metadata": {
        "colab": {
          "base_uri": "https://localhost:8080/"
        },
        "id": "-CnMSXZFAAq3",
        "outputId": "5f55cc3d-2ddd-4807-a05c-e6b9cf1c8816"
      },
      "execution_count": null,
      "outputs": [
        {
          "output_type": "execute_result",
          "data": {
            "text/plain": [
              "1.0"
            ]
          },
          "metadata": {},
          "execution_count": 97
        }
      ]
    },
    {
      "cell_type": "code",
      "source": [
        "10.0%3"
      ],
      "metadata": {
        "colab": {
          "base_uri": "https://localhost:8080/"
        },
        "id": "2cTysXW4AEIm",
        "outputId": "9bbaaa16-2f0d-47c8-d3b5-673f37054aba"
      },
      "execution_count": null,
      "outputs": [
        {
          "output_type": "execute_result",
          "data": {
            "text/plain": [
              "1.0"
            ]
          },
          "metadata": {},
          "execution_count": 99
        }
      ]
    },
    {
      "cell_type": "code",
      "source": [
        "10%3.0"
      ],
      "metadata": {
        "colab": {
          "base_uri": "https://localhost:8080/"
        },
        "id": "jC0_rC6FAP3X",
        "outputId": "ab7bc6c7-58fd-4491-fa97-93ebdb98a7d4"
      },
      "execution_count": null,
      "outputs": [
        {
          "output_type": "execute_result",
          "data": {
            "text/plain": [
              "1.0"
            ]
          },
          "metadata": {},
          "execution_count": 100
        }
      ]
    },
    {
      "cell_type": "code",
      "source": [
        "10.0%3.0"
      ],
      "metadata": {
        "colab": {
          "base_uri": "https://localhost:8080/"
        },
        "id": "1Xw1tW5BAUwm",
        "outputId": "6d202b20-de34-4b45-d3d5-a34fbc5d5d4f"
      },
      "execution_count": null,
      "outputs": [
        {
          "output_type": "execute_result",
          "data": {
            "text/plain": [
              "1.0"
            ]
          },
          "metadata": {},
          "execution_count": 101
        }
      ]
    },
    {
      "cell_type": "code",
      "source": [
        "\"python\" in \"python is funny language\""
      ],
      "metadata": {
        "colab": {
          "base_uri": "https://localhost:8080/"
        },
        "id": "vsXLQHuJAXKH",
        "outputId": "618e189e-810f-4cba-ebf8-7d8e2c20c8a2"
      },
      "execution_count": null,
      "outputs": [
        {
          "output_type": "execute_result",
          "data": {
            "text/plain": [
              "True"
            ]
          },
          "metadata": {},
          "execution_count": 102
        }
      ]
    },
    {
      "cell_type": "code",
      "source": [
        "a=\"python\"\n",
        "b=\"Python is funny lanaguage\""
      ],
      "metadata": {
        "id": "WDSlkEZ6AjA3"
      },
      "execution_count": null,
      "outputs": []
    },
    {
      "cell_type": "code",
      "source": [],
      "metadata": {
        "id": "jN4sC9tBBOpz"
      },
      "execution_count": null,
      "outputs": []
    },
    {
      "cell_type": "code",
      "source": [
        "a in b"
      ],
      "metadata": {
        "colab": {
          "base_uri": "https://localhost:8080/"
        },
        "id": "KqQymCRwAu33",
        "outputId": "8e214774-5d29-4218-cfdd-aa3606ba9e5b"
      },
      "execution_count": null,
      "outputs": [
        {
          "output_type": "execute_result",
          "data": {
            "text/plain": [
              "False"
            ]
          },
          "metadata": {},
          "execution_count": 116
        }
      ]
    },
    {
      "cell_type": "code",
      "source": [
        "print(id(a))"
      ],
      "metadata": {
        "colab": {
          "base_uri": "https://localhost:8080/"
        },
        "id": "lz8GZNFtAwnJ",
        "outputId": "27b4af2c-5b1b-4f23-f2c0-451df51e3066"
      },
      "execution_count": null,
      "outputs": [
        {
          "output_type": "stream",
          "name": "stdout",
          "text": [
            "140385084134128\n"
          ]
        }
      ]
    },
    {
      "cell_type": "code",
      "source": [
        "print(id(b[0:6]))\n",
        "b[0:6]"
      ],
      "metadata": {
        "colab": {
          "base_uri": "https://localhost:8080/",
          "height": 53
        },
        "id": "9hmw90SZA0SG",
        "outputId": "8a085ab6-2a9a-4436-deaf-744e6a7cb3b0"
      },
      "execution_count": null,
      "outputs": [
        {
          "output_type": "stream",
          "name": "stdout",
          "text": [
            "140384571560816\n"
          ]
        },
        {
          "output_type": "execute_result",
          "data": {
            "text/plain": [
              "'python'"
            ],
            "application/vnd.google.colaboratory.intrinsic+json": {
              "type": "string"
            }
          },
          "metadata": {},
          "execution_count": 114
        }
      ]
    },
    {
      "cell_type": "code",
      "source": [
        "a not in b"
      ],
      "metadata": {
        "colab": {
          "base_uri": "https://localhost:8080/"
        },
        "id": "HlDA9JeSA61X",
        "outputId": "0b41ffd6-bbfa-44ea-bd6f-71ee56a2d7d5"
      },
      "execution_count": null,
      "outputs": [
        {
          "output_type": "execute_result",
          "data": {
            "text/plain": [
              "True"
            ]
          },
          "metadata": {},
          "execution_count": 118
        }
      ]
    },
    {
      "cell_type": "code",
      "source": [
        "a=10\n",
        "b=20\n",
        "a is b\n",
        "a is not b"
      ],
      "metadata": {
        "colab": {
          "base_uri": "https://localhost:8080/"
        },
        "id": "dxT8tCgzBYoW",
        "outputId": "7275b735-7a26-4e13-e6f3-5bf625c9216d"
      },
      "execution_count": null,
      "outputs": [
        {
          "output_type": "execute_result",
          "data": {
            "text/plain": [
              "True"
            ]
          },
          "metadata": {},
          "execution_count": 120
        }
      ]
    },
    {
      "cell_type": "code",
      "source": [
        "a=10"
      ],
      "metadata": {
        "id": "eQ5IzGwYBea2"
      },
      "execution_count": null,
      "outputs": []
    },
    {
      "cell_type": "code",
      "source": [
        "a+=1 # a=a+1"
      ],
      "metadata": {
        "id": "wQwbhEEqB08W"
      },
      "execution_count": null,
      "outputs": []
    },
    {
      "cell_type": "code",
      "source": [
        "a"
      ],
      "metadata": {
        "colab": {
          "base_uri": "https://localhost:8080/"
        },
        "id": "7vRQa0WzB1zH",
        "outputId": "e698a28f-f279-4d63-919d-63d25f336230"
      },
      "execution_count": null,
      "outputs": [
        {
          "output_type": "execute_result",
          "data": {
            "text/plain": [
              "11"
            ]
          },
          "metadata": {},
          "execution_count": 124
        }
      ]
    },
    {
      "cell_type": "code",
      "source": [
        "a=10"
      ],
      "metadata": {
        "id": "-Iwt5NYYB5FG"
      },
      "execution_count": null,
      "outputs": []
    },
    {
      "cell_type": "code",
      "source": [
        "b=20"
      ],
      "metadata": {
        "id": "_N_Z8lfIB_so"
      },
      "execution_count": null,
      "outputs": []
    },
    {
      "cell_type": "code",
      "source": [
        "a/b"
      ],
      "metadata": {
        "colab": {
          "base_uri": "https://localhost:8080/"
        },
        "id": "hB6Evh3tCAam",
        "outputId": "e366e298-bf41-4355-c7d7-d5ecbf506803"
      },
      "execution_count": null,
      "outputs": [
        {
          "output_type": "execute_result",
          "data": {
            "text/plain": [
              "0.5"
            ]
          },
          "metadata": {},
          "execution_count": 127
        }
      ]
    },
    {
      "cell_type": "code",
      "source": [
        "a/=b"
      ],
      "metadata": {
        "id": "Ll6xw6A9CCBm"
      },
      "execution_count": null,
      "outputs": []
    },
    {
      "cell_type": "code",
      "source": [
        "a"
      ],
      "metadata": {
        "colab": {
          "base_uri": "https://localhost:8080/"
        },
        "id": "jnEBYwmCCEKW",
        "outputId": "73f6f067-f3c8-472e-9582-51c903a83c66"
      },
      "execution_count": null,
      "outputs": [
        {
          "output_type": "execute_result",
          "data": {
            "text/plain": [
              "0.5"
            ]
          },
          "metadata": {},
          "execution_count": 129
        }
      ]
    },
    {
      "cell_type": "code",
      "source": [
        "a=10\n",
        "b=20"
      ],
      "metadata": {
        "id": "-Wr2fbrhCFAW"
      },
      "execution_count": null,
      "outputs": []
    },
    {
      "cell_type": "code",
      "source": [
        "a-=b"
      ],
      "metadata": {
        "id": "yNJWqHmSCLBX"
      },
      "execution_count": null,
      "outputs": []
    },
    {
      "cell_type": "code",
      "source": [
        "a"
      ],
      "metadata": {
        "colab": {
          "base_uri": "https://localhost:8080/"
        },
        "id": "M2JDSC1RCL7W",
        "outputId": "21fa0b34-521a-4dbb-ad75-7c5a61df7d00"
      },
      "execution_count": null,
      "outputs": [
        {
          "output_type": "execute_result",
          "data": {
            "text/plain": [
              "-10"
            ]
          },
          "metadata": {},
          "execution_count": 132
        }
      ]
    },
    {
      "cell_type": "markdown",
      "source": [
        "# Bitwise operator\n",
        "\n",
        "Number system in CS\n",
        "\n",
        "Binary Number system(0,1)(computer understandable lanaguage/ Machine language)\n",
        "\n",
        "octal number system(0,1,2,3,4,5,6,7)\n",
        "\n",
        "Decimal Number system (0,1,2,3,4,5,6,7,8,9)\n",
        "\n",
        "Hexdecimal number system (0,1,2,3,4,5,6,7,8,9,A,B,C,D,E,F)"
      ],
      "metadata": {
        "id": "JJrX0KxkCNIW"
      }
    },
    {
      "cell_type": "code",
      "source": [
        "~12"
      ],
      "metadata": {
        "colab": {
          "base_uri": "https://localhost:8080/"
        },
        "id": "7KibbfBKCX2I",
        "outputId": "440632ca-5fb3-4fc0-e337-6a0e3e5a7659"
      },
      "execution_count": null,
      "outputs": [
        {
          "output_type": "execute_result",
          "data": {
            "text/plain": [
              "-13"
            ]
          },
          "metadata": {},
          "execution_count": 134
        }
      ]
    },
    {
      "cell_type": "code",
      "source": [
        "~14"
      ],
      "metadata": {
        "colab": {
          "base_uri": "https://localhost:8080/"
        },
        "id": "w0QA1_Q4CbWH",
        "outputId": "0136c6de-06e5-411a-a1f9-9aafdc2488d3"
      },
      "execution_count": null,
      "outputs": [
        {
          "output_type": "execute_result",
          "data": {
            "text/plain": [
              "-15"
            ]
          },
          "metadata": {},
          "execution_count": 135
        }
      ]
    },
    {
      "cell_type": "code",
      "source": [
        "~24"
      ],
      "metadata": {
        "colab": {
          "base_uri": "https://localhost:8080/"
        },
        "id": "NipxO3BCFARD",
        "outputId": "f92b9b59-88e7-410c-a2b0-98c673a69c8b"
      },
      "execution_count": null,
      "outputs": [
        {
          "output_type": "execute_result",
          "data": {
            "text/plain": [
              "-25"
            ]
          },
          "metadata": {},
          "execution_count": 136
        }
      ]
    },
    {
      "cell_type": "code",
      "source": [
        "~(-12)"
      ],
      "metadata": {
        "colab": {
          "base_uri": "https://localhost:8080/"
        },
        "id": "3EKxa3CjFDNo",
        "outputId": "9aaa40dc-ab14-40f7-a613-ffbdeb4fc125"
      },
      "execution_count": null,
      "outputs": [
        {
          "output_type": "execute_result",
          "data": {
            "text/plain": [
              "11"
            ]
          },
          "metadata": {},
          "execution_count": 137
        }
      ]
    },
    {
      "cell_type": "code",
      "source": [
        "a=10\n",
        "b=11\n",
        "a|b"
      ],
      "metadata": {
        "colab": {
          "base_uri": "https://localhost:8080/"
        },
        "id": "KiavkuLLFJeW",
        "outputId": "f5bf3f1e-9122-4c0f-a01e-c6928f41da90"
      },
      "execution_count": null,
      "outputs": [
        {
          "output_type": "execute_result",
          "data": {
            "text/plain": [
              "11"
            ]
          },
          "metadata": {},
          "execution_count": 141
        }
      ]
    },
    {
      "cell_type": "code",
      "source": [
        "~(\"krishna\")"
      ],
      "metadata": {
        "id": "TujQpwrAFjRH",
        "colab": {
          "base_uri": "https://localhost:8080/",
          "height": 165
        },
        "outputId": "66f9f389-4d67-4e79-e64f-57591539b70c"
      },
      "execution_count": null,
      "outputs": [
        {
          "output_type": "error",
          "ename": "TypeError",
          "evalue": "ignored",
          "traceback": [
            "\u001b[0;31m---------------------------------------------------------------------------\u001b[0m",
            "\u001b[0;31mTypeError\u001b[0m                                 Traceback (most recent call last)",
            "\u001b[0;32m<ipython-input-1-e5d3ae754b76>\u001b[0m in \u001b[0;36m<module>\u001b[0;34m\u001b[0m\n\u001b[0;32m----> 1\u001b[0;31m \u001b[0;34m~\u001b[0m\u001b[0;34m(\u001b[0m\u001b[0;34m\"krishna\"\u001b[0m\u001b[0;34m)\u001b[0m\u001b[0;34m\u001b[0m\u001b[0;34m\u001b[0m\u001b[0m\n\u001b[0m",
            "\u001b[0;31mTypeError\u001b[0m: bad operand type for unary ~: 'str'"
          ]
        }
      ]
    },
    {
      "cell_type": "markdown",
      "source": [
        "# |  => or "
      ],
      "metadata": {
        "id": "VDQhu3lkiJlk"
      }
    },
    {
      "cell_type": "code",
      "source": [
        "a=12\n",
        "b=13"
      ],
      "metadata": {
        "id": "Iu3Axnt4jsaJ"
      },
      "execution_count": null,
      "outputs": []
    },
    {
      "cell_type": "code",
      "source": [
        "a|b"
      ],
      "metadata": {
        "colab": {
          "base_uri": "https://localhost:8080/"
        },
        "id": "vPBGyFc6j06j",
        "outputId": "7440e315-8d0b-432d-e1e8-d92c4ceb708a"
      },
      "execution_count": null,
      "outputs": [
        {
          "output_type": "execute_result",
          "data": {
            "text/plain": [
              "13"
            ]
          },
          "metadata": {},
          "execution_count": 4
        }
      ]
    },
    {
      "cell_type": "code",
      "source": [
        "bin(12)"
      ],
      "metadata": {
        "colab": {
          "base_uri": "https://localhost:8080/",
          "height": 36
        },
        "id": "gpoYCSpcj37i",
        "outputId": "2b0d32e8-a567-4c43-a7ec-393ec0d37650"
      },
      "execution_count": null,
      "outputs": [
        {
          "output_type": "execute_result",
          "data": {
            "text/plain": [
              "'0b1100'"
            ],
            "application/vnd.google.colaboratory.intrinsic+json": {
              "type": "string"
            }
          },
          "metadata": {},
          "execution_count": 5
        }
      ]
    },
    {
      "cell_type": "code",
      "source": [
        "bin(13)"
      ],
      "metadata": {
        "colab": {
          "base_uri": "https://localhost:8080/",
          "height": 36
        },
        "id": "T7iJsf6VkHyx",
        "outputId": "4d1097b0-d2bb-4c0e-d96c-0e6edb015bf5"
      },
      "execution_count": null,
      "outputs": [
        {
          "output_type": "execute_result",
          "data": {
            "text/plain": [
              "'0b1101'"
            ],
            "application/vnd.google.colaboratory.intrinsic+json": {
              "type": "string"
            }
          },
          "metadata": {},
          "execution_count": 6
        }
      ]
    },
    {
      "cell_type": "markdown",
      "source": [
        "# & => and for binary operation"
      ],
      "metadata": {
        "id": "Qr4-N00_kUcD"
      }
    },
    {
      "cell_type": "code",
      "source": [
        "a&b"
      ],
      "metadata": {
        "colab": {
          "base_uri": "https://localhost:8080/"
        },
        "id": "hIJiYRdukzly",
        "outputId": "7788e94d-851e-4ff8-ac98-acf8c57afaa0"
      },
      "execution_count": null,
      "outputs": [
        {
          "output_type": "execute_result",
          "data": {
            "text/plain": [
              "12"
            ]
          },
          "metadata": {},
          "execution_count": 7
        }
      ]
    },
    {
      "cell_type": "code",
      "source": [
        "a<<2  #Left shift"
      ],
      "metadata": {
        "colab": {
          "base_uri": "https://localhost:8080/"
        },
        "id": "5X3j5-mck0ym",
        "outputId": "11f53887-4ca1-4ac5-a04d-3e1f514d9c93"
      },
      "execution_count": null,
      "outputs": [
        {
          "output_type": "execute_result",
          "data": {
            "text/plain": [
              "48"
            ]
          },
          "metadata": {},
          "execution_count": 9
        }
      ]
    },
    {
      "cell_type": "code",
      "source": [
        "a>>2"
      ],
      "metadata": {
        "colab": {
          "base_uri": "https://localhost:8080/"
        },
        "id": "u4nTUxjxlakR",
        "outputId": "e985dfb0-b409-418a-d267-33c44ea913ac"
      },
      "execution_count": null,
      "outputs": [
        {
          "output_type": "execute_result",
          "data": {
            "text/plain": [
              "3"
            ]
          },
          "metadata": {},
          "execution_count": 10
        }
      ]
    },
    {
      "cell_type": "code",
      "source": [
        "a^b"
      ],
      "metadata": {
        "colab": {
          "base_uri": "https://localhost:8080/"
        },
        "id": "NQxmSjq3mVux",
        "outputId": "6877acb9-52d9-4d69-8c99-dce83e14409a"
      },
      "execution_count": null,
      "outputs": [
        {
          "output_type": "execute_result",
          "data": {
            "text/plain": [
              "1"
            ]
          },
          "metadata": {},
          "execution_count": 11
        }
      ]
    },
    {
      "cell_type": "markdown",
      "source": [
        "# if else  elif"
      ],
      "metadata": {
        "id": "uJNPNflQmqTA"
      }
    },
    {
      "cell_type": "code",
      "source": [
        "print(\"Hello world\")\n",
        "print(\"This is Krishna\")\n",
        "print(\"I am MCA student\")"
      ],
      "metadata": {
        "colab": {
          "base_uri": "https://localhost:8080/",
          "height": 130
        },
        "id": "ncLnGBI3nsyw",
        "outputId": "df9d24ed-4e1a-4331-8fda-9c90cd709669"
      },
      "execution_count": null,
      "outputs": [
        {
          "output_type": "error",
          "ename": "IndentationError",
          "evalue": "ignored",
          "traceback": [
            "\u001b[0;36m  File \u001b[0;32m\"<ipython-input-19-a51e1377f149>\"\u001b[0;36m, line \u001b[0;32m3\u001b[0m\n\u001b[0;31m    print(\"I am MCA student\")\u001b[0m\n\u001b[0m    ^\u001b[0m\n\u001b[0;31mIndentationError\u001b[0m\u001b[0;31m:\u001b[0m unexpected indent\n"
          ]
        }
      ]
    },
    {
      "cell_type": "code",
      "source": [
        "\"Hello Krishna! how are you :\""
      ],
      "metadata": {
        "colab": {
          "base_uri": "https://localhost:8080/",
          "height": 36
        },
        "id": "zAcQe3Y1oKth",
        "outputId": "a0a66dd7-d7f8-44d9-bac4-4529c66ac4cc"
      },
      "execution_count": null,
      "outputs": [
        {
          "output_type": "execute_result",
          "data": {
            "text/plain": [
              "'Hello Krishna! how are you :'"
            ],
            "application/vnd.google.colaboratory.intrinsic+json": {
              "type": "string"
            }
          },
          "metadata": {},
          "execution_count": 20
        }
      ]
    },
    {
      "cell_type": "code",
      "source": [
        "input(\"Hello Krishna! how are you :\")"
      ],
      "metadata": {
        "colab": {
          "base_uri": "https://localhost:8080/",
          "height": 53
        },
        "id": "P_iGzUKhqXkf",
        "outputId": "84b1bc86-6a0a-4f79-9fe5-7ebe6ae581e2"
      },
      "execution_count": null,
      "outputs": [
        {
          "name": "stdout",
          "output_type": "stream",
          "text": [
            "Hello Krishna! how are you :I am fine\n"
          ]
        },
        {
          "output_type": "execute_result",
          "data": {
            "text/plain": [
              "'I am fine'"
            ],
            "application/vnd.google.colaboratory.intrinsic+json": {
              "type": "string"
            }
          },
          "metadata": {},
          "execution_count": 21
        }
      ]
    },
    {
      "cell_type": "code",
      "source": [
        "user=str(input(\"Hello Krishna! how are you :\"))\n"
      ],
      "metadata": {
        "colab": {
          "base_uri": "https://localhost:8080/"
        },
        "id": "PPhvxEQSqdBP",
        "outputId": "b5f5f698-4e4d-47c8-b8e0-d443e8e36226"
      },
      "execution_count": null,
      "outputs": [
        {
          "name": "stdout",
          "output_type": "stream",
          "text": [
            "Hello Krishna! how are you :erwerwl34234\n"
          ]
        }
      ]
    },
    {
      "cell_type": "code",
      "source": [
        "user"
      ],
      "metadata": {
        "colab": {
          "base_uri": "https://localhost:8080/",
          "height": 36
        },
        "id": "37EyorbXqjs-",
        "outputId": "ef9bfa9c-bf52-4cad-d866-455ba2eae1c6"
      },
      "execution_count": null,
      "outputs": [
        {
          "output_type": "execute_result",
          "data": {
            "text/plain": [
              "'erwerwl34234'"
            ],
            "application/vnd.google.colaboratory.intrinsic+json": {
              "type": "string"
            }
          },
          "metadata": {},
          "execution_count": 35
        }
      ]
    },
    {
      "cell_type": "code",
      "source": [
        "user=input(\"Hello krishna! how are you ?:\")\n",
        "if user==\"fine\":  #True\n",
        "  print(\"I am fine too thanks for asking \")\n",
        "  print(\"I am oversmart\")\n",
        "else:\n",
        "  print(\"Am i audible?\")"
      ],
      "metadata": {
        "colab": {
          "base_uri": "https://localhost:8080/"
        },
        "id": "r99G6nceq8Li",
        "outputId": "d8789bd8-7ef5-48f5-8628-74fd41ed2c73"
      },
      "execution_count": null,
      "outputs": [
        {
          "output_type": "stream",
          "name": "stdout",
          "text": [
            "Hello krishna! how are you ?:fine\n",
            "I am fine too thanks for asking \n",
            "I am oversmart\n"
          ]
        }
      ]
    },
    {
      "cell_type": "code",
      "source": [
        "user=input(\"Hello krishna! how are you ?:\")\n",
        "if user==\"fine\":\n",
        "  print(\"I am fine too thanks for asking \")\n",
        "else:\n",
        "  print(\"Am i audible?\")"
      ],
      "metadata": {
        "colab": {
          "base_uri": "https://localhost:8080/"
        },
        "id": "YzIMpgOQstoO",
        "outputId": "39529518-b553-47b4-b273-eae1333fb25a"
      },
      "execution_count": null,
      "outputs": [
        {
          "output_type": "stream",
          "name": "stdout",
          "text": [
            "Hello krishna! how are you ?:i dont want to talk\n",
            "Am i audible?\n"
          ]
        }
      ]
    },
    {
      "cell_type": "code",
      "source": [
        "user=input(\"Hello krishna! how are you ?:\")\n",
        "if user==\"fine\" or user==\"alright\":\n",
        "  print(\"I am fine too thanks for asking \")\n",
        "else:\n",
        "  print(\"Am i audible?\")"
      ],
      "metadata": {
        "colab": {
          "base_uri": "https://localhost:8080/"
        },
        "id": "fDXqpyR-tQWu",
        "outputId": "f31209d7-3119-4f8e-b45b-d73fe5e87220"
      },
      "execution_count": null,
      "outputs": [
        {
          "output_type": "stream",
          "name": "stdout",
          "text": [
            "Hello krishna! how are you ?:alright\n",
            "I am fine too thanks for asking \n"
          ]
        }
      ]
    },
    {
      "cell_type": "code",
      "source": [
        "user=input(\"Hello krishna! how are you ?:\")\n",
        "if user==\"fine\" or user==\"alright\" or user==\"good\":\n",
        "  print(\"I am fine too thanks for asking \")\n",
        "else:\n",
        "  print(\"Am i audible?\")"
      ],
      "metadata": {
        "colab": {
          "base_uri": "https://localhost:8080/"
        },
        "id": "TA_lhVMJuOPd",
        "outputId": "9aeca5c6-fa49-4102-dcd3-f7623c3c9755"
      },
      "execution_count": null,
      "outputs": [
        {
          "output_type": "stream",
          "name": "stdout",
          "text": [
            "Hello krishna! how are you ?:good\n",
            "I am fine too thanks for asking \n"
          ]
        }
      ]
    },
    {
      "cell_type": "code",
      "source": [
        "user=input(\"first talk:\")\n",
        "user1=input(\"Second talk:\")\n",
        "if user=='sorry' and user1=='how are you':\n",
        "  print(\"No problem man!!! i am fine thank you\")\n",
        "else:\n",
        "  print(\"i dont want to talk\")"
      ],
      "metadata": {
        "colab": {
          "base_uri": "https://localhost:8080/"
        },
        "id": "oh9rJ9SwuZAI",
        "outputId": "d08532b1-689f-4beb-fef2-b1aca298251e"
      },
      "execution_count": null,
      "outputs": [
        {
          "output_type": "stream",
          "name": "stdout",
          "text": [
            "first talk:sorry\n",
            "Second talk:how are you\n",
            "No problem man!!! i am fine thank you\n"
          ]
        }
      ]
    },
    {
      "cell_type": "code",
      "source": [
        "user=input(\"first talk:\")\n",
        "user1=input(\"Second talk:\")\n",
        "if user=='sorry' and user1=='how are you':\n",
        "  print(\"No problem man!!! i am fine thank you\")\n",
        "else:\n",
        "  print(\"i dont want to talk\")"
      ],
      "metadata": {
        "colab": {
          "base_uri": "https://localhost:8080/"
        },
        "id": "7n1ujRgHvaMX",
        "outputId": "471cfd20-155f-4a3d-8eef-15e485891709"
      },
      "execution_count": null,
      "outputs": [
        {
          "output_type": "stream",
          "name": "stdout",
          "text": [
            "first talk:sorry\n",
            "Second talk:...\n",
            "i dont want to talk\n"
          ]
        }
      ]
    },
    {
      "cell_type": "code",
      "source": [
        "num1=int(input(\"Enter 1st number\"))\n",
        "num2=int(input(\"enter 2nd number\"))\n",
        "\n",
        "if num1==10 and num2==20:\n",
        "  print(\"sum :\",num1+num2)\n",
        "else:\n",
        "  print(\"I forget how to add\")"
      ],
      "metadata": {
        "colab": {
          "base_uri": "https://localhost:8080/"
        },
        "id": "btfcXj7RvhOd",
        "outputId": "c86636d9-fd9e-4838-b8f3-ba5df26280d0"
      },
      "execution_count": null,
      "outputs": [
        {
          "output_type": "stream",
          "name": "stdout",
          "text": [
            "Enter 1st number10\n",
            "enter 2nd number20\n",
            "sum : 30\n"
          ]
        }
      ]
    },
    {
      "cell_type": "code",
      "source": [
        "num1=int(input(\"Enter 1st number\"))\n",
        "num2=int(input(\"enter 2nd number\"))\n",
        "\n",
        "if num1==10 and num2==20:\n",
        "  print(\"sum :\",num1+num2)\n",
        "else:\n",
        "  print(\"I forget how to add\")"
      ],
      "metadata": {
        "colab": {
          "base_uri": "https://localhost:8080/"
        },
        "id": "0mPgaZVQv9dQ",
        "outputId": "0441d9d9-e688-48ec-e376-91e401122ec3"
      },
      "execution_count": null,
      "outputs": [
        {
          "output_type": "stream",
          "name": "stdout",
          "text": [
            "Enter 1st number11\n",
            "enter 2nd number20\n",
            "I forget how to add\n"
          ]
        }
      ]
    },
    {
      "cell_type": "code",
      "source": [
        "num1=int(input(\"Enter 1st number\"))\n",
        "num2=int(input(\"enter 2nd number\"))\n",
        "\n",
        "if num1==10:\n",
        "  if num2==20: \n",
        "    print(\"sum :\",num1+num2)\n",
        "else:\n",
        "  print(\"I forget how to add\")"
      ],
      "metadata": {
        "colab": {
          "base_uri": "https://localhost:8080/"
        },
        "id": "9KDgIW6hwdMN",
        "outputId": "bf27be34-3374-4134-a588-24e144bf31fa"
      },
      "execution_count": null,
      "outputs": [
        {
          "output_type": "stream",
          "name": "stdout",
          "text": [
            "Enter 1st number10\n",
            "enter 2nd number20\n",
            "sum : 30\n"
          ]
        }
      ]
    },
    {
      "cell_type": "code",
      "source": [
        "num1=int(input(\"Enter 1st number\"))\n",
        "num2=int(input(\"enter 2nd number\"))\n",
        "\n",
        "if num1==10:\n",
        "  if num2==20: \n",
        "    print(\"sum :\",num1+num2)\n",
        "  else:\n",
        "    print(\"Are you crezy\")\n",
        "else:\n",
        "  print(\"I forget how to add\")"
      ],
      "metadata": {
        "colab": {
          "base_uri": "https://localhost:8080/"
        },
        "id": "v-L9KY4SxsrY",
        "outputId": "a13681bf-ce37-4d0d-fbe0-9deba8d253be"
      },
      "execution_count": null,
      "outputs": [
        {
          "output_type": "stream",
          "name": "stdout",
          "text": [
            "Enter 1st number10\n",
            "enter 2nd number21\n",
            "Are you crezy\n"
          ]
        }
      ]
    },
    {
      "cell_type": "code",
      "source": [
        "num1=int(input(\"Enter 1st number\"))\n",
        "num2=int(input(\"enter 2nd number\"))\n",
        "\n",
        "if num1==10:\n",
        "  if num2==20: \n",
        "    print(\"sum :\",num1+num2)\n",
        "  else:\n",
        "    print(\"Are you crezy\")\n",
        "else:\n",
        "  print(\"I forget how to add\")"
      ],
      "metadata": {
        "colab": {
          "base_uri": "https://localhost:8080/"
        },
        "id": "NCvFZapPxyLr",
        "outputId": "63f2880f-e81f-46fb-bc79-7e3873568ac9"
      },
      "execution_count": null,
      "outputs": [
        {
          "output_type": "stream",
          "name": "stdout",
          "text": [
            "Enter 1st number11\n",
            "enter 2nd number20\n",
            "I forget how to add\n"
          ]
        }
      ]
    },
    {
      "cell_type": "code",
      "source": [
        "num1=eval(input(\"Enter 1st number\"))\n",
        "num2=eval(input(\"enter 2nd number\"))\n",
        "\n",
        "if num1==10:\n",
        "  print(\"this condition is true value is 10\")\n",
        "  if num2==20: \n",
        "    print(\"sum :\",num1+num2)\n",
        "  else:\n",
        "    print(\"Are you crezy\")\n",
        "else:\n",
        "  print(\"I forget how to add\")"
      ],
      "metadata": {
        "colab": {
          "base_uri": "https://localhost:8080/"
        },
        "id": "FrztkaXYyC-t",
        "outputId": "ba47ee9e-8dc9-4e7f-e356-64e99ace7766"
      },
      "execution_count": null,
      "outputs": [
        {
          "output_type": "stream",
          "name": "stdout",
          "text": [
            "Enter 1st number10\n",
            "enter 2nd number20\n",
            "this condition is true value is 10\n",
            "sum : 30\n"
          ]
        }
      ]
    },
    {
      "cell_type": "code",
      "source": [
        "num1=eval(input(\"Enter 1st number\"))\n",
        "\n",
        "\n",
        "if num1==10:\n",
        "  print(\"this condition is true value is 10\")\n",
        "  num2=eval(input(\"enter 2nd number\"))\n",
        "  if num2==20: \n",
        "    print(\"sum :\",num1+num2)\n",
        "else:\n",
        "    print(\"Are you crezy\")\n",
        "# else:\n",
        "#   print(\"I forget how to add\")"
      ],
      "metadata": {
        "colab": {
          "base_uri": "https://localhost:8080/"
        },
        "id": "OsfugAD2ySjr",
        "outputId": "831a4a7b-7a7e-4821-ebd4-e68dca950d6e"
      },
      "execution_count": null,
      "outputs": [
        {
          "output_type": "stream",
          "name": "stdout",
          "text": [
            "Enter 1st number10\n",
            "this condition is true value is 10\n",
            "enter 2nd number20\n",
            "sum : 30\n"
          ]
        }
      ]
    },
    {
      "cell_type": "code",
      "source": [
        "num1=eval(input(\"Enter 1st number\"))\n",
        "\n",
        "\n",
        "if num1==10:\n",
        "  print(\"this condition is true value is 10\")\n",
        "  num2=eval(input(\"enter 2nd number\"))\n",
        "  if num2==20: \n",
        "    print(\"sum :\",num1+num2)\n",
        "  else:\n",
        "    print(\"Are you crezy\")\n",
        "else:\n",
        "  if num1==11:\n",
        "    print(\"I forget how to add\")\n",
        "  else:\n",
        "    print(\"I dont know the values\")\n"
      ],
      "metadata": {
        "colab": {
          "base_uri": "https://localhost:8080/"
        },
        "id": "Ckbi2nnAzFI9",
        "outputId": "1e85001e-217b-4f8c-a3c7-8fc4cab9c43e"
      },
      "execution_count": null,
      "outputs": [
        {
          "output_type": "stream",
          "name": "stdout",
          "text": [
            "Enter 1st number11\n",
            "I forget how to add\n"
          ]
        }
      ]
    },
    {
      "cell_type": "code",
      "source": [
        "num1=eval(input(\"Enter 1st number\"))\n",
        "\n",
        "if num1==10:\n",
        "  print(\"this condition is true value is 10\")\n",
        "  num2=eval(input(\"enter 2nd number\"))\n",
        "  if num2==20: \n",
        "    print(\"sum :\",num1+num2)\n",
        "  else:\n",
        "    print(\"Are you crezy\")\n",
        "else:\n",
        "  if num1==11:\n",
        "    print(\"I forget how to add\")\n",
        "  else:\n",
        "    print(\"I dont know the values\")"
      ],
      "metadata": {
        "colab": {
          "base_uri": "https://localhost:8080/"
        },
        "id": "ydqhBjBf0hff",
        "outputId": "e85d5241-4819-457f-f3ce-cc05a28daa98"
      },
      "execution_count": null,
      "outputs": [
        {
          "output_type": "stream",
          "name": "stdout",
          "text": [
            "Enter 1st number12\n",
            "I dont know the values\n"
          ]
        }
      ]
    },
    {
      "cell_type": "markdown",
      "source": [
        "# elif "
      ],
      "metadata": {
        "id": "7DZNntI61YOd"
      }
    },
    {
      "cell_type": "code",
      "source": [
        "print(\"\"\"Welcome to ATM of Kotak Mahindra bank\n",
        "\n",
        "1.Change pin\n",
        "2.Balance enquiry\n",
        "3.Withdrawal\n",
        "4.Exit\"\"\")\n",
        "user=input(\"Enter you option:\")\n",
        "if user=='1':\n",
        "  print(\"Welcome to change pin section.\")\n",
        "elif user=='2':\n",
        "  print(\"Welcome to Balance enquiry section.\")\n",
        "elif user=='3':\n",
        "  print(\"Welcome to withdrawal section.\")\n",
        "\n",
        "elif user=='4':\n",
        "  print(\"Thank you to banking with Kotak Mahindra bank.\")\n",
        "else:\n",
        "  print(\"Be in your limit\")\n",
        "  \n"
      ],
      "metadata": {
        "id": "V3q0fiaN18e3",
        "colab": {
          "base_uri": "https://localhost:8080/"
        },
        "outputId": "d4597cd0-6472-4a9d-8bea-2609282a34e9"
      },
      "execution_count": null,
      "outputs": [
        {
          "output_type": "stream",
          "name": "stdout",
          "text": [
            "Welcome to ATM of Kotak Mahindra bank\n",
            "\n",
            "1.Change pin\n",
            "2.Balance enquiry\n",
            "3.Withdrawal\n",
            "4.Exit\n",
            "Enter you option:0\n",
            "Be in your limit\n"
          ]
        }
      ]
    },
    {
      "cell_type": "code",
      "source": [
        "print(\"\"\"Welcome to ATM of Kotak Mahindra bank\n",
        "\n",
        "1.Change pin\n",
        "2.Balance enquiry\n",
        "3.Withdrawal\n",
        "4.Exit\"\"\")\n",
        "user=input(\"Enter you option:\")\n",
        "if user=='1':\n",
        "  print(\"Welcome to change pin section.\")\n",
        "elif user=='1':\n",
        "  print(\"Welcome to Balance enquiry section.\")\n",
        "elif user=='3':\n",
        "  print(\"Welcome to withdrawal section.\")\n",
        "\n",
        "elif user=='4':\n",
        "  print(\"Thank you to banking with Kotak Mahindra bank.\")\n",
        "else:\n",
        "  print(\"Be in your limit\")\n",
        "  \n"
      ],
      "metadata": {
        "colab": {
          "base_uri": "https://localhost:8080/"
        },
        "id": "UeWI9SUrthle",
        "outputId": "a5bf99b4-5554-403d-bedd-74fedfbf8908"
      },
      "execution_count": null,
      "outputs": [
        {
          "output_type": "stream",
          "name": "stdout",
          "text": [
            "Welcome to ATM of Kotak Mahindra bank\n",
            "\n",
            "1.Change pin\n",
            "2.Balance enquiry\n",
            "3.Withdrawal\n",
            "4.Exit\n",
            "Enter you option:1\n",
            "Welcome to change pin section.\n"
          ]
        }
      ]
    },
    {
      "cell_type": "code",
      "source": [
        "print(\"\"\"Welcome to ATM of Kotak Mahindra bank\n",
        "\n",
        "1.Change pin\n",
        "2.Balance enquiry\n",
        "3.Withdrawal\n",
        "4.Exit\"\"\")\n",
        "user=input(\"Enter you option:\")\n",
        "if user=='1':\n",
        "  print(\"Welcome to change pin section.\")\n",
        "  print(\"\"\"\n",
        "  1. Remember old pin:\n",
        "  2.Forget pin\"\"\")\n",
        "  \n",
        "  user_pin=input(\"Enter your option: \")\n",
        "  \n",
        "  if user_pin=='1':\n",
        "    print(\"kindly enter your old pin\")\n",
        "  elif user_pin=='2':\n",
        "    print(\"Kindly enter your register mobile number\")\n",
        "  else:\n",
        "    print(\"Kindly choose a valid option \")\n",
        "\n",
        "elif user=='2':\n",
        "  print(\"Welcome to Balance enquiry section.\")\n",
        "elif user=='3':\n",
        "  print(\"Welcome to withdrawal section.\")\n",
        "elif user=='4':\n",
        "  print(\"Thank you to banking with Kotak Mahindra bank.\")\n",
        "else:\n",
        "  print(\"Be in your limit\")\n",
        "  \n"
      ],
      "metadata": {
        "colab": {
          "base_uri": "https://localhost:8080/"
        },
        "id": "5DF0-6KLvXnq",
        "outputId": "82a54248-d801-4572-95f0-ff90c622a6f9"
      },
      "execution_count": null,
      "outputs": [
        {
          "output_type": "stream",
          "name": "stdout",
          "text": [
            "Welcome to ATM of Kotak Mahindra bank\n",
            "\n",
            "1.Change pin\n",
            "2.Balance enquiry\n",
            "3.Withdrawal\n",
            "4.Exit\n",
            "Enter you option:1\n",
            "Welcome to change pin section.\n",
            "\n",
            "  1. Remember old pin:\n",
            "  2.Forget pin\n",
            "Enter your option: 1\n",
            "kindly enter your old pin\n"
          ]
        }
      ]
    },
    {
      "cell_type": "markdown",
      "source": [
        "# Loop:"
      ],
      "metadata": {
        "id": "1snoaqwsxbuc"
      }
    },
    {
      "cell_type": "code",
      "source": [
        "print(\"Hello world\")\n",
        "print(\"Hello world\")\n",
        "print(\"Hello world\")\n",
        "print(\"Hello world\")\n",
        "print(\"Hello world\")\n"
      ],
      "metadata": {
        "colab": {
          "base_uri": "https://localhost:8080/"
        },
        "id": "U1nqIbOeyXqv",
        "outputId": "7985c902-c8f9-4636-a968-3d0e2a6a54d8"
      },
      "execution_count": null,
      "outputs": [
        {
          "output_type": "stream",
          "name": "stdout",
          "text": [
            "Hello world\n",
            "Hello world\n",
            "Hello world\n",
            "Hello world\n",
            "Hello world\n"
          ]
        }
      ]
    },
    {
      "cell_type": "code",
      "source": [
        "print(\"Hello world\")\n",
        "print(\"Hello world\")\n",
        "print(\"Hello world\")\n",
        "print(\"Hello world\")\n",
        "print(\"Hello world\")\n",
        "print(\"Hello world\")\n",
        "print(\"Hello world\")\n",
        "print(\"Hello world\")\n",
        "print(\"Hello world\")\n",
        "print(\"Hello world\")\n",
        "print(\"Hello world\")\n",
        "print(\"Hello world\")\n",
        "print(\"Hello world\")\n",
        "print(\"Hello world\")\n",
        "print(\"Hello world\")\n",
        "print(\"Hello world\")\n",
        "print(\"Hello world\")\n",
        "print(\"Hello world\")\n",
        "print(\"Hello world\")\n",
        "print(\"Hello world\")\n",
        "print(\"Hello world\")\n",
        "print(\"Hello world\")\n",
        "print(\"Hello world\")\n",
        "print(\"Hello world\")\n",
        "print(\"Hello world\")\n",
        "print(\"Hello world\")\n",
        "print(\"Hello world\")\n",
        "print(\"Hello world\")\n",
        "print(\"Hello world\")\n",
        "print(\"Hello world\")\n",
        "print(\"Hello world\")\n",
        "print(\"Hello world\")\n",
        "print(\"Hello world\")\n",
        "print(\"Hello world\")\n",
        "print(\"Hello world\")\n",
        "print(\"Hello world\")\n",
        "print(\"Hello world\")\n",
        "print(\"Hello world\")\n",
        "print(\"Hello world\")\n",
        "print(\"Hello world\")\n",
        "print(\"Hello world\")\n",
        "print(\"Hello world\")\n",
        "print(\"Hello world\")\n",
        "print(\"Hello world\")\n",
        "print(\"Hello world\")\n",
        "print(\"Hello world\")\n",
        "print(\"Hello world\")\n",
        "print(\"Hello world\")\n",
        "print(\"Hello world\")\n",
        "print(\"Hello world\")\n"
      ],
      "metadata": {
        "colab": {
          "base_uri": "https://localhost:8080/"
        },
        "id": "TsTFcSYny-i9",
        "outputId": "a2358b69-2a6c-4fb3-9d6f-a8211710e35d"
      },
      "execution_count": null,
      "outputs": [
        {
          "output_type": "stream",
          "name": "stdout",
          "text": [
            "Hello world\n",
            "Hello world\n",
            "Hello world\n",
            "Hello world\n",
            "Hello world\n",
            "Hello world\n",
            "Hello world\n",
            "Hello world\n",
            "Hello world\n",
            "Hello world\n",
            "Hello world\n",
            "Hello world\n",
            "Hello world\n",
            "Hello world\n",
            "Hello world\n",
            "Hello world\n",
            "Hello world\n",
            "Hello world\n",
            "Hello world\n",
            "Hello world\n",
            "Hello world\n",
            "Hello world\n",
            "Hello world\n",
            "Hello world\n",
            "Hello world\n",
            "Hello world\n",
            "Hello world\n",
            "Hello world\n",
            "Hello world\n",
            "Hello world\n",
            "Hello world\n",
            "Hello world\n",
            "Hello world\n",
            "Hello world\n",
            "Hello world\n",
            "Hello world\n",
            "Hello world\n",
            "Hello world\n",
            "Hello world\n",
            "Hello world\n",
            "Hello world\n",
            "Hello world\n",
            "Hello world\n",
            "Hello world\n",
            "Hello world\n",
            "Hello world\n",
            "Hello world\n",
            "Hello world\n",
            "Hello world\n",
            "Hello world\n"
          ]
        }
      ]
    },
    {
      "cell_type": "code",
      "source": [
        "\n",
        "for i in \"krishna\":\n",
        "  print(i)\n"
      ],
      "metadata": {
        "colab": {
          "base_uri": "https://localhost:8080/"
        },
        "id": "1C7L9sgpzCnj",
        "outputId": "56865674-27ed-403f-92c7-41460599cca6"
      },
      "execution_count": null,
      "outputs": [
        {
          "output_type": "stream",
          "name": "stdout",
          "text": [
            "k\n",
            "r\n",
            "i\n",
            "s\n",
            "h\n",
            "n\n",
            "a\n"
          ]
        }
      ]
    },
    {
      "cell_type": "code",
      "source": [
        "for krishna in [2,3,4,\"krishna\",10.5]:\n",
        "  print(krishna)\n"
      ],
      "metadata": {
        "colab": {
          "base_uri": "https://localhost:8080/"
        },
        "id": "MpJbw-so3Swa",
        "outputId": "399942a8-d0d9-4ffc-9071-820325cb2d64"
      },
      "execution_count": null,
      "outputs": [
        {
          "output_type": "stream",
          "name": "stdout",
          "text": [
            "2\n",
            "3\n",
            "4\n",
            "krishna\n",
            "10.5\n"
          ]
        }
      ]
    },
    {
      "cell_type": "code",
      "source": [
        "for i in range(\"krishna\"):\n",
        "  print(i)"
      ],
      "metadata": {
        "colab": {
          "base_uri": "https://localhost:8080/",
          "height": 182
        },
        "id": "K_MADsjx37Vd",
        "outputId": "82854a1f-9856-4e7a-ecce-4f4e1b65af81"
      },
      "execution_count": null,
      "outputs": [
        {
          "output_type": "error",
          "ename": "TypeError",
          "evalue": "ignored",
          "traceback": [
            "\u001b[0;31m---------------------------------------------------------------------------\u001b[0m",
            "\u001b[0;31mTypeError\u001b[0m                                 Traceback (most recent call last)",
            "\u001b[0;32m<ipython-input-21-21d912679710>\u001b[0m in \u001b[0;36m<module>\u001b[0;34m\u001b[0m\n\u001b[0;32m----> 1\u001b[0;31m \u001b[0;32mfor\u001b[0m \u001b[0mi\u001b[0m \u001b[0;32min\u001b[0m \u001b[0mrange\u001b[0m\u001b[0;34m(\u001b[0m\u001b[0;34m\"krishna\"\u001b[0m\u001b[0;34m)\u001b[0m\u001b[0;34m:\u001b[0m\u001b[0;34m\u001b[0m\u001b[0;34m\u001b[0m\u001b[0m\n\u001b[0m\u001b[1;32m      2\u001b[0m   \u001b[0mprint\u001b[0m\u001b[0;34m(\u001b[0m\u001b[0mi\u001b[0m\u001b[0;34m)\u001b[0m\u001b[0;34m\u001b[0m\u001b[0;34m\u001b[0m\u001b[0m\n",
            "\u001b[0;31mTypeError\u001b[0m: 'str' object cannot be interpreted as an integer"
          ]
        }
      ]
    },
    {
      "cell_type": "code",
      "source": [
        "a=\"dfasffffffffffffffffffffffffddddddddddddddddddddddddddddsssssssssssssssssssssssssssss\""
      ],
      "metadata": {
        "id": "fWQrJItA4VlN"
      },
      "execution_count": null,
      "outputs": []
    },
    {
      "cell_type": "code",
      "source": [
        "for i in range(0,85,1):\n",
        "  print(i+1,\".\",a[i])"
      ],
      "metadata": {
        "colab": {
          "base_uri": "https://localhost:8080/"
        },
        "id": "fDteX85W6Fp8",
        "outputId": "a5823101-b6dc-4db1-c1a4-4b7bdb14a48f"
      },
      "execution_count": null,
      "outputs": [
        {
          "output_type": "stream",
          "name": "stdout",
          "text": [
            "1 . d\n",
            "2 . f\n",
            "3 . a\n",
            "4 . s\n",
            "5 . f\n",
            "6 . f\n",
            "7 . f\n",
            "8 . f\n",
            "9 . f\n",
            "10 . f\n",
            "11 . f\n",
            "12 . f\n",
            "13 . f\n",
            "14 . f\n",
            "15 . f\n",
            "16 . f\n",
            "17 . f\n",
            "18 . f\n",
            "19 . f\n",
            "20 . f\n",
            "21 . f\n",
            "22 . f\n",
            "23 . f\n",
            "24 . f\n",
            "25 . f\n",
            "26 . f\n",
            "27 . f\n",
            "28 . f\n",
            "29 . d\n",
            "30 . d\n",
            "31 . d\n",
            "32 . d\n",
            "33 . d\n",
            "34 . d\n",
            "35 . d\n",
            "36 . d\n",
            "37 . d\n",
            "38 . d\n",
            "39 . d\n",
            "40 . d\n",
            "41 . d\n",
            "42 . d\n",
            "43 . d\n",
            "44 . d\n",
            "45 . d\n",
            "46 . d\n",
            "47 . d\n",
            "48 . d\n",
            "49 . d\n",
            "50 . d\n",
            "51 . d\n",
            "52 . d\n",
            "53 . d\n",
            "54 . d\n",
            "55 . d\n",
            "56 . d\n",
            "57 . s\n",
            "58 . s\n",
            "59 . s\n",
            "60 . s\n",
            "61 . s\n",
            "62 . s\n",
            "63 . s\n",
            "64 . s\n",
            "65 . s\n",
            "66 . s\n",
            "67 . s\n",
            "68 . s\n",
            "69 . s\n",
            "70 . s\n",
            "71 . s\n",
            "72 . s\n",
            "73 . s\n",
            "74 . s\n",
            "75 . s\n",
            "76 . s\n",
            "77 . s\n",
            "78 . s\n",
            "79 . s\n",
            "80 . s\n",
            "81 . s\n",
            "82 . s\n",
            "83 . s\n",
            "84 . s\n",
            "85 . s\n"
          ]
        }
      ]
    },
    {
      "cell_type": "code",
      "source": [
        "print(a[0])"
      ],
      "metadata": {
        "colab": {
          "base_uri": "https://localhost:8080/"
        },
        "id": "kpixV_r86h-b",
        "outputId": "c6e5367b-6c21-46ee-b8f2-5a101674f7cb"
      },
      "execution_count": null,
      "outputs": [
        {
          "output_type": "stream",
          "name": "stdout",
          "text": [
            "d\n"
          ]
        }
      ]
    },
    {
      "cell_type": "code",
      "source": [
        "a"
      ],
      "metadata": {
        "colab": {
          "base_uri": "https://localhost:8080/",
          "height": 36
        },
        "id": "GT2m3ygI7dts",
        "outputId": "62a20a49-09be-4304-f747-6f87d5c56373"
      },
      "execution_count": null,
      "outputs": [
        {
          "output_type": "execute_result",
          "data": {
            "text/plain": [
              "'dfasffffffffffffffffffffffffddddddddddddddddddddddddddddsssssssssssssssssssssssssssss'"
            ],
            "application/vnd.google.colaboratory.intrinsic+json": {
              "type": "string"
            }
          },
          "metadata": {},
          "execution_count": 30
        }
      ]
    },
    {
      "cell_type": "code",
      "source": [
        "for j in range(0):\n",
        "  print(j)"
      ],
      "metadata": {
        "id": "NVFcoRL37kZb"
      },
      "execution_count": null,
      "outputs": []
    },
    {
      "cell_type": "code",
      "source": [
        "for j in 10:\n",
        "  print(j)"
      ],
      "metadata": {
        "colab": {
          "base_uri": "https://localhost:8080/",
          "height": 182
        },
        "id": "kBo364_Kj-kS",
        "outputId": "b0762c4e-e2fd-4fce-93f8-d97525282f94"
      },
      "execution_count": null,
      "outputs": [
        {
          "output_type": "error",
          "ename": "TypeError",
          "evalue": "ignored",
          "traceback": [
            "\u001b[0;31m---------------------------------------------------------------------------\u001b[0m",
            "\u001b[0;31mTypeError\u001b[0m                                 Traceback (most recent call last)",
            "\u001b[0;32m<ipython-input-2-643c9fa52a33>\u001b[0m in \u001b[0;36m<module>\u001b[0;34m\u001b[0m\n\u001b[0;32m----> 1\u001b[0;31m \u001b[0;32mfor\u001b[0m \u001b[0mj\u001b[0m \u001b[0;32min\u001b[0m \u001b[0;36m10\u001b[0m\u001b[0;34m:\u001b[0m\u001b[0;34m\u001b[0m\u001b[0;34m\u001b[0m\u001b[0m\n\u001b[0m\u001b[1;32m      2\u001b[0m   \u001b[0mprint\u001b[0m\u001b[0;34m(\u001b[0m\u001b[0mj\u001b[0m\u001b[0;34m)\u001b[0m\u001b[0;34m\u001b[0m\u001b[0;34m\u001b[0m\u001b[0m\n",
            "\u001b[0;31mTypeError\u001b[0m: 'int' object is not iterable"
          ]
        }
      ]
    },
    {
      "cell_type": "code",
      "source": [
        "for i in range(5):\n",
        "  for j in range(5):\n",
        "    print(j,end=\" \")\n",
        "  print()"
      ],
      "metadata": {
        "colab": {
          "base_uri": "https://localhost:8080/"
        },
        "id": "IuiQMkejkNS_",
        "outputId": "7cea8868-0dfe-4798-8c49-1a2e37e34a1b"
      },
      "execution_count": null,
      "outputs": [
        {
          "output_type": "stream",
          "name": "stdout",
          "text": [
            "0 1 2 3 4 \n",
            "0 1 2 3 4 \n",
            "0 1 2 3 4 \n",
            "0 1 2 3 4 \n",
            "0 1 2 3 4 \n"
          ]
        }
      ]
    },
    {
      "cell_type": "code",
      "source": [
        "for i in range(5):\n",
        "  for j in range(i+1):#rows\n",
        "    print(\"*\",end=\" \")\n",
        "  print()"
      ],
      "metadata": {
        "colab": {
          "base_uri": "https://localhost:8080/"
        },
        "id": "hLWDS4Azktef",
        "outputId": "5098e54d-01c3-40b6-dd7e-884e359af91f"
      },
      "execution_count": null,
      "outputs": [
        {
          "output_type": "stream",
          "name": "stdout",
          "text": [
            "* \n",
            "* * \n",
            "* * * \n",
            "* * * * \n",
            "* * * * * \n"
          ]
        }
      ]
    },
    {
      "cell_type": "code",
      "source": [
        "a=[]\n",
        "for i in range(5):\n",
        "  a.append(i)\n",
        "  print(a)"
      ],
      "metadata": {
        "colab": {
          "base_uri": "https://localhost:8080/"
        },
        "id": "IokP7JcArPsM",
        "outputId": "ae5319b5-3e4c-4619-9168-7b7f170319da"
      },
      "execution_count": null,
      "outputs": [
        {
          "output_type": "stream",
          "name": "stdout",
          "text": [
            "[0]\n",
            "[0, 1]\n",
            "[0, 1, 2]\n",
            "[0, 1, 2, 3]\n",
            "[0, 1, 2, 3, 4]\n"
          ]
        }
      ]
    },
    {
      "cell_type": "code",
      "source": [
        "for i in range(5):\n",
        "  print(\"* \"*(i+1))"
      ],
      "metadata": {
        "colab": {
          "base_uri": "https://localhost:8080/"
        },
        "id": "IflP7FdKrjxa",
        "outputId": "486c5467-f515-4d04-98dd-ffdaf743bed6"
      },
      "execution_count": null,
      "outputs": [
        {
          "output_type": "stream",
          "name": "stdout",
          "text": [
            "* \n",
            "* * \n",
            "* * * \n",
            "* * * * \n",
            "* * * * * \n"
          ]
        }
      ]
    },
    {
      "cell_type": "code",
      "source": [
        "for i in range(5,0,-1):\n",
        "  print(\"* \"*((i+1)-1))"
      ],
      "metadata": {
        "colab": {
          "base_uri": "https://localhost:8080/"
        },
        "id": "qh1qM0zNtIph",
        "outputId": "19fd6419-70c8-41f3-feaa-a3d3308cab14"
      },
      "execution_count": null,
      "outputs": [
        {
          "output_type": "stream",
          "name": "stdout",
          "text": [
            "* * * * * \n",
            "* * * * \n",
            "* * * \n",
            "* * \n",
            "* \n"
          ]
        }
      ]
    },
    {
      "cell_type": "code",
      "source": [
        "# Kindly creat a peramid using single for loop as picture give below:\n",
        "for i in range(5,0,-1):\n",
        "  print(\" \"*i,\"* \"*((5+1)-i))"
      ],
      "metadata": {
        "colab": {
          "base_uri": "https://localhost:8080/"
        },
        "id": "eqMoUvI2t555",
        "outputId": "ca385814-bf62-4432-f0e7-17881f6ef259"
      },
      "execution_count": null,
      "outputs": [
        {
          "output_type": "stream",
          "name": "stdout",
          "text": [
            "      * \n",
            "     * * \n",
            "    * * * \n",
            "   * * * * \n",
            "  * * * * * \n"
          ]
        }
      ]
    },
    {
      "cell_type": "code",
      "source": [
        "a=[1,2,3,4,5,6,7]\n",
        "print(a[0::2])"
      ],
      "metadata": {
        "colab": {
          "base_uri": "https://localhost:8080/"
        },
        "id": "CG97tY-EvfCE",
        "outputId": "96564fcf-1d39-4595-90a0-db3320431d49"
      },
      "execution_count": null,
      "outputs": [
        {
          "output_type": "stream",
          "name": "stdout",
          "text": [
            "[1, 3, 5, 7]\n"
          ]
        }
      ]
    },
    {
      "cell_type": "code",
      "source": [
        "a=[]\n",
        "for i in range(10):\n",
        "  a.append(i)\n",
        "print(a)"
      ],
      "metadata": {
        "colab": {
          "base_uri": "https://localhost:8080/"
        },
        "id": "Jxjw56y1ylA4",
        "outputId": "d19c7fec-7d2d-4cd0-d4e0-4e4999d2eda0"
      },
      "execution_count": null,
      "outputs": [
        {
          "output_type": "stream",
          "name": "stdout",
          "text": [
            "[0, 1, 2, 3, 4, 5, 6, 7, 8, 9]\n"
          ]
        }
      ]
    },
    {
      "cell_type": "code",
      "source": [
        "a=[i for i in range(10)]\n",
        "print(a)"
      ],
      "metadata": {
        "colab": {
          "base_uri": "https://localhost:8080/"
        },
        "id": "o-QWwnxFzHA2",
        "outputId": "1d8eb7ec-7bdf-49a7-d16c-8daef090bbc7"
      },
      "execution_count": null,
      "outputs": [
        {
          "output_type": "stream",
          "name": "stdout",
          "text": [
            "[0, 1, 2, 3, 4, 5, 6, 7, 8, 9]\n"
          ]
        }
      ]
    },
    {
      "cell_type": "code",
      "source": [
        "a"
      ],
      "metadata": {
        "colab": {
          "base_uri": "https://localhost:8080/"
        },
        "id": "R3PbazDOzP-G",
        "outputId": "a1900abd-2629-4a51-9db5-278aefaf5437"
      },
      "execution_count": null,
      "outputs": [
        {
          "output_type": "execute_result",
          "data": {
            "text/plain": [
              "[0, 1, 2, 3, 4, 5, 6, 7, 8, 9]"
            ]
          },
          "metadata": {},
          "execution_count": 36
        }
      ]
    },
    {
      "cell_type": "code",
      "source": [
        "a=[0, 1, 2, 3, 4, 5, 6, 7, 8, 9]\n",
        "b=[]\n",
        "b=a.copy()\n",
        "print(b)"
      ],
      "metadata": {
        "colab": {
          "base_uri": "https://localhost:8080/"
        },
        "id": "yhUM5nAdz6aD",
        "outputId": "16e8d250-b78f-444c-f30f-ac34ad1bfc70"
      },
      "execution_count": null,
      "outputs": [
        {
          "output_type": "stream",
          "name": "stdout",
          "text": [
            "[0, 1, 2, 3, 4, 5, 6, 7, 8, 9]\n"
          ]
        }
      ]
    },
    {
      "cell_type": "code",
      "source": [
        "c=[i for i in a]\n",
        "print(c)"
      ],
      "metadata": {
        "colab": {
          "base_uri": "https://localhost:8080/"
        },
        "id": "nprGidA_034V",
        "outputId": "b3f8380e-9cd1-4960-8aed-1fbefeb9e53b"
      },
      "execution_count": null,
      "outputs": [
        {
          "output_type": "stream",
          "name": "stdout",
          "text": [
            "[0, 1, 2, 3, 4, 5, 6, 7, 8, 9]\n"
          ]
        }
      ]
    },
    {
      "cell_type": "code",
      "source": [
        "d=[]\n",
        "for i in a:\n",
        "  d.append(i)\n",
        "print(d)"
      ],
      "metadata": {
        "colab": {
          "base_uri": "https://localhost:8080/"
        },
        "id": "tkZ5JJy21MNU",
        "outputId": "46739cad-d87b-43ef-e8f5-91aa338cc7b0"
      },
      "execution_count": null,
      "outputs": [
        {
          "output_type": "stream",
          "name": "stdout",
          "text": [
            "[0, 1, 2, 3, 4, 5, 6, 7, 8, 9]\n"
          ]
        }
      ]
    },
    {
      "cell_type": "markdown",
      "source": [
        "continue, break, pass, else"
      ],
      "metadata": {
        "id": "VdLd9B_F1Xjl"
      }
    },
    {
      "cell_type": "code",
      "source": [
        "for i in range(10):\n",
        "  if i!=4:\n",
        "    print(i)"
      ],
      "metadata": {
        "colab": {
          "base_uri": "https://localhost:8080/"
        },
        "id": "FAb8wJh61r0E",
        "outputId": "b5e08cc6-4446-47e0-f9b7-5f5896457aa1"
      },
      "execution_count": null,
      "outputs": [
        {
          "output_type": "stream",
          "name": "stdout",
          "text": [
            "0\n",
            "1\n",
            "2\n",
            "3\n",
            "5\n",
            "6\n",
            "7\n",
            "8\n",
            "9\n"
          ]
        }
      ]
    },
    {
      "cell_type": "code",
      "source": [
        "for i in range(10):\n",
        "  if i==4:\n",
        "    continue\n",
        "  print(i)"
      ],
      "metadata": {
        "colab": {
          "base_uri": "https://localhost:8080/"
        },
        "id": "wDFsueBr1vbG",
        "outputId": "8b212082-96de-49aa-9037-9ff7229521bf"
      },
      "execution_count": null,
      "outputs": [
        {
          "output_type": "stream",
          "name": "stdout",
          "text": [
            "0\n",
            "1\n",
            "2\n",
            "3\n",
            "5\n",
            "6\n",
            "7\n",
            "8\n",
            "9\n"
          ]
        }
      ]
    },
    {
      "cell_type": "markdown",
      "source": [
        "# while loop\n",
        "\n",
        "when iteration is unknown"
      ],
      "metadata": {
        "id": "sznXMT2z2uTs"
      }
    },
    {
      "cell_type": "markdown",
      "source": [
        "intializer\n",
        "\n",
        "while condition:\n",
        "\n",
        "     statement(s)\n",
        "\n",
        "     increment/decrement"
      ],
      "metadata": {
        "id": "fYc9K5ej4fmV"
      }
    },
    {
      "cell_type": "code",
      "source": [
        "i=1            # initializer\n",
        "while i<10:    #while condition \n",
        "  print(i)     #statment(s)\n",
        "  i=i+1        # increment"
      ],
      "metadata": {
        "colab": {
          "base_uri": "https://localhost:8080/"
        },
        "id": "YpNQOZo35MtB",
        "outputId": "d942fbbb-5a4b-4cc7-ec00-83b12f62fc5c"
      },
      "execution_count": null,
      "outputs": [
        {
          "output_type": "stream",
          "name": "stdout",
          "text": [
            "1\n",
            "2\n",
            "3\n",
            "4\n",
            "5\n",
            "6\n",
            "7\n",
            "8\n",
            "9\n"
          ]
        }
      ]
    },
    {
      "cell_type": "code",
      "source": [
        "i=20            # initializer\n",
        "while i>10:    # while condition \n",
        "  print(i)     # statment(s)\n",
        "  i=i-1        # decrement"
      ],
      "metadata": {
        "colab": {
          "base_uri": "https://localhost:8080/"
        },
        "id": "Sk13FhrC5e6t",
        "outputId": "339c571c-cfbd-4813-a1e9-82d691ee1f60"
      },
      "execution_count": null,
      "outputs": [
        {
          "output_type": "stream",
          "name": "stdout",
          "text": [
            "20\n",
            "19\n",
            "18\n",
            "17\n",
            "16\n",
            "15\n",
            "14\n",
            "13\n",
            "12\n",
            "11\n"
          ]
        }
      ]
    },
    {
      "cell_type": "code",
      "source": [
        "i=20            # initializer\n",
        "while i>10:    # while condition \n",
        "  pass     # statment(s)\n",
        "  i=i-1        # decrement"
      ],
      "metadata": {
        "id": "iJ0kTyPX6ycw"
      },
      "execution_count": null,
      "outputs": []
    },
    {
      "cell_type": "code",
      "source": [
        "i=20           \n",
        "while i>10:    \n",
        "  \n",
        "  i=i-1\n",
        "  if i!=12:\n",
        "    print(i)\n",
        "    continue\n",
        "else:\n",
        "  print(\"Loop is terminated\")\n",
        "  \n",
        "          "
      ],
      "metadata": {
        "colab": {
          "base_uri": "https://localhost:8080/"
        },
        "id": "94ry1WXi69nx",
        "outputId": "f4610c86-99df-4530-f65d-e107f13b3bc9"
      },
      "execution_count": null,
      "outputs": [
        {
          "output_type": "stream",
          "name": "stdout",
          "text": [
            "19\n",
            "18\n",
            "17\n",
            "16\n",
            "15\n",
            "14\n",
            "13\n",
            "11\n",
            "10\n",
            "Loop is terminated\n"
          ]
        }
      ]
    },
    {
      "cell_type": "code",
      "source": [
        "i=20           \n",
        "while i>10:    \n",
        "  \n",
        "  i=i-1\n",
        "  if i!=12:\n",
        "    pass\n",
        "    continue\n",
        "else:\n",
        "  print(\"Loop is terminated\")\n",
        "  "
      ],
      "metadata": {
        "colab": {
          "base_uri": "https://localhost:8080/"
        },
        "id": "PyXuDUtS7KLB",
        "outputId": "a191c902-72c7-4c1a-e6c7-e891ca1c4c00"
      },
      "execution_count": null,
      "outputs": [
        {
          "output_type": "stream",
          "name": "stdout",
          "text": [
            "Loop is terminated\n"
          ]
        }
      ]
    },
    {
      "cell_type": "markdown",
      "source": [
        "# Note: Loop only contain \"break\" and \"continue\""
      ],
      "metadata": {
        "id": "8nvvNq_e8k5y"
      }
    },
    {
      "cell_type": "code",
      "source": [
        "if i!=12:\n",
        "  pass\n",
        "  continue"
      ],
      "metadata": {
        "colab": {
          "base_uri": "https://localhost:8080/",
          "height": 96
        },
        "id": "mJkR0LAB85cA",
        "outputId": "87bd20e6-8a91-4002-9da2-3db80150b9bc"
      },
      "execution_count": null,
      "outputs": [
        {
          "output_type": "error",
          "ename": "SyntaxError",
          "evalue": "ignored",
          "traceback": [
            "\u001b[0;36m  File \u001b[0;32m\"<ipython-input-63-2be0928ed286>\"\u001b[0;36m, line \u001b[0;32m6\u001b[0m\n\u001b[0;31mSyntaxError\u001b[0m\u001b[0;31m:\u001b[0m 'continue' not properly in loop\n"
          ]
        }
      ]
    },
    {
      "cell_type": "markdown",
      "source": [
        "function\n",
        "\n",
        "lambda function (Anonymus function)\n",
        "\n",
        "Array\n",
        "\n",
        "module\n",
        "\n",
        "Package\n",
        "\n",
        "standard library\n",
        "\n",
        "  >OS\n",
        "\n",
        "  >sys\n",
        "  \n",
        "  >random\n",
        "  \n",
        "  etc..."
      ],
      "metadata": {
        "id": "9XCFQS7j9LZf"
      }
    },
    {
      "cell_type": "markdown",
      "source": [
        "# function"
      ],
      "metadata": {
        "id": "xVbTQwRvw-O6"
      }
    },
    {
      "cell_type": "code",
      "source": [
        "def sum():\n",
        "  a=10\n",
        "  b=20\n",
        "  print(a+b)"
      ],
      "metadata": {
        "id": "Hsbn0itOxAHI"
      },
      "execution_count": null,
      "outputs": []
    },
    {
      "cell_type": "code",
      "source": [
        "sum()\n"
      ],
      "metadata": {
        "colab": {
          "base_uri": "https://localhost:8080/"
        },
        "id": "6VoZZq-vxaNq",
        "outputId": "8103003d-9a19-4996-c3a5-0fa4abbefa87"
      },
      "execution_count": null,
      "outputs": [
        {
          "output_type": "stream",
          "name": "stdout",
          "text": [
            "30\n"
          ]
        }
      ]
    },
    {
      "cell_type": "code",
      "source": [
        "print(print(10))"
      ],
      "metadata": {
        "colab": {
          "base_uri": "https://localhost:8080/"
        },
        "id": "0kUizfpdx6nY",
        "outputId": "9e0fdcc8-d20e-4831-941a-7cf899314440"
      },
      "execution_count": null,
      "outputs": [
        {
          "output_type": "stream",
          "name": "stdout",
          "text": [
            "10\n",
            "None\n"
          ]
        }
      ]
    },
    {
      "cell_type": "code",
      "source": [
        "sum()"
      ],
      "metadata": {
        "colab": {
          "base_uri": "https://localhost:8080/"
        },
        "id": "IOF4OP4KyLE4",
        "outputId": "4f3bdd0d-6ffe-4917-e9b9-a99d54f06165"
      },
      "execution_count": null,
      "outputs": [
        {
          "output_type": "stream",
          "name": "stdout",
          "text": [
            "30\n"
          ]
        }
      ]
    },
    {
      "cell_type": "markdown",
      "source": [
        "# Function with input()"
      ],
      "metadata": {
        "id": "0c3PzrYayjuN"
      }
    },
    {
      "cell_type": "code",
      "source": [
        "def sum():\n",
        "  a=int(input(\"Kindly enter 1st number:\"))\n",
        "  b=int(input(\"Kindly enter 2nd number :\"))\n",
        "  print(a+b)"
      ],
      "metadata": {
        "id": "rMkOseMcycPY"
      },
      "execution_count": null,
      "outputs": []
    },
    {
      "cell_type": "code",
      "source": [
        "sum()"
      ],
      "metadata": {
        "colab": {
          "base_uri": "https://localhost:8080/"
        },
        "id": "TBtk25rjysIu",
        "outputId": "584b1db5-e3ca-4ea5-de7b-cd0e288b6880"
      },
      "execution_count": null,
      "outputs": [
        {
          "output_type": "stream",
          "name": "stdout",
          "text": [
            "Kindly enter 1st number:10\n",
            "Kindly enter 2nd number :20\n",
            "30\n"
          ]
        }
      ]
    },
    {
      "cell_type": "code",
      "source": [
        "def sum():\n",
        "  a=input(\"Kindly enter 1st number:\")\n",
        "  b=input(\"Kindly enter 2nd number :\")\n",
        "  print(int(a)+int(b))"
      ],
      "metadata": {
        "id": "cO9Ch2P8ys4o"
      },
      "execution_count": null,
      "outputs": []
    },
    {
      "cell_type": "code",
      "source": [
        "sum()"
      ],
      "metadata": {
        "colab": {
          "base_uri": "https://localhost:8080/"
        },
        "id": "kcwbNhCuzCIY",
        "outputId": "a4e7faae-d017-4168-89ac-7a1ad03bb6ee"
      },
      "execution_count": null,
      "outputs": [
        {
          "output_type": "stream",
          "name": "stdout",
          "text": [
            "Kindly enter 1st number:10\n",
            "Kindly enter 2nd number :500\n",
            "510\n"
          ]
        }
      ]
    },
    {
      "cell_type": "code",
      "source": [
        "def sum():\n",
        "  a=input(\"Kindly enter 1st number:\")\n",
        "  b=input(\"Kindly enter 2nd number :\")\n",
        "  print(eval(a)+eval(b))"
      ],
      "metadata": {
        "id": "VTwxUBMzzDAJ"
      },
      "execution_count": null,
      "outputs": []
    },
    {
      "cell_type": "code",
      "source": [
        "sum()"
      ],
      "metadata": {
        "colab": {
          "base_uri": "https://localhost:8080/"
        },
        "id": "tAS4aOGGzJxo",
        "outputId": "4af21182-f9ea-4e9a-ab1a-4c7e319d3ef2"
      },
      "execution_count": null,
      "outputs": [
        {
          "output_type": "stream",
          "name": "stdout",
          "text": [
            "Kindly enter 1st number:10.5\n",
            "Kindly enter 2nd number :12.5\n",
            "23.0\n"
          ]
        }
      ]
    },
    {
      "cell_type": "code",
      "source": [
        "def sum(a=input(\"Kindly enter 1st number:\"),b=input(\"Kindly enter 2nd number :\")):\n",
        "  print(eval(a)+eval(b))"
      ],
      "metadata": {
        "colab": {
          "base_uri": "https://localhost:8080/"
        },
        "id": "o2K5jdeZzKsY",
        "outputId": "15fa6a9d-b1a5-4260-bded-2af3df1d07e3"
      },
      "execution_count": null,
      "outputs": [
        {
          "name": "stdout",
          "output_type": "stream",
          "text": [
            "Kindly enter 1st number:10\n",
            "Kindly enter 2nd number :20\n"
          ]
        }
      ]
    },
    {
      "cell_type": "code",
      "source": [
        "sum()"
      ],
      "metadata": {
        "colab": {
          "base_uri": "https://localhost:8080/"
        },
        "id": "LXrfGCXhziDo",
        "outputId": "6747029f-4216-44ec-d6d0-644ea4312fdd"
      },
      "execution_count": null,
      "outputs": [
        {
          "output_type": "stream",
          "name": "stdout",
          "text": [
            "30\n"
          ]
        }
      ]
    },
    {
      "cell_type": "code",
      "source": [
        "def sum(a,b):\n",
        "  print(a+b)"
      ],
      "metadata": {
        "id": "jw3jHiI_zmDY"
      },
      "execution_count": null,
      "outputs": []
    },
    {
      "cell_type": "code",
      "source": [
        "sum()"
      ],
      "metadata": {
        "colab": {
          "base_uri": "https://localhost:8080/",
          "height": 165
        },
        "id": "YFI_-Ehdz4_4",
        "outputId": "c93fbfec-adf7-42d9-f640-24067bc23944"
      },
      "execution_count": null,
      "outputs": [
        {
          "output_type": "error",
          "ename": "TypeError",
          "evalue": "ignored",
          "traceback": [
            "\u001b[0;31m---------------------------------------------------------------------------\u001b[0m",
            "\u001b[0;31mTypeError\u001b[0m                                 Traceback (most recent call last)",
            "\u001b[0;32m<ipython-input-21-217cace8f485>\u001b[0m in \u001b[0;36m<module>\u001b[0;34m\u001b[0m\n\u001b[0;32m----> 1\u001b[0;31m \u001b[0msum\u001b[0m\u001b[0;34m(\u001b[0m\u001b[0;34m)\u001b[0m\u001b[0;34m\u001b[0m\u001b[0;34m\u001b[0m\u001b[0m\n\u001b[0m",
            "\u001b[0;31mTypeError\u001b[0m: sum() missing 2 required positional arguments: 'a' and 'b'"
          ]
        }
      ]
    },
    {
      "cell_type": "code",
      "source": [
        "sum(10,20)"
      ],
      "metadata": {
        "colab": {
          "base_uri": "https://localhost:8080/"
        },
        "id": "tSPmJ16kz53X",
        "outputId": "a089c270-51df-4d9b-8fd0-c3dddf6278b3"
      },
      "execution_count": null,
      "outputs": [
        {
          "output_type": "stream",
          "name": "stdout",
          "text": [
            "30\n"
          ]
        }
      ]
    },
    {
      "cell_type": "code",
      "source": [
        "sum(\"krishna\",\"kumar\")"
      ],
      "metadata": {
        "colab": {
          "base_uri": "https://localhost:8080/"
        },
        "id": "kgENkITGz9sY",
        "outputId": "0433f9ad-06c3-48ca-b11f-7d795a6d6dfe"
      },
      "execution_count": null,
      "outputs": [
        {
          "output_type": "stream",
          "name": "stdout",
          "text": [
            "krishnakumar\n"
          ]
        }
      ]
    },
    {
      "cell_type": "code",
      "source": [
        "sum(10.3,11.40)"
      ],
      "metadata": {
        "colab": {
          "base_uri": "https://localhost:8080/"
        },
        "id": "jSwXEUl00BtH",
        "outputId": "39cab8dd-42d4-4b3c-a84e-f6948756485e"
      },
      "execution_count": null,
      "outputs": [
        {
          "output_type": "stream",
          "name": "stdout",
          "text": [
            "21.700000000000003\n"
          ]
        }
      ]
    },
    {
      "cell_type": "code",
      "source": [
        "sum(\"krishna\",5)"
      ],
      "metadata": {
        "colab": {
          "base_uri": "https://localhost:8080/",
          "height": 235
        },
        "id": "wEnxHZgT0F7X",
        "outputId": "66d7a125-49c4-44ce-fec6-d1658b111fb6"
      },
      "execution_count": null,
      "outputs": [
        {
          "output_type": "error",
          "ename": "TypeError",
          "evalue": "ignored",
          "traceback": [
            "\u001b[0;31m---------------------------------------------------------------------------\u001b[0m",
            "\u001b[0;31mTypeError\u001b[0m                                 Traceback (most recent call last)",
            "\u001b[0;32m<ipython-input-25-921edfb5b561>\u001b[0m in \u001b[0;36m<module>\u001b[0;34m\u001b[0m\n\u001b[0;32m----> 1\u001b[0;31m \u001b[0msum\u001b[0m\u001b[0;34m(\u001b[0m\u001b[0;34m\"krishna\"\u001b[0m\u001b[0;34m,\u001b[0m\u001b[0;36m5\u001b[0m\u001b[0;34m)\u001b[0m\u001b[0;34m\u001b[0m\u001b[0;34m\u001b[0m\u001b[0m\n\u001b[0m",
            "\u001b[0;32m<ipython-input-20-a89220555d25>\u001b[0m in \u001b[0;36msum\u001b[0;34m(a, b)\u001b[0m\n\u001b[1;32m      1\u001b[0m \u001b[0;32mdef\u001b[0m \u001b[0msum\u001b[0m\u001b[0;34m(\u001b[0m\u001b[0ma\u001b[0m\u001b[0;34m,\u001b[0m\u001b[0mb\u001b[0m\u001b[0;34m)\u001b[0m\u001b[0;34m:\u001b[0m\u001b[0;34m\u001b[0m\u001b[0;34m\u001b[0m\u001b[0m\n\u001b[0;32m----> 2\u001b[0;31m   \u001b[0mprint\u001b[0m\u001b[0;34m(\u001b[0m\u001b[0ma\u001b[0m\u001b[0;34m+\u001b[0m\u001b[0mb\u001b[0m\u001b[0;34m)\u001b[0m\u001b[0;34m\u001b[0m\u001b[0;34m\u001b[0m\u001b[0m\n\u001b[0m",
            "\u001b[0;31mTypeError\u001b[0m: can only concatenate str (not \"int\") to str"
          ]
        }
      ]
    },
    {
      "cell_type": "code",
      "source": [
        "sum(\"krishna\",\"5\")"
      ],
      "metadata": {
        "colab": {
          "base_uri": "https://localhost:8080/"
        },
        "id": "B-q3ARow0ST7",
        "outputId": "92f5759f-cb0f-4811-ddcc-747690079406"
      },
      "execution_count": null,
      "outputs": [
        {
          "output_type": "stream",
          "name": "stdout",
          "text": [
            "krishna5\n"
          ]
        }
      ]
    },
    {
      "cell_type": "code",
      "source": [
        "user=int(input(\"Kindly enter your range's end value :\"))\n",
        "cont_odd=[]\n",
        "cont_even=[]\n",
        "for i in range(user):\n",
        "  if i%2!=0:\n",
        "    cont_odd.append(i)\n",
        "  else:\n",
        "    cont_even.append(i)\n",
        "    \n",
        "print(\"This is the list of odd number :\",cont_odd)\n",
        "print(\"This is the list of odd number :\",cont_even)"
      ],
      "metadata": {
        "id": "eGI0XjAO0XIo",
        "colab": {
          "base_uri": "https://localhost:8080/"
        },
        "outputId": "390b5e22-745e-4267-d37a-8a02ab02319d"
      },
      "execution_count": null,
      "outputs": [
        {
          "output_type": "stream",
          "name": "stdout",
          "text": [
            "Kindly enter your range's end value :100\n",
            "This is the list of odd number : [1, 3, 5, 7, 9, 11, 13, 15, 17, 19, 21, 23, 25, 27, 29, 31, 33, 35, 37, 39, 41, 43, 45, 47, 49, 51, 53, 55, 57, 59, 61, 63, 65, 67, 69, 71, 73, 75, 77, 79, 81, 83, 85, 87, 89, 91, 93, 95, 97, 99]\n",
            "This is the list of odd number : [0, 2, 4, 6, 8, 10, 12, 14, 16, 18, 20, 22, 24, 26, 28, 30, 32, 34, 36, 38, 40, 42, 44, 46, 48, 50, 52, 54, 56, 58, 60, 62, 64, 66, 68, 70, 72, 74, 76, 78, 80, 82, 84, 86, 88, 90, 92, 94, 96, 98]\n"
          ]
        }
      ]
    },
    {
      "cell_type": "code",
      "source": [
        "def odd_even():\n",
        "  user=int(input(\"Kindly enter your range's end value :\"))\n",
        "  cont_odd=[]\n",
        "  cont_even=[]\n",
        "  for i in range(user):\n",
        "    if i%2!=0:\n",
        "      cont_odd.append(i)\n",
        "    else:\n",
        "      cont_even.append(i)\n",
        "      \n",
        "  print(\"This is the list of odd number :\",cont_odd)\n",
        "  print(\"This is the list of odd number :\",cont_even)"
      ],
      "metadata": {
        "id": "rKA_ue7l1ymX"
      },
      "execution_count": null,
      "outputs": []
    },
    {
      "cell_type": "code",
      "source": [
        "odd_even()"
      ],
      "metadata": {
        "colab": {
          "base_uri": "https://localhost:8080/"
        },
        "id": "widRgUcV4BGx",
        "outputId": "99b39b60-3130-4db1-bbf3-da63bfebe187"
      },
      "execution_count": null,
      "outputs": [
        {
          "output_type": "stream",
          "name": "stdout",
          "text": [
            "Kindly enter your range's end value :1000\n",
            "This is the list of odd number : [1, 3, 5, 7, 9, 11, 13, 15, 17, 19, 21, 23, 25, 27, 29, 31, 33, 35, 37, 39, 41, 43, 45, 47, 49, 51, 53, 55, 57, 59, 61, 63, 65, 67, 69, 71, 73, 75, 77, 79, 81, 83, 85, 87, 89, 91, 93, 95, 97, 99, 101, 103, 105, 107, 109, 111, 113, 115, 117, 119, 121, 123, 125, 127, 129, 131, 133, 135, 137, 139, 141, 143, 145, 147, 149, 151, 153, 155, 157, 159, 161, 163, 165, 167, 169, 171, 173, 175, 177, 179, 181, 183, 185, 187, 189, 191, 193, 195, 197, 199, 201, 203, 205, 207, 209, 211, 213, 215, 217, 219, 221, 223, 225, 227, 229, 231, 233, 235, 237, 239, 241, 243, 245, 247, 249, 251, 253, 255, 257, 259, 261, 263, 265, 267, 269, 271, 273, 275, 277, 279, 281, 283, 285, 287, 289, 291, 293, 295, 297, 299, 301, 303, 305, 307, 309, 311, 313, 315, 317, 319, 321, 323, 325, 327, 329, 331, 333, 335, 337, 339, 341, 343, 345, 347, 349, 351, 353, 355, 357, 359, 361, 363, 365, 367, 369, 371, 373, 375, 377, 379, 381, 383, 385, 387, 389, 391, 393, 395, 397, 399, 401, 403, 405, 407, 409, 411, 413, 415, 417, 419, 421, 423, 425, 427, 429, 431, 433, 435, 437, 439, 441, 443, 445, 447, 449, 451, 453, 455, 457, 459, 461, 463, 465, 467, 469, 471, 473, 475, 477, 479, 481, 483, 485, 487, 489, 491, 493, 495, 497, 499, 501, 503, 505, 507, 509, 511, 513, 515, 517, 519, 521, 523, 525, 527, 529, 531, 533, 535, 537, 539, 541, 543, 545, 547, 549, 551, 553, 555, 557, 559, 561, 563, 565, 567, 569, 571, 573, 575, 577, 579, 581, 583, 585, 587, 589, 591, 593, 595, 597, 599, 601, 603, 605, 607, 609, 611, 613, 615, 617, 619, 621, 623, 625, 627, 629, 631, 633, 635, 637, 639, 641, 643, 645, 647, 649, 651, 653, 655, 657, 659, 661, 663, 665, 667, 669, 671, 673, 675, 677, 679, 681, 683, 685, 687, 689, 691, 693, 695, 697, 699, 701, 703, 705, 707, 709, 711, 713, 715, 717, 719, 721, 723, 725, 727, 729, 731, 733, 735, 737, 739, 741, 743, 745, 747, 749, 751, 753, 755, 757, 759, 761, 763, 765, 767, 769, 771, 773, 775, 777, 779, 781, 783, 785, 787, 789, 791, 793, 795, 797, 799, 801, 803, 805, 807, 809, 811, 813, 815, 817, 819, 821, 823, 825, 827, 829, 831, 833, 835, 837, 839, 841, 843, 845, 847, 849, 851, 853, 855, 857, 859, 861, 863, 865, 867, 869, 871, 873, 875, 877, 879, 881, 883, 885, 887, 889, 891, 893, 895, 897, 899, 901, 903, 905, 907, 909, 911, 913, 915, 917, 919, 921, 923, 925, 927, 929, 931, 933, 935, 937, 939, 941, 943, 945, 947, 949, 951, 953, 955, 957, 959, 961, 963, 965, 967, 969, 971, 973, 975, 977, 979, 981, 983, 985, 987, 989, 991, 993, 995, 997, 999]\n",
            "This is the list of odd number : [0, 2, 4, 6, 8, 10, 12, 14, 16, 18, 20, 22, 24, 26, 28, 30, 32, 34, 36, 38, 40, 42, 44, 46, 48, 50, 52, 54, 56, 58, 60, 62, 64, 66, 68, 70, 72, 74, 76, 78, 80, 82, 84, 86, 88, 90, 92, 94, 96, 98, 100, 102, 104, 106, 108, 110, 112, 114, 116, 118, 120, 122, 124, 126, 128, 130, 132, 134, 136, 138, 140, 142, 144, 146, 148, 150, 152, 154, 156, 158, 160, 162, 164, 166, 168, 170, 172, 174, 176, 178, 180, 182, 184, 186, 188, 190, 192, 194, 196, 198, 200, 202, 204, 206, 208, 210, 212, 214, 216, 218, 220, 222, 224, 226, 228, 230, 232, 234, 236, 238, 240, 242, 244, 246, 248, 250, 252, 254, 256, 258, 260, 262, 264, 266, 268, 270, 272, 274, 276, 278, 280, 282, 284, 286, 288, 290, 292, 294, 296, 298, 300, 302, 304, 306, 308, 310, 312, 314, 316, 318, 320, 322, 324, 326, 328, 330, 332, 334, 336, 338, 340, 342, 344, 346, 348, 350, 352, 354, 356, 358, 360, 362, 364, 366, 368, 370, 372, 374, 376, 378, 380, 382, 384, 386, 388, 390, 392, 394, 396, 398, 400, 402, 404, 406, 408, 410, 412, 414, 416, 418, 420, 422, 424, 426, 428, 430, 432, 434, 436, 438, 440, 442, 444, 446, 448, 450, 452, 454, 456, 458, 460, 462, 464, 466, 468, 470, 472, 474, 476, 478, 480, 482, 484, 486, 488, 490, 492, 494, 496, 498, 500, 502, 504, 506, 508, 510, 512, 514, 516, 518, 520, 522, 524, 526, 528, 530, 532, 534, 536, 538, 540, 542, 544, 546, 548, 550, 552, 554, 556, 558, 560, 562, 564, 566, 568, 570, 572, 574, 576, 578, 580, 582, 584, 586, 588, 590, 592, 594, 596, 598, 600, 602, 604, 606, 608, 610, 612, 614, 616, 618, 620, 622, 624, 626, 628, 630, 632, 634, 636, 638, 640, 642, 644, 646, 648, 650, 652, 654, 656, 658, 660, 662, 664, 666, 668, 670, 672, 674, 676, 678, 680, 682, 684, 686, 688, 690, 692, 694, 696, 698, 700, 702, 704, 706, 708, 710, 712, 714, 716, 718, 720, 722, 724, 726, 728, 730, 732, 734, 736, 738, 740, 742, 744, 746, 748, 750, 752, 754, 756, 758, 760, 762, 764, 766, 768, 770, 772, 774, 776, 778, 780, 782, 784, 786, 788, 790, 792, 794, 796, 798, 800, 802, 804, 806, 808, 810, 812, 814, 816, 818, 820, 822, 824, 826, 828, 830, 832, 834, 836, 838, 840, 842, 844, 846, 848, 850, 852, 854, 856, 858, 860, 862, 864, 866, 868, 870, 872, 874, 876, 878, 880, 882, 884, 886, 888, 890, 892, 894, 896, 898, 900, 902, 904, 906, 908, 910, 912, 914, 916, 918, 920, 922, 924, 926, 928, 930, 932, 934, 936, 938, 940, 942, 944, 946, 948, 950, 952, 954, 956, 958, 960, 962, 964, 966, 968, 970, 972, 974, 976, 978, 980, 982, 984, 986, 988, 990, 992, 994, 996, 998]\n"
          ]
        }
      ]
    },
    {
      "cell_type": "code",
      "source": [
        "def odd_even():\n",
        "  user=int(input(\"Kindly enter your range's end value :\"))\n",
        "  cont_odd=[]\n",
        "  cont_even=[]\n",
        "  for i in range(user):\n",
        "    if i%2!=0:\n",
        "      cont_odd.append(i)\n",
        "    else:\n",
        "      cont_even.append(i)\n",
        "      \n",
        "  print(\"This is the list of odd number :\",cont_odd)\n",
        "  print(\"This is the list of odd number :\",cont_even)"
      ],
      "metadata": {
        "id": "uCNgNY4f4D_E"
      },
      "execution_count": null,
      "outputs": []
    },
    {
      "cell_type": "code",
      "source": [
        "def krishna(a=0,b=0,c=0,d=0):\n",
        "  print(a+b)"
      ],
      "metadata": {
        "id": "hhEVCy4A5EKR"
      },
      "execution_count": null,
      "outputs": []
    },
    {
      "cell_type": "code",
      "source": [
        "krishna(2,3)"
      ],
      "metadata": {
        "colab": {
          "base_uri": "https://localhost:8080/",
          "height": 165
        },
        "id": "Nyg_MhUi5PXk",
        "outputId": "be81f4ad-bbc4-447a-b593-f33fbb8d960d"
      },
      "execution_count": null,
      "outputs": [
        {
          "output_type": "error",
          "ename": "TypeError",
          "evalue": "ignored",
          "traceback": [
            "\u001b[0;31m---------------------------------------------------------------------------\u001b[0m",
            "\u001b[0;31mTypeError\u001b[0m                                 Traceback (most recent call last)",
            "\u001b[0;32m<ipython-input-36-15cc6fa204c9>\u001b[0m in \u001b[0;36m<module>\u001b[0;34m\u001b[0m\n\u001b[0;32m----> 1\u001b[0;31m \u001b[0mkrishna\u001b[0m\u001b[0;34m(\u001b[0m\u001b[0;36m2\u001b[0m\u001b[0;34m,\u001b[0m\u001b[0;36m3\u001b[0m\u001b[0;34m)\u001b[0m\u001b[0;34m\u001b[0m\u001b[0;34m\u001b[0m\u001b[0m\n\u001b[0m",
            "\u001b[0;31mTypeError\u001b[0m: krishna() missing 2 required positional arguments: 'c' and 'd'"
          ]
        }
      ]
    },
    {
      "cell_type": "code",
      "source": [
        "krishna()"
      ],
      "metadata": {
        "colab": {
          "base_uri": "https://localhost:8080/"
        },
        "id": "WxL8d-MA5UuV",
        "outputId": "1561adc6-cdce-4a5f-a4e7-e7f4c047ce53"
      },
      "execution_count": null,
      "outputs": [
        {
          "output_type": "stream",
          "name": "stdout",
          "text": [
            "0\n"
          ]
        }
      ]
    },
    {
      "cell_type": "code",
      "source": [
        "krishna(1000)"
      ],
      "metadata": {
        "colab": {
          "base_uri": "https://localhost:8080/"
        },
        "id": "9dSa6dm_5gy0",
        "outputId": "2b9f96e9-a22b-49ea-be30-5d5d99daee25"
      },
      "execution_count": null,
      "outputs": [
        {
          "output_type": "stream",
          "name": "stdout",
          "text": [
            "1000\n"
          ]
        }
      ]
    },
    {
      "cell_type": "code",
      "source": [
        "krishna(1000,2999)"
      ],
      "metadata": {
        "colab": {
          "base_uri": "https://localhost:8080/"
        },
        "id": "rCr1ppbm5ks0",
        "outputId": "0a43801b-5099-463d-d4cc-5285d72735d8"
      },
      "execution_count": null,
      "outputs": [
        {
          "output_type": "stream",
          "name": "stdout",
          "text": [
            "3999\n"
          ]
        }
      ]
    },
    {
      "cell_type": "code",
      "source": [
        "sum=lambda a,b,c=0:print(a+b+c);\n",
        "\n",
        "print(\"hello\")"
      ],
      "metadata": {
        "colab": {
          "base_uri": "https://localhost:8080/"
        },
        "id": "yw4An75W5oRE",
        "outputId": "50c283d1-52d8-4af5-a35d-97d93344df3c"
      },
      "execution_count": null,
      "outputs": [
        {
          "output_type": "stream",
          "name": "stdout",
          "text": [
            "hello\n"
          ]
        }
      ]
    },
    {
      "cell_type": "code",
      "source": [
        "sum(10,2)"
      ],
      "metadata": {
        "colab": {
          "base_uri": "https://localhost:8080/"
        },
        "id": "-7VIu08a6JL0",
        "outputId": "aa4f20f1-d2df-4e0d-b9b6-04533ff38519"
      },
      "execution_count": null,
      "outputs": [
        {
          "output_type": "stream",
          "name": "stdout",
          "text": [
            "12\n"
          ]
        }
      ]
    },
    {
      "cell_type": "code",
      "source": [
        "\n",
        "def odd_even():\n",
        "  user=int(input(\"Enter range last value:\"))\n",
        "  odd=lambda user:print(\"this is odd list:\",[i for i in range(user) if i%2!=0])\n",
        "  even=lambda user:print(\"this is even list:\",[i for i in range(user) if i%2==0])\n",
        "  odd(user)\n",
        "  even(user)\n"
      ],
      "metadata": {
        "id": "MVeDhNw86fRj"
      },
      "execution_count": null,
      "outputs": []
    },
    {
      "cell_type": "code",
      "source": [
        "odd_even()"
      ],
      "metadata": {
        "colab": {
          "base_uri": "https://localhost:8080/"
        },
        "id": "YyydOmWu80Se",
        "outputId": "5306ddf6-cd5b-4df5-db29-ee0a14a3789d"
      },
      "execution_count": null,
      "outputs": [
        {
          "output_type": "stream",
          "name": "stdout",
          "text": [
            "Enter range last value:10\n",
            "this is odd list: [1, 3, 5, 7, 9]\n",
            "this is even list: [0, 2, 4, 6, 8]\n"
          ]
        }
      ]
    },
    {
      "cell_type": "code",
      "source": [
        "def sum(a,b):\n",
        "  return a+b\n"
      ],
      "metadata": {
        "id": "KBJ9lt8881VT"
      },
      "execution_count": null,
      "outputs": []
    },
    {
      "cell_type": "code",
      "source": [
        "x=sum(10,20)\n",
        "\n",
        "print(x+2)"
      ],
      "metadata": {
        "colab": {
          "base_uri": "https://localhost:8080/"
        },
        "id": "u1zuU_yX93qS",
        "outputId": "4f947f74-31d6-4edf-94f3-70d5f3ea1ecb"
      },
      "execution_count": null,
      "outputs": [
        {
          "output_type": "stream",
          "name": "stdout",
          "text": [
            "32\n"
          ]
        }
      ]
    },
    {
      "cell_type": "markdown",
      "source": [
        "# Array:\n",
        "\n",
        "Array is a collection which contain similary datatype of elements.\n",
        "\n",
        "In python list is known as array.\n",
        "\n",
        "In python we create array using numpy package introduce in 2005."
      ],
      "metadata": {
        "id": "4TfX3pLWxesY"
      }
    },
    {
      "cell_type": "code",
      "source": [
        "print([2,3,4,5])"
      ],
      "metadata": {
        "id": "t7v-Pb7d-AYS",
        "colab": {
          "base_uri": "https://localhost:8080/"
        },
        "outputId": "28f532b0-9ad7-483d-b7ed-9cf2da633f88"
      },
      "execution_count": null,
      "outputs": [
        {
          "output_type": "stream",
          "name": "stdout",
          "text": [
            "[2, 3, 4, 5]\n"
          ]
        }
      ]
    },
    {
      "cell_type": "code",
      "source": [
        "print([2,3,4,5,2.4])"
      ],
      "metadata": {
        "colab": {
          "base_uri": "https://localhost:8080/"
        },
        "id": "g7TOqCuqxZHR",
        "outputId": "d52e2776-c849-45d9-a9c7-01eb9aa389bc"
      },
      "execution_count": null,
      "outputs": [
        {
          "output_type": "stream",
          "name": "stdout",
          "text": [
            "[2, 3, 4, 5, 2.4]\n"
          ]
        }
      ]
    },
    {
      "cell_type": "code",
      "source": [
        "import numpy as np"
      ],
      "metadata": {
        "id": "RtfqOiQ0x86A"
      },
      "execution_count": null,
      "outputs": []
    },
    {
      "cell_type": "code",
      "source": [
        "a=np.array([1,2,3,4,5])"
      ],
      "metadata": {
        "id": "m3284KzMyA8f"
      },
      "execution_count": null,
      "outputs": []
    },
    {
      "cell_type": "code",
      "source": [
        "print(a)"
      ],
      "metadata": {
        "colab": {
          "base_uri": "https://localhost:8080/"
        },
        "id": "rCy8nYSiyFT_",
        "outputId": "c101061c-821b-4e24-d74b-0e4c20b2632a"
      },
      "execution_count": null,
      "outputs": [
        {
          "output_type": "stream",
          "name": "stdout",
          "text": [
            "[1 2 3 4 5]\n"
          ]
        }
      ]
    },
    {
      "cell_type": "code",
      "source": [
        "a"
      ],
      "metadata": {
        "colab": {
          "base_uri": "https://localhost:8080/"
        },
        "id": "K83rk7NJyRIl",
        "outputId": "cdda1167-bc82-4320-d07d-913bd77197f4"
      },
      "execution_count": null,
      "outputs": [
        {
          "output_type": "execute_result",
          "data": {
            "text/plain": [
              "array([1, 2, 3, 4, 5])"
            ]
          },
          "metadata": {},
          "execution_count": 8
        }
      ]
    },
    {
      "cell_type": "code",
      "source": [
        "b=np.array([1,2,3,4,\"krishna\"])\n",
        "print(b)"
      ],
      "metadata": {
        "colab": {
          "base_uri": "https://localhost:8080/"
        },
        "id": "LAVmWbqRyF3z",
        "outputId": "540afb80-7657-41ad-f2f5-8f54a6199b43"
      },
      "execution_count": null,
      "outputs": [
        {
          "output_type": "stream",
          "name": "stdout",
          "text": [
            "['1' '2' '3' '4' 'krishna']\n"
          ]
        }
      ]
    },
    {
      "cell_type": "code",
      "source": [
        "b=np.array([1,2,3,4,\"krishna\"],dtype=np.int8)\n",
        "print(b)"
      ],
      "metadata": {
        "colab": {
          "base_uri": "https://localhost:8080/",
          "height": 190
        },
        "id": "V8y0Ysmpy_cw",
        "outputId": "31921d8e-e9eb-4e95-f9eb-a25000bf381c"
      },
      "execution_count": null,
      "outputs": [
        {
          "output_type": "error",
          "ename": "ValueError",
          "evalue": "ignored",
          "traceback": [
            "\u001b[0;31m---------------------------------------------------------------------------\u001b[0m",
            "\u001b[0;31mValueError\u001b[0m                                Traceback (most recent call last)",
            "\u001b[0;32m<ipython-input-10-53f2b4a4c0ee>\u001b[0m in \u001b[0;36m<module>\u001b[0;34m\u001b[0m\n\u001b[0;32m----> 1\u001b[0;31m \u001b[0mb\u001b[0m\u001b[0;34m=\u001b[0m\u001b[0mnp\u001b[0m\u001b[0;34m.\u001b[0m\u001b[0marray\u001b[0m\u001b[0;34m(\u001b[0m\u001b[0;34m[\u001b[0m\u001b[0;36m1\u001b[0m\u001b[0;34m,\u001b[0m\u001b[0;36m2\u001b[0m\u001b[0;34m,\u001b[0m\u001b[0;36m3\u001b[0m\u001b[0;34m,\u001b[0m\u001b[0;36m4\u001b[0m\u001b[0;34m,\u001b[0m\u001b[0;34m\"krishna\"\u001b[0m\u001b[0;34m]\u001b[0m\u001b[0;34m,\u001b[0m\u001b[0mdtype\u001b[0m\u001b[0;34m=\u001b[0m\u001b[0mnp\u001b[0m\u001b[0;34m.\u001b[0m\u001b[0mint8\u001b[0m\u001b[0;34m)\u001b[0m\u001b[0;34m\u001b[0m\u001b[0;34m\u001b[0m\u001b[0m\n\u001b[0m\u001b[1;32m      2\u001b[0m \u001b[0mprint\u001b[0m\u001b[0;34m(\u001b[0m\u001b[0mb\u001b[0m\u001b[0;34m)\u001b[0m\u001b[0;34m\u001b[0m\u001b[0;34m\u001b[0m\u001b[0m\n",
            "\u001b[0;31mValueError\u001b[0m: invalid literal for int() with base 10: 'krishna'"
          ]
        }
      ]
    },
    {
      "cell_type": "code",
      "source": [
        "b=np.array(['1','2','3','4'],dtype=np.int8)\n",
        "print(b)"
      ],
      "metadata": {
        "colab": {
          "base_uri": "https://localhost:8080/"
        },
        "id": "jBcjWRpezTsP",
        "outputId": "a993ed8c-fa68-4f67-8e14-766d7b684fe3"
      },
      "execution_count": null,
      "outputs": [
        {
          "output_type": "stream",
          "name": "stdout",
          "text": [
            "[1 2 3 4]\n"
          ]
        }
      ]
    },
    {
      "cell_type": "code",
      "source": [
        "a=[i for i in range(100)]\n",
        "print(a)\n",
        "import sys\n",
        "\n",
        "print(sys.getsizeof(a))"
      ],
      "metadata": {
        "colab": {
          "base_uri": "https://localhost:8080/"
        },
        "id": "HeG-3ckEze7w",
        "outputId": "2116b12c-bdc9-4ba0-f6f5-e100fe2b5c3e"
      },
      "execution_count": null,
      "outputs": [
        {
          "output_type": "stream",
          "name": "stdout",
          "text": [
            "[0, 1, 2, 3, 4, 5, 6, 7, 8, 9, 10, 11, 12, 13, 14, 15, 16, 17, 18, 19, 20, 21, 22, 23, 24, 25, 26, 27, 28, 29, 30, 31, 32, 33, 34, 35, 36, 37, 38, 39, 40, 41, 42, 43, 44, 45, 46, 47, 48, 49, 50, 51, 52, 53, 54, 55, 56, 57, 58, 59, 60, 61, 62, 63, 64, 65, 66, 67, 68, 69, 70, 71, 72, 73, 74, 75, 76, 77, 78, 79, 80, 81, 82, 83, 84, 85, 86, 87, 88, 89, 90, 91, 92, 93, 94, 95, 96, 97, 98, 99]\n",
            "920\n"
          ]
        }
      ]
    },
    {
      "cell_type": "code",
      "source": [
        "b=np.array([i for i in range(100)],dtype=np.str_)"
      ],
      "metadata": {
        "id": "epYd8GXx0QZQ"
      },
      "execution_count": null,
      "outputs": []
    },
    {
      "cell_type": "code",
      "source": [
        "print(b)\n",
        "print(type(b))\n",
        "print(sys.getsizeof(b))"
      ],
      "metadata": {
        "colab": {
          "base_uri": "https://localhost:8080/",
          "height": 208
        },
        "id": "-edl6DJk0bwf",
        "outputId": "bd3ae5cd-4f0f-4f72-a53c-c82762129c81"
      },
      "execution_count": null,
      "outputs": [
        {
          "output_type": "error",
          "ename": "NameError",
          "evalue": "ignored",
          "traceback": [
            "\u001b[0;31m---------------------------------------------------------------------------\u001b[0m",
            "\u001b[0;31mNameError\u001b[0m                                 Traceback (most recent call last)",
            "\u001b[0;32m<ipython-input-7-a10e7220f324>\u001b[0m in \u001b[0;36m<module>\u001b[0;34m\u001b[0m\n\u001b[0;32m----> 1\u001b[0;31m \u001b[0mprint\u001b[0m\u001b[0;34m(\u001b[0m\u001b[0mb\u001b[0m\u001b[0;34m)\u001b[0m\u001b[0;34m\u001b[0m\u001b[0;34m\u001b[0m\u001b[0m\n\u001b[0m\u001b[1;32m      2\u001b[0m \u001b[0mprint\u001b[0m\u001b[0;34m(\u001b[0m\u001b[0mtype\u001b[0m\u001b[0;34m(\u001b[0m\u001b[0mb\u001b[0m\u001b[0;34m)\u001b[0m\u001b[0;34m)\u001b[0m\u001b[0;34m\u001b[0m\u001b[0;34m\u001b[0m\u001b[0m\n\u001b[1;32m      3\u001b[0m \u001b[0mprint\u001b[0m\u001b[0;34m(\u001b[0m\u001b[0msys\u001b[0m\u001b[0;34m.\u001b[0m\u001b[0mgetsizeof\u001b[0m\u001b[0;34m(\u001b[0m\u001b[0mb\u001b[0m\u001b[0;34m)\u001b[0m\u001b[0;34m)\u001b[0m\u001b[0;34m\u001b[0m\u001b[0;34m\u001b[0m\u001b[0m\n",
            "\u001b[0;31mNameError\u001b[0m: name 'b' is not defined"
          ]
        }
      ]
    },
    {
      "cell_type": "code",
      "source": [
        "\n"
      ],
      "metadata": {
        "id": "v5klzGVw0c5e"
      },
      "execution_count": null,
      "outputs": []
    },
    {
      "cell_type": "code",
      "source": [
        "greet()"
      ],
      "metadata": {
        "colab": {
          "base_uri": "https://localhost:8080/"
        },
        "id": "7cA3QWxSDfUq",
        "outputId": "61fc6bdd-f7aa-49cc-ff8c-1d3473a5fc12"
      },
      "execution_count": null,
      "outputs": [
        {
          "output_type": "stream",
          "name": "stdout",
          "text": [
            "I am AI Trainer\n"
          ]
        }
      ]
    },
    {
      "cell_type": "code",
      "source": [
        "def greet():\n",
        "  print(\"I am AI Trainer\")\n",
        "  \n",
        "def super(a):\n",
        "  def inner():\n",
        "    print(\"I am Krishna Kumar\")\n",
        "    a()\n",
        "  return inner\n",
        "val=super(greet)  \n",
        "val()"
      ],
      "metadata": {
        "colab": {
          "base_uri": "https://localhost:8080/"
        },
        "id": "gTA22My9Dhwt",
        "outputId": "1ff24080-a2cb-4728-e47d-318dee3c4ba4"
      },
      "execution_count": null,
      "outputs": [
        {
          "output_type": "stream",
          "name": "stdout",
          "text": [
            "I am Krishna Kumar\n",
            "I am AI Trainer\n"
          ]
        }
      ]
    },
    {
      "cell_type": "code",
      "source": [
        "def greet():\n",
        "  print(\"I am AI Trainer\")"
      ],
      "metadata": {
        "id": "V8pOgE0YElBt"
      },
      "execution_count": null,
      "outputs": []
    },
    {
      "cell_type": "markdown",
      "source": [
        "# Object Oriented Programming Structure(OOPS)"
      ],
      "metadata": {
        "id": "0Jt2Xe5TFTou"
      }
    },
    {
      "cell_type": "code",
      "source": [
        "class Burj:\n",
        "  def __init__(self):\n",
        "    #attributes(instance variable)\n",
        "    self.storey=75\n",
        "    self.height=\"1.2km\"\n",
        "    self.rooms=1000\n",
        "  def acommodation(self):\n",
        "    print(\"I will get accommodation in Buraj Khalifa\")\n",
        "  def swimming(self):\n",
        "    print(\"I will get swimming court\")\n",
        "  def restra(self):\n",
        "    print(\"I will get by diet from restra\")\n",
        "    \n",
        "  "
      ],
      "metadata": {
        "id": "XlKct8rXrnA_"
      },
      "execution_count": null,
      "outputs": []
    },
    {
      "cell_type": "code",
      "source": [
        "Dubai=Burj()"
      ],
      "metadata": {
        "id": "TlbW9Orexd5i"
      },
      "execution_count": null,
      "outputs": []
    },
    {
      "cell_type": "code",
      "source": [
        "print(type(Dubai))"
      ],
      "metadata": {
        "colab": {
          "base_uri": "https://localhost:8080/"
        },
        "id": "FQRD--6Dxrs-",
        "outputId": "1566654e-13b8-4a23-8058-ff82b76e93b8"
      },
      "execution_count": null,
      "outputs": [
        {
          "output_type": "stream",
          "name": "stdout",
          "text": [
            "<class '__main__.Burj'>\n"
          ]
        }
      ]
    },
    {
      "cell_type": "code",
      "source": [
        "India=Burj()"
      ],
      "metadata": {
        "id": "IVXODT-qxwjQ"
      },
      "execution_count": null,
      "outputs": []
    },
    {
      "cell_type": "code",
      "source": [
        "India.acommodation()"
      ],
      "metadata": {
        "colab": {
          "base_uri": "https://localhost:8080/"
        },
        "id": "Bb3qCFknx7Ge",
        "outputId": "f1b13f92-c521-437e-f091-a1d50a0f9a2e"
      },
      "execution_count": null,
      "outputs": [
        {
          "output_type": "stream",
          "name": "stdout",
          "text": [
            "I will get accommodation in Buraj Khalifa\n"
          ]
        }
      ]
    },
    {
      "cell_type": "code",
      "source": [
        "a=list()"
      ],
      "metadata": {
        "id": "BF1E3SU6x8-u"
      },
      "execution_count": null,
      "outputs": []
    },
    {
      "cell_type": "code",
      "source": [
        "class Burj:\n",
        "  def __init__(self):      #Constructor\n",
        "    print(id(self))\n",
        "    print(\"Hello world\")\n",
        "    #attributes(instance variable)\n",
        "    self.storey=75\n",
        "    self.height=\"1.2km\"\n",
        "    self.rooms=1000\n",
        "  def acommodation(self):\n",
        "    print(\"I will get accommodation in Buraj Khalifa\")\n",
        "  def swimming(self):\n",
        "    print(\"I will get swimming court\")\n",
        "  def restra(self):\n",
        "    print(\"I will get by diet from restra\")\n",
        "    \n",
        "Dubai=Burj()\n",
        "print(id(Dubai))"
      ],
      "metadata": {
        "colab": {
          "base_uri": "https://localhost:8080/"
        },
        "id": "vRyS3UCHyQ8e",
        "outputId": "61ec2dff-4389-4539-a7f4-68db3aa92d53"
      },
      "execution_count": null,
      "outputs": [
        {
          "output_type": "stream",
          "name": "stdout",
          "text": [
            "140081604529872\n",
            "Hello world\n",
            "140081604529872\n"
          ]
        }
      ]
    },
    {
      "cell_type": "code",
      "source": [
        "Dubai.storey"
      ],
      "metadata": {
        "colab": {
          "base_uri": "https://localhost:8080/"
        },
        "id": "rrvZ2EYV0isf",
        "outputId": "d99e8987-0450-49cb-dbc0-8005c02c41d2"
      },
      "execution_count": null,
      "outputs": [
        {
          "output_type": "execute_result",
          "data": {
            "text/plain": [
              "75"
            ]
          },
          "metadata": {},
          "execution_count": 13
        }
      ]
    },
    {
      "cell_type": "code",
      "source": [
        "India=Burj()"
      ],
      "metadata": {
        "colab": {
          "base_uri": "https://localhost:8080/"
        },
        "id": "qhXEXmuY0orb",
        "outputId": "c08c02d3-967c-4b2f-ca9a-6a174060bd06"
      },
      "execution_count": null,
      "outputs": [
        {
          "output_type": "stream",
          "name": "stdout",
          "text": [
            "140081604526288\n",
            "Hello world\n"
          ]
        }
      ]
    },
    {
      "cell_type": "code",
      "source": [
        "print(id(India))"
      ],
      "metadata": {
        "colab": {
          "base_uri": "https://localhost:8080/"
        },
        "id": "3KyzHQgj1jTQ",
        "outputId": "697f82b0-0820-4b88-a03f-9c9da1398adf"
      },
      "execution_count": null,
      "outputs": [
        {
          "output_type": "stream",
          "name": "stdout",
          "text": [
            "140081604526288\n"
          ]
        }
      ]
    },
    {
      "cell_type": "code",
      "source": [
        "India.storey=100"
      ],
      "metadata": {
        "id": "7H8FzCsC1r-X"
      },
      "execution_count": null,
      "outputs": []
    },
    {
      "cell_type": "code",
      "source": [
        "India.storey"
      ],
      "metadata": {
        "colab": {
          "base_uri": "https://localhost:8080/"
        },
        "id": "QVea5pOJ13Zc",
        "outputId": "05da065f-c049-466e-806a-4069e2369934"
      },
      "execution_count": null,
      "outputs": [
        {
          "output_type": "execute_result",
          "data": {
            "text/plain": [
              "100"
            ]
          },
          "metadata": {},
          "execution_count": 19
        }
      ]
    },
    {
      "cell_type": "code",
      "source": [
        "Dubai.storey"
      ],
      "metadata": {
        "colab": {
          "base_uri": "https://localhost:8080/"
        },
        "id": "4DeZya_x2IJf",
        "outputId": "865b60a6-0fd2-494b-f79b-a43255594dd3"
      },
      "execution_count": null,
      "outputs": [
        {
          "output_type": "execute_result",
          "data": {
            "text/plain": [
              "75"
            ]
          },
          "metadata": {},
          "execution_count": 20
        }
      ]
    },
    {
      "cell_type": "code",
      "source": [
        "class Intro:\n",
        "  def __init__(self):\n",
        "    self.name=\"\"\n",
        "    self.age=0\n",
        "    self.location=\"\"\n",
        "  \n",
        "  def Name(self):\n",
        "    print(\"My name is {}\".format(self.name))\n",
        "  \n",
        "  def Age(self):\n",
        "    print(\"My age is {}\".format(self.age)) \n",
        "  \n",
        "  def Location(self):\n",
        "    print(\"My location is {}\".format(self.location))"
      ],
      "metadata": {
        "id": "9uC2C5zM2MWQ"
      },
      "execution_count": null,
      "outputs": []
    },
    {
      "cell_type": "code",
      "source": [
        "krishna=Intro()"
      ],
      "metadata": {
        "id": "6QZhGZru3qPu"
      },
      "execution_count": null,
      "outputs": []
    },
    {
      "cell_type": "code",
      "source": [
        "suleman=Intro()"
      ],
      "metadata": {
        "id": "5Bpgew243vWV"
      },
      "execution_count": null,
      "outputs": []
    },
    {
      "cell_type": "code",
      "source": [
        "vikas=Intro()"
      ],
      "metadata": {
        "id": "NwXRZTJJ34mN"
      },
      "execution_count": null,
      "outputs": []
    },
    {
      "cell_type": "code",
      "source": [
        "tanu=Intro()"
      ],
      "metadata": {
        "id": "RBZQneIs3-V-"
      },
      "execution_count": null,
      "outputs": []
    },
    {
      "cell_type": "code",
      "source": [
        "dharm=Intro()"
      ],
      "metadata": {
        "id": "N0EnkefR4B2A"
      },
      "execution_count": null,
      "outputs": []
    },
    {
      "cell_type": "code",
      "source": [
        "ankit=Intro()"
      ],
      "metadata": {
        "id": "dNt8AxJP4M7-"
      },
      "execution_count": null,
      "outputs": []
    },
    {
      "cell_type": "code",
      "source": [
        "rajan=Intro()"
      ],
      "metadata": {
        "id": "PHYkOBs54P7u"
      },
      "execution_count": null,
      "outputs": []
    },
    {
      "cell_type": "code",
      "source": [
        "krishna.Age()"
      ],
      "metadata": {
        "colab": {
          "base_uri": "https://localhost:8080/"
        },
        "id": "mmXZiQek7z5v",
        "outputId": "64a7b3a5-77d4-4353-8e12-4b72d767655a"
      },
      "execution_count": null,
      "outputs": [
        {
          "output_type": "stream",
          "name": "stdout",
          "text": [
            "My age is 26\n"
          ]
        }
      ]
    },
    {
      "cell_type": "code",
      "source": [
        "vikas.Age()"
      ],
      "metadata": {
        "id": "ZPXL4Evm75S9",
        "outputId": "a3d856bb-17ca-4d98-b813-6539c135f4e1",
        "colab": {
          "base_uri": "https://localhost:8080/"
        }
      },
      "execution_count": null,
      "outputs": [
        {
          "output_type": "stream",
          "name": "stdout",
          "text": [
            "My age is 30\n"
          ]
        }
      ]
    },
    {
      "cell_type": "code",
      "source": [
        "krishna.Age()"
      ],
      "metadata": {
        "id": "hYQhQtLo788d",
        "colab": {
          "base_uri": "https://localhost:8080/"
        },
        "outputId": "818f2262-215c-41ac-f547-560d4c54fd40"
      },
      "execution_count": null,
      "outputs": [
        {
          "output_type": "stream",
          "name": "stdout",
          "text": [
            "My age is 26\n"
          ]
        }
      ]
    },
    {
      "cell_type": "code",
      "source": [
        "dharm.Age()"
      ],
      "metadata": {
        "colab": {
          "base_uri": "https://localhost:8080/"
        },
        "id": "Z6XmJPaP8vij",
        "outputId": "0c162429-4f16-4a1b-b905-85660374a1ab"
      },
      "execution_count": null,
      "outputs": [
        {
          "output_type": "stream",
          "name": "stdout",
          "text": [
            "My age is 0\n"
          ]
        }
      ]
    },
    {
      "cell_type": "code",
      "source": [
        "krishna.Age(krishna)"
      ],
      "metadata": {
        "colab": {
          "base_uri": "https://localhost:8080/",
          "height": 171
        },
        "id": "bC-aYkVb8y8g",
        "outputId": "a4713ba2-dfbf-4bc6-8d42-e071e2b89bd7"
      },
      "execution_count": null,
      "outputs": [
        {
          "output_type": "error",
          "ename": "TypeError",
          "evalue": "ignored",
          "traceback": [
            "\u001b[0;31m---------------------------------------------------------------------------\u001b[0m",
            "\u001b[0;31mTypeError\u001b[0m                                 Traceback (most recent call last)",
            "\u001b[0;32m<ipython-input-82-2ae048104a8a>\u001b[0m in \u001b[0;36m<module>\u001b[0;34m\u001b[0m\n\u001b[0;32m----> 1\u001b[0;31m \u001b[0mkrishna\u001b[0m\u001b[0;34m.\u001b[0m\u001b[0mAge\u001b[0m\u001b[0;34m(\u001b[0m\u001b[0mkrishna\u001b[0m\u001b[0;34m)\u001b[0m\u001b[0;34m\u001b[0m\u001b[0;34m\u001b[0m\u001b[0m\n\u001b[0m",
            "\u001b[0;31mTypeError\u001b[0m: Age() takes 1 positional argument but 2 were given"
          ]
        }
      ]
    },
    {
      "cell_type": "code",
      "source": [
        "Intro.Age(krishna)"
      ],
      "metadata": {
        "colab": {
          "base_uri": "https://localhost:8080/"
        },
        "id": "cKXuYbiB9rQu",
        "outputId": "9d6ce032-d0af-408e-950b-e7d8518c93f2"
      },
      "execution_count": null,
      "outputs": [
        {
          "output_type": "stream",
          "name": "stdout",
          "text": [
            "My age is 26\n"
          ]
        }
      ]
    },
    {
      "cell_type": "code",
      "source": [
        "Intro.Age(Sumit)"
      ],
      "metadata": {
        "colab": {
          "base_uri": "https://localhost:8080/",
          "height": 171
        },
        "id": "W4oV-PNQ91Tm",
        "outputId": "fba052fc-7510-4bdb-e293-6e8760592d84"
      },
      "execution_count": null,
      "outputs": [
        {
          "output_type": "error",
          "ename": "NameError",
          "evalue": "ignored",
          "traceback": [
            "\u001b[0;31m---------------------------------------------------------------------------\u001b[0m",
            "\u001b[0;31mNameError\u001b[0m                                 Traceback (most recent call last)",
            "\u001b[0;32m<ipython-input-84-ee94a66ca8d8>\u001b[0m in \u001b[0;36m<module>\u001b[0;34m\u001b[0m\n\u001b[0;32m----> 1\u001b[0;31m \u001b[0mIntro\u001b[0m\u001b[0;34m.\u001b[0m\u001b[0mAge\u001b[0m\u001b[0;34m(\u001b[0m\u001b[0mSumit\u001b[0m\u001b[0;34m)\u001b[0m\u001b[0;34m\u001b[0m\u001b[0;34m\u001b[0m\u001b[0m\n\u001b[0m",
            "\u001b[0;31mNameError\u001b[0m: name 'Sumit' is not defined"
          ]
        }
      ]
    },
    {
      "cell_type": "markdown",
      "source": [
        "class ---> Blueprint \n",
        "\n",
        "instance variable  --> a variable which declear inside a constructor(def __init__(self))\n",
        "\n",
        "self --> self is object \n",
        "\n",
        "Encapsulation  ---> hiding data of a class"
      ],
      "metadata": {
        "id": "xE34oPIe-N6a"
      }
    },
    {
      "cell_type": "code",
      "source": [
        "class ATM:\n",
        "\n",
        "  def __init__(self):\n",
        "    self.pin=\"\"\n",
        "    self.balance=0\n",
        "\n",
        "  def change_pin(self):\n",
        "    print(\"Welcome to change pin section:\")\n",
        "  \n",
        "  def balance_update(self):\n",
        "    print(\"Welcome to balance update section:\")\n",
        "  \n",
        "  def balance_enq(self):\n",
        "    print(\"Welcomt to balance enquiry section:\")\n",
        "  \n",
        "  def withdrawal(self):\n",
        "    print(\"Welcome to withdrawal section:\")\n"
      ],
      "metadata": {
        "id": "I0zR305u0Nx6"
      },
      "execution_count": null,
      "outputs": []
    },
    {
      "cell_type": "code",
      "source": [
        "krishna=ATM()"
      ],
      "metadata": {
        "id": "eLECHwyV0sH0"
      },
      "execution_count": null,
      "outputs": []
    },
    {
      "cell_type": "code",
      "source": [
        "krishna.balance"
      ],
      "metadata": {
        "colab": {
          "base_uri": "https://localhost:8080/"
        },
        "id": "a9sdLSLD2xND",
        "outputId": "094f7b0e-aca2-44dd-e171-9f1d02df1181"
      },
      "execution_count": null,
      "outputs": [
        {
          "output_type": "execute_result",
          "data": {
            "text/plain": [
              "0"
            ]
          },
          "metadata": {},
          "execution_count": 3
        }
      ]
    },
    {
      "cell_type": "code",
      "source": [
        "krishna.pin"
      ],
      "metadata": {
        "colab": {
          "base_uri": "https://localhost:8080/",
          "height": 36
        },
        "id": "vkk8TWkA23GT",
        "outputId": "b771b31c-3cfc-4dd4-ed6d-c3802601a13e"
      },
      "execution_count": null,
      "outputs": [
        {
          "output_type": "execute_result",
          "data": {
            "text/plain": [
              "''"
            ],
            "application/vnd.google.colaboratory.intrinsic+json": {
              "type": "string"
            }
          },
          "metadata": {},
          "execution_count": 4
        }
      ]
    },
    {
      "cell_type": "code",
      "source": [
        "krishna.pin=\"9807\""
      ],
      "metadata": {
        "id": "29o60eJD26A0"
      },
      "execution_count": null,
      "outputs": []
    },
    {
      "cell_type": "code",
      "source": [
        "type(krishna.pin)"
      ],
      "metadata": {
        "colab": {
          "base_uri": "https://localhost:8080/"
        },
        "id": "QNQzTqEv3CKj",
        "outputId": "a98a4b47-0016-4c1b-8991-50aac7f3e364"
      },
      "execution_count": null,
      "outputs": [
        {
          "output_type": "execute_result",
          "data": {
            "text/plain": [
              "str"
            ]
          },
          "metadata": {},
          "execution_count": 6
        }
      ]
    },
    {
      "cell_type": "code",
      "source": [
        "krishna.pin"
      ],
      "metadata": {
        "colab": {
          "base_uri": "https://localhost:8080/",
          "height": 36
        },
        "id": "lZUQapdf3EvT",
        "outputId": "a6c97ace-e963-4576-e025-9341339ec7e8"
      },
      "execution_count": null,
      "outputs": [
        {
          "output_type": "execute_result",
          "data": {
            "text/plain": [
              "'9807'"
            ],
            "application/vnd.google.colaboratory.intrinsic+json": {
              "type": "string"
            }
          },
          "metadata": {},
          "execution_count": 7
        }
      ]
    },
    {
      "cell_type": "code",
      "source": [
        "krishna.pin=1000"
      ],
      "metadata": {
        "id": "QQ-QoPdI3QSs"
      },
      "execution_count": null,
      "outputs": []
    },
    {
      "cell_type": "code",
      "source": [
        "krishna.pin"
      ],
      "metadata": {
        "colab": {
          "base_uri": "https://localhost:8080/"
        },
        "id": "7XEHa2Ra3cHT",
        "outputId": "9e43d28a-59b0-47af-c083-bd25fb5f44bc"
      },
      "execution_count": null,
      "outputs": [
        {
          "output_type": "execute_result",
          "data": {
            "text/plain": [
              "1000"
            ]
          },
          "metadata": {},
          "execution_count": 9
        }
      ]
    },
    {
      "cell_type": "markdown",
      "source": [
        "1: problem:(create a method inside class to update pin and blance)\n",
        "\n",
        "we should create a method to change pin inside a class\n",
        "\n",
        "\n",
        "2: problem:(encapsulation)\n",
        "\n",
        "we must hide our class variable/instance variable"
      ],
      "metadata": {
        "id": "l4uNTxJI3drj"
      }
    },
    {
      "cell_type": "code",
      "source": [
        "class ATM:\n",
        "\n",
        "  def __init__(self):\n",
        "    self.__pin=\"0000\"\n",
        "    self.__balance=0\n",
        "  def check_pin(self):\n",
        "    print(self.pin)\n",
        "  def change_pin(self):\n",
        "    print(\"Welcome to change pin section:\")\n",
        "  \n",
        "  def balance_update(self):\n",
        "    print(\"Welcome to balance update section:\")\n",
        "  \n",
        "  def balance_enq(self):\n",
        "    print(\"Welcomt to balance enquiry section:\")\n",
        "  \n",
        "  def withdrawal(self):\n",
        "    print(\"Welcome to withdrawal section:\")"
      ],
      "metadata": {
        "id": "hebDbhmP4OCz"
      },
      "execution_count": null,
      "outputs": []
    },
    {
      "cell_type": "code",
      "source": [
        "ram=ATM()"
      ],
      "metadata": {
        "id": "YbzbIZf64kGD"
      },
      "execution_count": null,
      "outputs": []
    },
    {
      "cell_type": "code",
      "source": [
        "ram.pin=1000"
      ],
      "metadata": {
        "id": "LuRWduUN4mBD"
      },
      "execution_count": null,
      "outputs": []
    },
    {
      "cell_type": "code",
      "source": [
        "ram.check_pin()"
      ],
      "metadata": {
        "colab": {
          "base_uri": "https://localhost:8080/"
        },
        "id": "W2-jlJT54pxj",
        "outputId": "691afd4d-c8ec-4b3d-ad61-5abaddd3a0a9"
      },
      "execution_count": null,
      "outputs": [
        {
          "output_type": "stream",
          "name": "stdout",
          "text": [
            "0000\n"
          ]
        }
      ]
    },
    {
      "cell_type": "code",
      "source": [
        "class ATM:\n",
        "\n",
        "  def __init__(self):\n",
        "    self.__pin=\"0000\"\n",
        "    self.__balance=0\n",
        "    self.menu()\n",
        "  \n",
        "  def menu(self):\n",
        "    user_input=input(\"\"\"Welcome to SBI\n",
        "    \n",
        "    Kindly choose one option:\n",
        "    \n",
        "    1. Change Pin\n",
        "    2. Balance Update\n",
        "    3. Balance Enquiry\n",
        "    4. Withdrawal\n",
        "    5. Exit\n",
        "    \"\"\")\n",
        "    if user_input=='1':\n",
        "      self.change_pin()\n",
        "    elif user_input=='2':\n",
        "      self.balance_update()\n",
        "    elif user_input=='3':\n",
        "      self.balance_enq()\n",
        "    elif user_input=='4':\n",
        "      self.withdrawal()\n",
        "    elif user_input=='5':\n",
        "      print(\"Thank you to banking with us\")\n",
        "    else:\n",
        "      print(\"Be in your limit\")\n",
        "      \n",
        "  def change_pin(self):\n",
        "    print(\"Welcome to change pin section:\")\n",
        "  \n",
        "  def balance_update(self):\n",
        "    print(\"Welcome to balance update section:\")\n",
        "  \n",
        "  def balance_enq(self):\n",
        "    print(\"Welcomt to balance enquiry section:\")\n",
        "  \n",
        "  def withdrawal(self):\n",
        "    print(\"Welcome to withdrawal section:\")"
      ],
      "metadata": {
        "id": "_zLjE8kz5GiD"
      },
      "execution_count": null,
      "outputs": []
    },
    {
      "cell_type": "code",
      "source": [
        "krishna=ATM()"
      ],
      "metadata": {
        "colab": {
          "base_uri": "https://localhost:8080/"
        },
        "id": "SCKY730K7F6R",
        "outputId": "6161fb97-8c2b-457e-aa27-be685553e6bd"
      },
      "execution_count": null,
      "outputs": [
        {
          "output_type": "stream",
          "name": "stdout",
          "text": [
            "Welcome to SBI\n",
            "    \n",
            "    Kindly choose one option:\n",
            "    \n",
            "    1. Change Pin\n",
            "    2. Balance Update\n",
            "    3. Balance Enquiry\n",
            "    4. Withdrawal\n",
            "    5. Exit\n",
            "    2\n",
            "Welcome to balance update section:\n"
          ]
        }
      ]
    },
    {
      "cell_type": "code",
      "source": [
        "krishna.menu()"
      ],
      "metadata": {
        "colab": {
          "base_uri": "https://localhost:8080/"
        },
        "id": "l5XXGgiE7HhE",
        "outputId": "d04e8d70-73c8-4bf6-fa2c-3a44748604ae"
      },
      "execution_count": null,
      "outputs": [
        {
          "output_type": "stream",
          "name": "stdout",
          "text": [
            "Welcome to SBI\n",
            "    \n",
            "    Kindly choose one option:\n",
            "    \n",
            "    1. Change Pin\n",
            "    2. Balance Update\n",
            "    3. Balance Enquiry\n",
            "    4. Withdrawal\n",
            "    5. Exit\n"
          ]
        }
      ]
    },
    {
      "cell_type": "code",
      "source": [
        "import time\n",
        "class ATM:\n",
        "  \n",
        "  def __init__(self):\n",
        "    self.__pin=\"0000\"\n",
        "    self.__balance=0\n",
        "    self.menu()\n",
        "  \n",
        "  def menu(self):\n",
        "    user_input=input(\"\"\"Welcome to SBI\n",
        "    \n",
        "    Kindly choose one option:\n",
        "    \n",
        "    1. Change Pin\n",
        "    2. Balance Update\n",
        "    3. Balance Enquiry\n",
        "    4. Withdrawal\n",
        "    5. Exit\n",
        "    \"\"\")\n",
        "    if user_input=='1':\n",
        "      self.change_pin()\n",
        "    elif user_input=='2':\n",
        "      self.balance_update()\n",
        "    elif user_input=='3':\n",
        "      self.balance_enq()\n",
        "    elif user_input=='4':\n",
        "      self.withdrawal()\n",
        "    elif user_input=='5':\n",
        "      print(\"Thank you to banking with us\")\n",
        "    else:\n",
        "      print(\"Be in your limit\")\n",
        "      \n",
        "  def change_pin(self):\n",
        "    user_input=input(\"\"\"Welcome to change pin section:\n",
        "    1. Forget Pin\n",
        "    2. Reset Pin\"\"\"\n",
        "    )\n",
        "    if user_input=='1':\n",
        "      user_pin=input(\"Kindly enter your new pin : \")\n",
        "      user_pin1=input(\"Kindly re-enter your pin again : \")\n",
        "      if user_pin==user_pin1:\n",
        "        self.__pin=user_pin\n",
        "        print('Your pin change successfully')\n",
        "      else:\n",
        "        print(\"Your pin is not matching\")\n",
        "      \n",
        "    \n",
        "    elif user_input=='2':\n",
        "      user_2=input(\"Kindly enter your old pin\")\n",
        "      if self.__pin==user_2:\n",
        "        user_2_new=input(\"Kindly enter your new pin : \")\n",
        "        user_2_new1=input(\"Kindly re-enter your pin again : \")\n",
        "        if user_2_new==user_2_new1:\n",
        "          self.__pin=user_2_new\n",
        "          print('Your pin change successfully')\n",
        "        else:\n",
        "          print(\"Your pin is not matching\")\n",
        "      else:\n",
        "        print(\"Your old pin is not correct\")\n",
        "    time.sleep(5)\n",
        "    self.menu()\n",
        "\n",
        "  def balance_update(self):\n",
        "    print(\"Welcome to balance update section:\")\n",
        "    user_b=int(input(\"kindly set your balance :\"))\n",
        "    self.__balance=user_b\n",
        "    print(\"Your balance set successfully : {}\".format(self.__balance))\n",
        "    time.sleep(5)\n",
        "    self.menu()\n",
        "\n",
        "  def balance_enq(self):\n",
        "    print(\"Welcomt to balance enquiry section:\")\n",
        "    print(\"Your actual bank balance is :{}\".format(self.__balance))\n",
        "    time.sleep(5)\n",
        "    self.menu()\n",
        "  \n",
        "  def withdrawal(self):\n",
        "    print(\"Welcome to withdrawal section:\")\n",
        "    user_w=int(input(\"Kindly enter your balance :\"))\n",
        "    if self.__balance>=user_w:\n",
        "      self.__balance=self.__balance-user_w\n",
        "      print(\"Kindly collect your amount :{}\".format(user_w))\n",
        "    else:\n",
        "      print(\"You have insufficient balance.\")\n",
        "    time.sleep(5)\n",
        "    self.menu()"
      ],
      "metadata": {
        "id": "SePBaQ1j7MsD"
      },
      "execution_count": null,
      "outputs": []
    },
    {
      "cell_type": "code",
      "source": [
        "krishna=ATM()"
      ],
      "metadata": {
        "colab": {
          "base_uri": "https://localhost:8080/"
        },
        "id": "3L2ZYR-X_wFf",
        "outputId": "ef38e62d-e866-4055-80c7-5609e8cc073d"
      },
      "execution_count": null,
      "outputs": [
        {
          "output_type": "stream",
          "name": "stdout",
          "text": [
            "Welcome to SBI\n",
            "    \n",
            "    Kindly choose one option:\n",
            "    \n",
            "    1. Change Pin\n",
            "    2. Balance Update\n",
            "    3. Balance Enquiry\n",
            "    4. Withdrawal\n",
            "    5. Exit\n",
            "    1\n",
            "Welcome to change pin section:\n",
            "    1. Forget Pin\n",
            "    2. Reset Pin1\n",
            "Kindly enter your new pin : 9807\n",
            "Kindly re-enter your pin again : 9807\n",
            "Your pin change successfully\n",
            "Welcome to SBI\n",
            "    \n",
            "    Kindly choose one option:\n",
            "    \n",
            "    1. Change Pin\n",
            "    2. Balance Update\n",
            "    3. Balance Enquiry\n",
            "    4. Withdrawal\n",
            "    5. Exit\n",
            "    2\n",
            "Welcome to balance update section:\n",
            "kindly set your balance :10000\n",
            "Your balance set successfully : 10000\n",
            "Welcome to SBI\n",
            "    \n",
            "    Kindly choose one option:\n",
            "    \n",
            "    1. Change Pin\n",
            "    2. Balance Update\n",
            "    3. Balance Enquiry\n",
            "    4. Withdrawal\n",
            "    5. Exit\n",
            "    3\n",
            "Welcomt to balance enquiry section:\n",
            "Your actual bank balance is :10000\n",
            "Welcome to SBI\n",
            "    \n",
            "    Kindly choose one option:\n",
            "    \n",
            "    1. Change Pin\n",
            "    2. Balance Update\n",
            "    3. Balance Enquiry\n",
            "    4. Withdrawal\n",
            "    5. Exit\n",
            "    4\n",
            "Welcome to withdrawal section:\n",
            "Kindly enter your balance :999\n",
            "Kindly collect your amount :999\n",
            "Welcome to SBI\n",
            "    \n",
            "    Kindly choose one option:\n",
            "    \n",
            "    1. Change Pin\n",
            "    2. Balance Update\n",
            "    3. Balance Enquiry\n",
            "    4. Withdrawal\n",
            "    5. Exit\n",
            "    3\n",
            "Welcomt to balance enquiry section:\n",
            "Your actual bank balance is :9001\n",
            "Welcome to SBI\n",
            "    \n",
            "    Kindly choose one option:\n",
            "    \n",
            "    1. Change Pin\n",
            "    2. Balance Update\n",
            "    3. Balance Enquiry\n",
            "    4. Withdrawal\n",
            "    5. Exit\n",
            "    4\n",
            "Welcome to withdrawal section:\n",
            "Kindly enter your balance :10000\n",
            "You have insufficient balance.\n",
            "Welcome to SBI\n",
            "    \n",
            "    Kindly choose one option:\n",
            "    \n",
            "    1. Change Pin\n",
            "    2. Balance Update\n",
            "    3. Balance Enquiry\n",
            "    4. Withdrawal\n",
            "    5. Exit\n",
            "    5\n",
            "Thank you to banking with us\n"
          ]
        }
      ]
    },
    {
      "cell_type": "markdown",
      "source": [
        "# Inheritance"
      ],
      "metadata": {
        "id": "CnZU0W1eJwUd"
      }
    },
    {
      "cell_type": "code",
      "source": [
        "\n",
        "class Student:\n",
        "  def signup(self):\n",
        "    print(\"Welcome to signup section\")\n",
        "  \n",
        "  def login(self):\n",
        "    print(\"Welcome to login section\")\n",
        "  def certification(self):\n",
        "    print(\"Get you certification now\")\n",
        "\n",
        "class Trainer:\n",
        "  def signup(self):\n",
        "    print(\"Welcome to signup section\")\n",
        "  \n",
        "  def login(self):\n",
        "    print(\"Welcome to login section\")\n",
        "  def commision(self):\n",
        "    print(\"Hey man this is your earning\")"
      ],
      "metadata": {
        "id": "0ESm1WHZtkIv"
      },
      "execution_count": null,
      "outputs": []
    },
    {
      "cell_type": "code",
      "source": [
        "krishna=Trainer()"
      ],
      "metadata": {
        "id": "8wIZr4jtwrBf"
      },
      "execution_count": null,
      "outputs": []
    },
    {
      "cell_type": "code",
      "source": [
        "suleman=Student()"
      ],
      "metadata": {
        "id": "pveUzvDdwvnn"
      },
      "execution_count": null,
      "outputs": []
    },
    {
      "cell_type": "code",
      "source": [
        "suleman."
      ],
      "metadata": {
        "id": "EfmD07kTxNNv"
      },
      "execution_count": null,
      "outputs": []
    },
    {
      "cell_type": "code",
      "source": [
        "class Login_signup:\n",
        "  def signup(self):\n",
        "    print(\"Welcome to signup section\")\n",
        "  \n",
        "  def login(self):\n",
        "    print(\"Welcome to login section\")\n",
        "\n",
        "class Student(Login_signup):\n",
        "  def certification(self):\n",
        "    print(\"Get you certification now\")\n",
        "\n",
        "class Trainer(Login_signup):\n",
        "  def commision(self):\n",
        "    print(\"Hey man this is your earning\")\n"
      ],
      "metadata": {
        "id": "da1f71nSw5gC"
      },
      "execution_count": null,
      "outputs": []
    },
    {
      "cell_type": "code",
      "source": [
        "krishna=Trainer()"
      ],
      "metadata": {
        "id": "8nfIrnpoxjAP"
      },
      "execution_count": null,
      "outputs": []
    },
    {
      "cell_type": "code",
      "source": [
        "suleman=Student()"
      ],
      "metadata": {
        "id": "eJkxzzIzxmX2"
      },
      "execution_count": null,
      "outputs": []
    },
    {
      "cell_type": "code",
      "source": [
        "class BhanuPratapSingh:\n",
        "  def __init__(self):\n",
        "    print(\"Dada: My grandchild will become Austronut\")\n",
        "  def ghar(self):\n",
        "    print(\"I have a house\")\n",
        "\n",
        "class MrsHiraThakur:\n",
        "  def __init__(self):\n",
        "    print(\"Mom:My son will become Collector on day\")\n",
        "  def collector(self):\n",
        "    print(\"I am the honer of this district \")\n",
        "\n",
        "class HiraThakur:\n",
        "  def __init__(self):\n",
        "    print(\"Papa: My son will become doctor\")\n",
        "  def Bus(self):\n",
        "    print(\"I have a bus\")\n",
        "  \n",
        "class PintuThakur(HiraThakur,MrsHiraThakur,BhanuPratapSingh):\n",
        "  def __init__(self):\n",
        "    print(\"Pintu wants to become AI Engineer\")"
      ],
      "metadata": {
        "id": "FhOAd9TIxyrV"
      },
      "execution_count": null,
      "outputs": []
    },
    {
      "cell_type": "code",
      "source": [
        "pintu=PintuThakur()"
      ],
      "metadata": {
        "colab": {
          "base_uri": "https://localhost:8080/"
        },
        "id": "rN0mNa3J08Gs",
        "outputId": "ffa87813-0544-4701-867c-eba2368ac10d"
      },
      "execution_count": null,
      "outputs": [
        {
          "output_type": "stream",
          "name": "stdout",
          "text": [
            "Pintu wants to become AI Engineer\n"
          ]
        }
      ]
    },
    {
      "cell_type": "code",
      "source": [
        "class BhanuPratapSingh:\n",
        "  def __init__(self):\n",
        "    print(\"Dada: My grandchild will become Austronut\")\n",
        "  def ghar(self):\n",
        "    print(\"I have a house\")\n",
        "\n",
        "class MrsHiraThakur:\n",
        "  # def __init__(self):\n",
        "  #   print(\"Mom:My son will become Collector on day\")\n",
        "  def collector(self):\n",
        "    print(\"I am the honer of this district \")\n",
        "\n",
        "class HiraThakur(MrsHiraThakur):\n",
        "  # def __init__(self):\n",
        "  #   print(\"Papa: My son will become doctor\")\n",
        "  def Bus(self):\n",
        "    print(\"I have a bus\")\n",
        "  \n",
        "class PintuThakur(HiraThakur,MrsHiraThakur,BhanuPratapSingh):\n",
        "  pass"
      ],
      "metadata": {
        "id": "CF99VGWc1CQC"
      },
      "execution_count": null,
      "outputs": []
    },
    {
      "cell_type": "code",
      "source": [
        "beta=PintuThakur()"
      ],
      "metadata": {
        "colab": {
          "base_uri": "https://localhost:8080/"
        },
        "id": "qe6Gysxb5wdL",
        "outputId": "6d39977a-2c40-4bcf-d35e-13a2ed8d79ec"
      },
      "execution_count": null,
      "outputs": [
        {
          "output_type": "stream",
          "name": "stdout",
          "text": [
            "Dada: My grandchild will become Austronut\n"
          ]
        }
      ]
    },
    {
      "cell_type": "code",
      "source": [
        "class BhanuPratapSingh:\n",
        "  def __init__(self):\n",
        "    super().__init__()\n",
        "    print(\"Dada: My grandchild will become Austronut\")\n",
        "  def ghar(self):\n",
        "    print(\"I have a house\")\n",
        "\n",
        "class MrsHiraThakur:\n",
        "  def __init__(self):\n",
        "    super().__init__()\n",
        "    print(\"Mom:My son will become Collector on day\")\n",
        "  def collector(self):\n",
        "    print(\"I am the honer of this district \")\n",
        "\n",
        "class HiraThakur:\n",
        "  def __init__(self):\n",
        "    super().__init__()\n",
        "    print(\"Papa: My son will become doctor\")\n",
        "  def Bus(self):\n",
        "    print(\"I have a bus\")\n",
        "  \n",
        "class PintuThakur(HiraThakur,BhanuPratapSingh,MrsHiraThakur):\n",
        "  def __init__(self):\n",
        "    super().__init__()\n",
        "    print(\"Beta will become AI\")\n",
        "\n",
        "beta=PintuThakur()"
      ],
      "metadata": {
        "colab": {
          "base_uri": "https://localhost:8080/"
        },
        "id": "tJguDJah5zsp",
        "outputId": "e6b46ede-f078-4a37-f451-a1a829aa10b2"
      },
      "execution_count": null,
      "outputs": [
        {
          "output_type": "stream",
          "name": "stdout",
          "text": [
            "Mom:My son will become Collector on day\n",
            "Dada: My grandchild will become Austronut\n",
            "Papa: My son will become doctor\n",
            "Beta will become AI\n"
          ]
        }
      ]
    },
    {
      "cell_type": "code",
      "source": [
        "class BhanuPratapSingh:\n",
        "  def __init__(self):\n",
        "    super().__init__()\n",
        "    print(\"Dada: My grandchild will become Austronut\")\n",
        "  def ghar(self):\n",
        "    print(\"I have a house\")\n",
        "\n",
        "class MrsHiraThakur(BhanuPratapSingh):\n",
        "  def __init__(self):\n",
        "    super().__init__()\n",
        "    print(\"Mom:My son will become Collector on day\")\n",
        "  def collector(self):\n",
        "    print(\"I am the honer of this district \")\n",
        "\n",
        "class HiraThakur(MrsHiraThakur):\n",
        "  def __init__(self):\n",
        "    super().__init__()\n",
        "    print(\"Papa: My son will become doctor\")\n",
        "  def Bus(self):\n",
        "    print(\"I have a bus\")\n",
        "  \n",
        "class PintuThakur(HiraThakur):\n",
        "  def __init__(self):\n",
        "    super().__init__()\n",
        "    print(\"Beta will become AI\")\n",
        "\n",
        "beta=PintuThakur()"
      ],
      "metadata": {
        "colab": {
          "base_uri": "https://localhost:8080/"
        },
        "id": "qDn6v4z27aEF",
        "outputId": "566a4e83-f66d-410b-9ca0-a8729ae8ddc9"
      },
      "execution_count": null,
      "outputs": [
        {
          "output_type": "stream",
          "name": "stdout",
          "text": [
            "Dada: My grandchild will become Austronut\n",
            "Mom:My son will become Collector on day\n",
            "Papa: My son will become doctor\n",
            "Beta will become AI\n"
          ]
        }
      ]
    },
    {
      "cell_type": "code",
      "source": [
        "class BhanuPratapSingh:\n",
        "  def __init__(self):\n",
        "    super().__init__()\n",
        "    print(\"Dada: My grandchild will become Austronut\")\n",
        "  def ghar(self):\n",
        "    print(\"I have a house\")\n",
        "\n",
        "class MrsHiraThakur():\n",
        "  def __init__(self):\n",
        "    super().__init__()\n",
        "    print(\"Mom:My son will become Collector on day\")\n",
        "  def collector(self):\n",
        "    print(\"I am the honer of this district \")\n",
        "\n",
        "class HiraThakur():\n",
        "  def __init__(self):\n",
        "    super().__init__()\n",
        "    print(\"Papa: My son will become doctor\")\n",
        "  def Bus(self):\n",
        "    print(\"I have a bus\")\n",
        "  \n",
        "class PintuThakur(MrsHiraThakur):\n",
        "  def __init__(self):\n",
        "    super().__init__()\n",
        "    print(\"Beta will become AI\")\n",
        "\n",
        "\n",
        "Papa=HiraThakur()"
      ],
      "metadata": {
        "colab": {
          "base_uri": "https://localhost:8080/"
        },
        "id": "kHxuUNZS9a3g",
        "outputId": "6bc8cc24-806c-4400-9a3a-1296705974df"
      },
      "execution_count": null,
      "outputs": [
        {
          "output_type": "stream",
          "name": "stdout",
          "text": [
            "Papa: My son will become doctor\n"
          ]
        }
      ]
    },
    {
      "cell_type": "code",
      "source": [
        "class PintuThakur(HiraThakur):\n",
        "  def __init__(self):\n",
        "    super().__init__()\n",
        "    print(\"Beta will become AI\")"
      ],
      "metadata": {
        "id": "OZvG_sq2-RBp",
        "colab": {
          "base_uri": "https://localhost:8080/",
          "height": 217
        },
        "outputId": "19cd04e7-dd22-48c2-abdb-4b3e28b46169"
      },
      "execution_count": null,
      "outputs": [
        {
          "output_type": "error",
          "ename": "NameError",
          "evalue": "ignored",
          "traceback": [
            "\u001b[0;31m---------------------------------------------------------------------------\u001b[0m",
            "\u001b[0;31mNameError\u001b[0m                                 Traceback (most recent call last)",
            "\u001b[0;32m<ipython-input-1-514332be2f62>\u001b[0m in \u001b[0;36m<module>\u001b[0;34m\u001b[0m\n\u001b[0;32m----> 1\u001b[0;31m \u001b[0;32mclass\u001b[0m \u001b[0mPintuThakur\u001b[0m\u001b[0;34m(\u001b[0m\u001b[0mHiraThakur\u001b[0m\u001b[0;34m)\u001b[0m\u001b[0;34m:\u001b[0m\u001b[0;34m\u001b[0m\u001b[0;34m\u001b[0m\u001b[0m\n\u001b[0m\u001b[1;32m      2\u001b[0m   \u001b[0;32mdef\u001b[0m \u001b[0m__init__\u001b[0m\u001b[0;34m(\u001b[0m\u001b[0mself\u001b[0m\u001b[0;34m)\u001b[0m\u001b[0;34m:\u001b[0m\u001b[0;34m\u001b[0m\u001b[0;34m\u001b[0m\u001b[0m\n\u001b[1;32m      3\u001b[0m     \u001b[0msuper\u001b[0m\u001b[0;34m(\u001b[0m\u001b[0;34m)\u001b[0m\u001b[0;34m.\u001b[0m\u001b[0m__init__\u001b[0m\u001b[0;34m(\u001b[0m\u001b[0;34m)\u001b[0m\u001b[0;34m\u001b[0m\u001b[0;34m\u001b[0m\u001b[0m\n\u001b[1;32m      4\u001b[0m     \u001b[0mprint\u001b[0m\u001b[0;34m(\u001b[0m\u001b[0;34m\"Beta will become AI\"\u001b[0m\u001b[0;34m)\u001b[0m\u001b[0;34m\u001b[0m\u001b[0;34m\u001b[0m\u001b[0m\n",
            "\u001b[0;31mNameError\u001b[0m: name 'HiraThakur' is not defined"
          ]
        }
      ]
    },
    {
      "cell_type": "markdown",
      "source": [
        "Polymorphism:\n",
        "\n",
        "  method overloading\n",
        "\n",
        "  method overriding \n",
        "\n",
        "  \n"
      ],
      "metadata": {
        "id": "LmHcIPK86MxJ"
      }
    },
    {
      "cell_type": "code",
      "source": [
        "class sum:\n",
        "  def add(self,a,b,c=0):\n",
        "    print(a+b+c)\n"
      ],
      "metadata": {
        "id": "76iiNyBm6wow"
      },
      "execution_count": null,
      "outputs": []
    },
    {
      "cell_type": "code",
      "source": [
        "a=sum()"
      ],
      "metadata": {
        "id": "twZGDMLv6-FS"
      },
      "execution_count": null,
      "outputs": []
    },
    {
      "cell_type": "code",
      "source": [
        "a.add(2,3)"
      ],
      "metadata": {
        "colab": {
          "base_uri": "https://localhost:8080/"
        },
        "id": "QgGh8oqG6_4Z",
        "outputId": "56a3efb7-7114-4d16-d1c9-e414b35a2de3"
      },
      "execution_count": null,
      "outputs": [
        {
          "output_type": "stream",
          "name": "stdout",
          "text": [
            "5\n"
          ]
        }
      ]
    },
    {
      "cell_type": "code",
      "source": [
        "a.add(2,3,4)"
      ],
      "metadata": {
        "colab": {
          "base_uri": "https://localhost:8080/"
        },
        "id": "-kYV9kRR7CEH",
        "outputId": "8157e0ee-8d0a-4e0c-abb8-42a3dd27a26f"
      },
      "execution_count": null,
      "outputs": [
        {
          "output_type": "stream",
          "name": "stdout",
          "text": [
            "9\n"
          ]
        }
      ]
    },
    {
      "cell_type": "markdown",
      "source": [
        "# abstraction"
      ],
      "metadata": {
        "id": "FfZAARWK7FfN"
      }
    },
    {
      "cell_type": "markdown",
      "source": [
        "# Business analyst  ---> client, PM,PM"
      ],
      "metadata": {
        "id": "zJODGZ4cBNAm"
      }
    },
    {
      "cell_type": "code",
      "source": [
        "from abc import ABC,abstractmethod\n",
        "class ATM(ABC):\n",
        "\n",
        "  @abstractmethod\n",
        "  def change_pin(self):\n",
        "    print(\"Welcome to change pin section:\")\n",
        "  \n",
        "  def balance_update(self):\n",
        "    print(\"Welcome to balance update section:\")\n",
        " "
      ],
      "metadata": {
        "id": "qd7E353PFdek"
      },
      "execution_count": null,
      "outputs": []
    },
    {
      "cell_type": "code",
      "source": [
        "class SBI(ATM):\n",
        "  # def change_pin(self):\n",
        "  #   print(\"here is functional change pin\")\n",
        "  def balance_update(self):\n",
        "    print(\"Here is the functional code\")\n",
        "\n"
      ],
      "metadata": {
        "id": "AvVTz7IuKznL"
      },
      "execution_count": null,
      "outputs": []
    },
    {
      "cell_type": "code",
      "source": [
        "krishna=SBI()"
      ],
      "metadata": {
        "colab": {
          "base_uri": "https://localhost:8080/",
          "height": 165
        },
        "id": "wm8fNDm0K6eV",
        "outputId": "38ff4d23-7545-4e41-eb2c-6fc6354fd403"
      },
      "execution_count": null,
      "outputs": [
        {
          "output_type": "error",
          "ename": "TypeError",
          "evalue": "ignored",
          "traceback": [
            "\u001b[0;31m---------------------------------------------------------------------------\u001b[0m",
            "\u001b[0;31mTypeError\u001b[0m                                 Traceback (most recent call last)",
            "\u001b[0;32m<ipython-input-28-a071a58a32f0>\u001b[0m in \u001b[0;36m<module>\u001b[0;34m\u001b[0m\n\u001b[0;32m----> 1\u001b[0;31m \u001b[0mkrishna\u001b[0m\u001b[0;34m=\u001b[0m\u001b[0mSBI\u001b[0m\u001b[0;34m(\u001b[0m\u001b[0;34m)\u001b[0m\u001b[0;34m\u001b[0m\u001b[0;34m\u001b[0m\u001b[0m\n\u001b[0m",
            "\u001b[0;31mTypeError\u001b[0m: Can't instantiate abstract class SBI with abstract methods change_pin"
          ]
        }
      ]
    },
    {
      "cell_type": "markdown",
      "source": [
        "# Python Iterators"
      ],
      "metadata": {
        "id": "SMdktgNfMC5w"
      }
    },
    {
      "cell_type": "code",
      "source": [
        "a=\"krishna\""
      ],
      "metadata": {
        "id": "btXqPxY8My-D"
      },
      "execution_count": null,
      "outputs": []
    },
    {
      "cell_type": "code",
      "source": [
        "b=[1,2,3]"
      ],
      "metadata": {
        "id": "gva5NPNLN2V9"
      },
      "execution_count": null,
      "outputs": []
    },
    {
      "cell_type": "code",
      "source": [
        "c={1,2,3}"
      ],
      "metadata": {
        "id": "dyriJH71OT6-"
      },
      "execution_count": null,
      "outputs": []
    },
    {
      "cell_type": "code",
      "source": [
        "d=(1,2,3)"
      ],
      "metadata": {
        "id": "gkxTTuapN5HS"
      },
      "execution_count": null,
      "outputs": []
    },
    {
      "cell_type": "code",
      "source": [
        "dir(d)"
      ],
      "metadata": {
        "colab": {
          "base_uri": "https://localhost:8080/",
          "height": 167
        },
        "id": "wMN5X0w8OKyT",
        "outputId": "8aeb101a-b4ea-4a77-d149-a28f2ad7d5b3"
      },
      "execution_count": null,
      "outputs": [
        {
          "output_type": "error",
          "ename": "NameError",
          "evalue": "ignored",
          "traceback": [
            "\u001b[0;31m---------------------------------------------------------------------------\u001b[0m",
            "\u001b[0;31mNameError\u001b[0m                                 Traceback (most recent call last)",
            "\u001b[0;32m<ipython-input-1-b1f3d06f65c6>\u001b[0m in \u001b[0;36m<module>\u001b[0;34m\u001b[0m\n\u001b[0;32m----> 1\u001b[0;31m \u001b[0mdir\u001b[0m\u001b[0;34m(\u001b[0m\u001b[0md\u001b[0m\u001b[0;34m)\u001b[0m\u001b[0;34m\u001b[0m\u001b[0;34m\u001b[0m\u001b[0m\n\u001b[0m",
            "\u001b[0;31mNameError\u001b[0m: name 'd' is not defined"
          ]
        }
      ]
    },
    {
      "cell_type": "markdown",
      "source": [
        "\n",
        "#iterator\n",
        "#iterable \n",
        "#iterate"
      ],
      "metadata": {
        "id": "iCnLy4PEOyOD"
      }
    },
    {
      "cell_type": "markdown",
      "source": [
        "# What is iterable?"
      ],
      "metadata": {
        "id": "yt8rPu47xVXu"
      }
    },
    {
      "cell_type": "markdown",
      "source": [
        "# a datatype which contain \\__iter__\\() is called iterable"
      ],
      "metadata": {
        "id": "XU7nqmHkxh1T"
      }
    },
    {
      "cell_type": "code",
      "source": [
        "a=(1,2,3,4)     #iterable  \n",
        "for i in a:\n",
        "  print(i)"
      ],
      "metadata": {
        "colab": {
          "base_uri": "https://localhost:8080/"
        },
        "id": "qdmjHOANxvFL",
        "outputId": "cc5659c3-91fa-4ab0-b972-e0340002c3f9"
      },
      "execution_count": null,
      "outputs": [
        {
          "output_type": "stream",
          "name": "stdout",
          "text": [
            "1\n",
            "2\n",
            "3\n",
            "4\n"
          ]
        }
      ]
    },
    {
      "cell_type": "code",
      "source": [
        "# iterator  # for loop and while loop\n",
        "\n",
        "class Meraforloop:\n",
        "  def __iter__(self):\n",
        "    self.a=0\n",
        "    return self\n",
        "  \n",
        "  def __next__(self):\n",
        "    x=self.a\n",
        "    self.a=self.a+1\n",
        "    return x\n",
        "\n",
        "obj=Meraforloop()\n",
        "iterate=iter(obj)\n",
        "print(next(iterate))\n",
        "print(next(iterate))\n",
        "print(next(iterate))"
      ],
      "metadata": {
        "colab": {
          "base_uri": "https://localhost:8080/"
        },
        "id": "OYUzkx62yQoE",
        "outputId": "fc3ef6ca-e68a-475e-96d2-5cfaf1080a01"
      },
      "execution_count": null,
      "outputs": [
        {
          "output_type": "stream",
          "name": "stdout",
          "text": [
            "0\n",
            "1\n",
            "2\n"
          ]
        }
      ]
    },
    {
      "cell_type": "code",
      "source": [
        "a=(1,2,3) # iterable    # __iter__()\n",
        "for i in a: # iterator  # __iter__() and __next__()\n",
        "  print(i)  # iterate  \n"
      ],
      "metadata": {
        "id": "MauA5WWoziV0",
        "colab": {
          "base_uri": "https://localhost:8080/"
        },
        "outputId": "f055eddf-edae-4ddc-aaa9-748c4ad3853d"
      },
      "execution_count": null,
      "outputs": [
        {
          "output_type": "stream",
          "name": "stdout",
          "text": [
            "1\n",
            "2\n",
            "3\n"
          ]
        }
      ]
    },
    {
      "cell_type": "markdown",
      "source": [
        "# generator"
      ],
      "metadata": {
        "id": "h3WCO0WX2i9-"
      }
    },
    {
      "cell_type": "code",
      "source": [
        "for i in a:\n",
        "  yield(i)"
      ],
      "metadata": {
        "colab": {
          "base_uri": "https://localhost:8080/",
          "height": 132
        },
        "id": "ervlNe7z3RJr",
        "outputId": "ac744cb9-bc43-4c74-a65a-f1227b91e545"
      },
      "execution_count": null,
      "outputs": [
        {
          "output_type": "error",
          "ename": "SyntaxError",
          "evalue": "ignored",
          "traceback": [
            "\u001b[0;36m  File \u001b[0;32m\"<ipython-input-17-307ea0ec5f40>\"\u001b[0;36m, line \u001b[0;32m2\u001b[0m\n\u001b[0;31m    yield(i)\u001b[0m\n\u001b[0m    ^\u001b[0m\n\u001b[0;31mSyntaxError\u001b[0m\u001b[0;31m:\u001b[0m 'yield' outside function\n"
          ]
        }
      ]
    },
    {
      "cell_type": "code",
      "source": [
        "def abc(a):\n",
        "  for i in a:\n",
        "    yield i\n"
      ],
      "metadata": {
        "id": "f092JUYe3ZtJ"
      },
      "execution_count": null,
      "outputs": []
    },
    {
      "cell_type": "code",
      "source": [
        "a=(1,2,3)"
      ],
      "metadata": {
        "id": "rwFJUV393pyj"
      },
      "execution_count": null,
      "outputs": []
    },
    {
      "cell_type": "code",
      "source": [
        "abc(a)"
      ],
      "metadata": {
        "colab": {
          "base_uri": "https://localhost:8080/"
        },
        "id": "cPCu4uVe3sNJ",
        "outputId": "bb5d8513-e016-440a-b14f-dd701db26eb4"
      },
      "execution_count": null,
      "outputs": [
        {
          "output_type": "execute_result",
          "data": {
            "text/plain": [
              "<generator object abc at 0x7f89520adc50>"
            ]
          },
          "metadata": {},
          "execution_count": 28
        }
      ]
    },
    {
      "cell_type": "code",
      "source": [
        "a=\"this is krishna\"\n"
      ],
      "metadata": {
        "id": "iR0kIUur3uhq"
      },
      "execution_count": null,
      "outputs": []
    },
    {
      "cell_type": "code",
      "source": [
        "for i in a:\n",
        "  a=\"\"\n",
        "  if i==\" \":\n",
        "    a+=\",\"\n",
        "    continue\n",
        "  a+=i\n",
        "  print(a)"
      ],
      "metadata": {
        "colab": {
          "base_uri": "https://localhost:8080/"
        },
        "id": "_qQrDxXe5n_8",
        "outputId": "bfa46025-bdf5-4e5a-c922-66ddca3c7802"
      },
      "execution_count": null,
      "outputs": [
        {
          "output_type": "stream",
          "name": "stdout",
          "text": [
            "t\n",
            "h\n",
            "i\n",
            "s\n",
            "i\n",
            "s\n",
            "k\n",
            "r\n",
            "i\n",
            "s\n",
            "h\n",
            "n\n",
            "a\n"
          ]
        }
      ]
    },
    {
      "cell_type": "code",
      "source": [
        "import nltk"
      ],
      "metadata": {
        "id": "tTvrfnVh59Bq"
      },
      "execution_count": null,
      "outputs": []
    },
    {
      "cell_type": "code",
      "source": [
        "from nltk.tokenize import word_tokenize\n",
        "a=\"this is krishna\"\n",
        "word_tokenize(a)"
      ],
      "metadata": {
        "colab": {
          "base_uri": "https://localhost:8080/",
          "height": 729
        },
        "id": "Utom5c_v6hNr",
        "outputId": "ff5fb6f8-e00e-41f0-d1e9-605ede225dac"
      },
      "execution_count": null,
      "outputs": [
        {
          "output_type": "error",
          "ename": "LookupError",
          "evalue": "ignored",
          "traceback": [
            "\u001b[0;31m---------------------------------------------------------------------------\u001b[0m",
            "\u001b[0;31mLookupError\u001b[0m                               Traceback (most recent call last)",
            "\u001b[0;32m<ipython-input-39-e8b3cf7b852e>\u001b[0m in \u001b[0;36m<module>\u001b[0;34m\u001b[0m\n\u001b[1;32m      1\u001b[0m \u001b[0;32mfrom\u001b[0m \u001b[0mnltk\u001b[0m\u001b[0;34m.\u001b[0m\u001b[0mtokenize\u001b[0m \u001b[0;32mimport\u001b[0m \u001b[0mword_tokenize\u001b[0m\u001b[0;34m\u001b[0m\u001b[0;34m\u001b[0m\u001b[0m\n\u001b[1;32m      2\u001b[0m \u001b[0ma\u001b[0m\u001b[0;34m=\u001b[0m\u001b[0;34m\"this is krishna\"\u001b[0m\u001b[0;34m\u001b[0m\u001b[0;34m\u001b[0m\u001b[0m\n\u001b[0;32m----> 3\u001b[0;31m \u001b[0mword_tokenize\u001b[0m\u001b[0;34m(\u001b[0m\u001b[0ma\u001b[0m\u001b[0;34m)\u001b[0m\u001b[0;34m\u001b[0m\u001b[0;34m\u001b[0m\u001b[0m\n\u001b[0m",
            "\u001b[0;32m/usr/local/lib/python3.7/dist-packages/nltk/tokenize/__init__.py\u001b[0m in \u001b[0;36mword_tokenize\u001b[0;34m(text, language, preserve_line)\u001b[0m\n\u001b[1;32m    127\u001b[0m     \u001b[0;34m:\u001b[0m\u001b[0mtype\u001b[0m \u001b[0mpreserve_line\u001b[0m\u001b[0;34m:\u001b[0m \u001b[0mbool\u001b[0m\u001b[0;34m\u001b[0m\u001b[0;34m\u001b[0m\u001b[0m\n\u001b[1;32m    128\u001b[0m     \"\"\"\n\u001b[0;32m--> 129\u001b[0;31m     \u001b[0msentences\u001b[0m \u001b[0;34m=\u001b[0m \u001b[0;34m[\u001b[0m\u001b[0mtext\u001b[0m\u001b[0;34m]\u001b[0m \u001b[0;32mif\u001b[0m \u001b[0mpreserve_line\u001b[0m \u001b[0;32melse\u001b[0m \u001b[0msent_tokenize\u001b[0m\u001b[0;34m(\u001b[0m\u001b[0mtext\u001b[0m\u001b[0;34m,\u001b[0m \u001b[0mlanguage\u001b[0m\u001b[0;34m)\u001b[0m\u001b[0;34m\u001b[0m\u001b[0;34m\u001b[0m\u001b[0m\n\u001b[0m\u001b[1;32m    130\u001b[0m     return [\n\u001b[1;32m    131\u001b[0m         \u001b[0mtoken\u001b[0m \u001b[0;32mfor\u001b[0m \u001b[0msent\u001b[0m \u001b[0;32min\u001b[0m \u001b[0msentences\u001b[0m \u001b[0;32mfor\u001b[0m \u001b[0mtoken\u001b[0m \u001b[0;32min\u001b[0m \u001b[0m_treebank_word_tokenizer\u001b[0m\u001b[0;34m.\u001b[0m\u001b[0mtokenize\u001b[0m\u001b[0;34m(\u001b[0m\u001b[0msent\u001b[0m\u001b[0;34m)\u001b[0m\u001b[0;34m\u001b[0m\u001b[0;34m\u001b[0m\u001b[0m\n",
            "\u001b[0;32m/usr/local/lib/python3.7/dist-packages/nltk/tokenize/__init__.py\u001b[0m in \u001b[0;36msent_tokenize\u001b[0;34m(text, language)\u001b[0m\n\u001b[1;32m    104\u001b[0m     \u001b[0;34m:\u001b[0m\u001b[0mparam\u001b[0m \u001b[0mlanguage\u001b[0m\u001b[0;34m:\u001b[0m \u001b[0mthe\u001b[0m \u001b[0mmodel\u001b[0m \u001b[0mname\u001b[0m \u001b[0;32min\u001b[0m \u001b[0mthe\u001b[0m \u001b[0mPunkt\u001b[0m \u001b[0mcorpus\u001b[0m\u001b[0;34m\u001b[0m\u001b[0;34m\u001b[0m\u001b[0m\n\u001b[1;32m    105\u001b[0m     \"\"\"\n\u001b[0;32m--> 106\u001b[0;31m     \u001b[0mtokenizer\u001b[0m \u001b[0;34m=\u001b[0m \u001b[0mload\u001b[0m\u001b[0;34m(\u001b[0m\u001b[0;34mf\"tokenizers/punkt/{language}.pickle\"\u001b[0m\u001b[0;34m)\u001b[0m\u001b[0;34m\u001b[0m\u001b[0;34m\u001b[0m\u001b[0m\n\u001b[0m\u001b[1;32m    107\u001b[0m     \u001b[0;32mreturn\u001b[0m \u001b[0mtokenizer\u001b[0m\u001b[0;34m.\u001b[0m\u001b[0mtokenize\u001b[0m\u001b[0;34m(\u001b[0m\u001b[0mtext\u001b[0m\u001b[0;34m)\u001b[0m\u001b[0;34m\u001b[0m\u001b[0;34m\u001b[0m\u001b[0m\n\u001b[1;32m    108\u001b[0m \u001b[0;34m\u001b[0m\u001b[0m\n",
            "\u001b[0;32m/usr/local/lib/python3.7/dist-packages/nltk/data.py\u001b[0m in \u001b[0;36mload\u001b[0;34m(resource_url, format, cache, verbose, logic_parser, fstruct_reader, encoding)\u001b[0m\n\u001b[1;32m    748\u001b[0m \u001b[0;34m\u001b[0m\u001b[0m\n\u001b[1;32m    749\u001b[0m     \u001b[0;31m# Load the resource.\u001b[0m\u001b[0;34m\u001b[0m\u001b[0;34m\u001b[0m\u001b[0;34m\u001b[0m\u001b[0m\n\u001b[0;32m--> 750\u001b[0;31m     \u001b[0mopened_resource\u001b[0m \u001b[0;34m=\u001b[0m \u001b[0m_open\u001b[0m\u001b[0;34m(\u001b[0m\u001b[0mresource_url\u001b[0m\u001b[0;34m)\u001b[0m\u001b[0;34m\u001b[0m\u001b[0;34m\u001b[0m\u001b[0m\n\u001b[0m\u001b[1;32m    751\u001b[0m \u001b[0;34m\u001b[0m\u001b[0m\n\u001b[1;32m    752\u001b[0m     \u001b[0;32mif\u001b[0m \u001b[0mformat\u001b[0m \u001b[0;34m==\u001b[0m \u001b[0;34m\"raw\"\u001b[0m\u001b[0;34m:\u001b[0m\u001b[0;34m\u001b[0m\u001b[0;34m\u001b[0m\u001b[0m\n",
            "\u001b[0;32m/usr/local/lib/python3.7/dist-packages/nltk/data.py\u001b[0m in \u001b[0;36m_open\u001b[0;34m(resource_url)\u001b[0m\n\u001b[1;32m    874\u001b[0m \u001b[0;34m\u001b[0m\u001b[0m\n\u001b[1;32m    875\u001b[0m     \u001b[0;32mif\u001b[0m \u001b[0mprotocol\u001b[0m \u001b[0;32mis\u001b[0m \u001b[0;32mNone\u001b[0m \u001b[0;32mor\u001b[0m \u001b[0mprotocol\u001b[0m\u001b[0;34m.\u001b[0m\u001b[0mlower\u001b[0m\u001b[0;34m(\u001b[0m\u001b[0;34m)\u001b[0m \u001b[0;34m==\u001b[0m \u001b[0;34m\"nltk\"\u001b[0m\u001b[0;34m:\u001b[0m\u001b[0;34m\u001b[0m\u001b[0;34m\u001b[0m\u001b[0m\n\u001b[0;32m--> 876\u001b[0;31m         \u001b[0;32mreturn\u001b[0m \u001b[0mfind\u001b[0m\u001b[0;34m(\u001b[0m\u001b[0mpath_\u001b[0m\u001b[0;34m,\u001b[0m \u001b[0mpath\u001b[0m \u001b[0;34m+\u001b[0m \u001b[0;34m[\u001b[0m\u001b[0;34m\"\"\u001b[0m\u001b[0;34m]\u001b[0m\u001b[0;34m)\u001b[0m\u001b[0;34m.\u001b[0m\u001b[0mopen\u001b[0m\u001b[0;34m(\u001b[0m\u001b[0;34m)\u001b[0m\u001b[0;34m\u001b[0m\u001b[0;34m\u001b[0m\u001b[0m\n\u001b[0m\u001b[1;32m    877\u001b[0m     \u001b[0;32melif\u001b[0m \u001b[0mprotocol\u001b[0m\u001b[0;34m.\u001b[0m\u001b[0mlower\u001b[0m\u001b[0;34m(\u001b[0m\u001b[0;34m)\u001b[0m \u001b[0;34m==\u001b[0m \u001b[0;34m\"file\"\u001b[0m\u001b[0;34m:\u001b[0m\u001b[0;34m\u001b[0m\u001b[0;34m\u001b[0m\u001b[0m\n\u001b[1;32m    878\u001b[0m         \u001b[0;31m# urllib might not use mode='rb', so handle this one ourselves:\u001b[0m\u001b[0;34m\u001b[0m\u001b[0;34m\u001b[0m\u001b[0;34m\u001b[0m\u001b[0m\n",
            "\u001b[0;32m/usr/local/lib/python3.7/dist-packages/nltk/data.py\u001b[0m in \u001b[0;36mfind\u001b[0;34m(resource_name, paths)\u001b[0m\n\u001b[1;32m    581\u001b[0m     \u001b[0msep\u001b[0m \u001b[0;34m=\u001b[0m \u001b[0;34m\"*\"\u001b[0m \u001b[0;34m*\u001b[0m \u001b[0;36m70\u001b[0m\u001b[0;34m\u001b[0m\u001b[0;34m\u001b[0m\u001b[0m\n\u001b[1;32m    582\u001b[0m     \u001b[0mresource_not_found\u001b[0m \u001b[0;34m=\u001b[0m \u001b[0;34mf\"\\n{sep}\\n{msg}\\n{sep}\\n\"\u001b[0m\u001b[0;34m\u001b[0m\u001b[0;34m\u001b[0m\u001b[0m\n\u001b[0;32m--> 583\u001b[0;31m     \u001b[0;32mraise\u001b[0m \u001b[0mLookupError\u001b[0m\u001b[0;34m(\u001b[0m\u001b[0mresource_not_found\u001b[0m\u001b[0;34m)\u001b[0m\u001b[0;34m\u001b[0m\u001b[0;34m\u001b[0m\u001b[0m\n\u001b[0m\u001b[1;32m    584\u001b[0m \u001b[0;34m\u001b[0m\u001b[0m\n\u001b[1;32m    585\u001b[0m \u001b[0;34m\u001b[0m\u001b[0m\n",
            "\u001b[0;31mLookupError\u001b[0m: \n**********************************************************************\n  Resource \u001b[93mpunkt\u001b[0m not found.\n  Please use the NLTK Downloader to obtain the resource:\n\n  \u001b[31m>>> import nltk\n  >>> nltk.download('punkt')\n  \u001b[0m\n  For more information see: https://www.nltk.org/data.html\n\n  Attempted to load \u001b[93mtokenizers/punkt/PY3/english.pickle\u001b[0m\n\n  Searched in:\n    - '/root/nltk_data'\n    - '/usr/nltk_data'\n    - '/usr/share/nltk_data'\n    - '/usr/lib/nltk_data'\n    - '/usr/share/nltk_data'\n    - '/usr/local/share/nltk_data'\n    - '/usr/lib/nltk_data'\n    - '/usr/local/lib/nltk_data'\n    - ''\n**********************************************************************\n"
          ]
        }
      ]
    },
    {
      "cell_type": "code",
      "source": [
        "a=10\n",
        "b=20\n",
        "print(a+b)"
      ],
      "metadata": {
        "colab": {
          "base_uri": "https://localhost:8080/"
        },
        "id": "OVV6KsIg6osK",
        "outputId": "c78d62c8-426b-452b-ece7-1d24a114b81c"
      },
      "execution_count": null,
      "outputs": [
        {
          "output_type": "stream",
          "name": "stdout",
          "text": [
            "30\n"
          ]
        }
      ]
    },
    {
      "cell_type": "code",
      "source": [
        "def sum():\n",
        "  print(a+b)"
      ],
      "metadata": {
        "id": "9orvMYQw7ts6"
      },
      "execution_count": null,
      "outputs": []
    },
    {
      "cell_type": "code",
      "source": [
        "sum()"
      ],
      "metadata": {
        "colab": {
          "base_uri": "https://localhost:8080/"
        },
        "id": "SGapUBvC8XOv",
        "outputId": "b1c516fc-0546-40b6-9fa1-704cf5ebeec2"
      },
      "execution_count": null,
      "outputs": [
        {
          "output_type": "stream",
          "name": "stdout",
          "text": [
            "30\n"
          ]
        }
      ]
    },
    {
      "cell_type": "code",
      "source": [
        "def sum2():\n",
        "  global a,b\n",
        "  a=20    # local scope\n",
        "  b=30\n",
        "  print(a+b)   # 50"
      ],
      "metadata": {
        "id": "o5Wx-X6Y8YJL"
      },
      "execution_count": null,
      "outputs": []
    },
    {
      "cell_type": "code",
      "source": [
        "sum2()"
      ],
      "metadata": {
        "colab": {
          "base_uri": "https://localhost:8080/"
        },
        "id": "6-2yj28A8ebb",
        "outputId": "7221ed4b-5165-42ac-aaab-669b2c5efb9c"
      },
      "execution_count": null,
      "outputs": [
        {
          "output_type": "stream",
          "name": "stdout",
          "text": [
            "50\n"
          ]
        }
      ]
    },
    {
      "cell_type": "code",
      "source": [
        "a"
      ],
      "metadata": {
        "colab": {
          "base_uri": "https://localhost:8080/"
        },
        "id": "QBXBWgi28kTy",
        "outputId": "86d19bb8-640a-48c6-b05a-5d2a5c88d810"
      },
      "execution_count": null,
      "outputs": [
        {
          "output_type": "execute_result",
          "data": {
            "text/plain": [
              "20"
            ]
          },
          "metadata": {},
          "execution_count": 55
        }
      ]
    },
    {
      "cell_type": "code",
      "source": [
        "b"
      ],
      "metadata": {
        "colab": {
          "base_uri": "https://localhost:8080/"
        },
        "id": "5BVNGkNg8fPb",
        "outputId": "eaf170af-6624-4d93-d8f0-b2282975d78b"
      },
      "execution_count": null,
      "outputs": [
        {
          "output_type": "execute_result",
          "data": {
            "text/plain": [
              "30"
            ]
          },
          "metadata": {},
          "execution_count": 56
        }
      ]
    },
    {
      "cell_type": "code",
      "source": [
        "def wrd(an):\n",
        "    emp_list=[]\n",
        "    buffer=\"\"\n",
        "    count=0\n",
        "    for i in an:\n",
        "        if count<len(an):\n",
        "            if i!=\" \":\n",
        "                buffer+=i\n",
        "                count+=1\n",
        "            else:\n",
        "                emp_list.append(buffer)\n",
        "                buffer=\"\"\n",
        "                count+=1\n",
        "                \n",
        "        else:\n",
        "            buffer+=i\n",
        "            emp_list.append(buffer)\n",
        "    return emp_list"
      ],
      "metadata": {
        "id": "JwxSPWCm8mRN"
      },
      "execution_count": null,
      "outputs": []
    },
    {
      "cell_type": "code",
      "source": [
        "a=\"this is krishna this is Madhav\""
      ],
      "metadata": {
        "id": "C6_h-gE3Ra4t"
      },
      "execution_count": null,
      "outputs": []
    },
    {
      "cell_type": "code",
      "source": [
        "cont=[]\n",
        "st=\"\"\n",
        "for i in a:\n",
        "  if i ==\" \":\n",
        "      cont.append(st)\n",
        "      st=\"\"\n",
        "  st+=i\n",
        "else:\n",
        "  cont.append(st)\n",
        "print(cont)      \n"
      ],
      "metadata": {
        "colab": {
          "base_uri": "https://localhost:8080/"
        },
        "id": "eEI1zKFnRk-0",
        "outputId": "045688ba-88cc-48d8-d9d7-5b164573d441"
      },
      "execution_count": null,
      "outputs": [
        {
          "output_type": "stream",
          "name": "stdout",
          "text": [
            "['this', ' is', ' krishna', ' this', ' is', ' Madhav']\n"
          ]
        }
      ]
    },
    {
      "cell_type": "code",
      "source": [
        "def spliter(doc):\n",
        "  cont=[]\n",
        "  st=\"\"\n",
        "  for i in doc:\n",
        "    if i ==\" \":\n",
        "      cont.append(st)\n",
        "      st=\"\"\n",
        "    st+=i\n",
        "  else:\n",
        "    cont.append(st)\n",
        "  print(cont) "
      ],
      "metadata": {
        "id": "B3hTwNZYSdIU"
      },
      "execution_count": null,
      "outputs": []
    },
    {
      "cell_type": "code",
      "source": [
        "spliter(\"this is krishna\")"
      ],
      "metadata": {
        "colab": {
          "base_uri": "https://localhost:8080/"
        },
        "id": "sASkG1m3V17R",
        "outputId": "e09b47f3-ff8c-4e11-95a4-f066d5a4b3ad"
      },
      "execution_count": null,
      "outputs": [
        {
          "output_type": "stream",
          "name": "stdout",
          "text": [
            "['this', ' is', ' krishna']\n"
          ]
        }
      ]
    },
    {
      "cell_type": "code",
      "source": [
        "a=\"F343ood, is awesome\"\n",
        "import re\n",
        "re.sub(\"[^a-z A-Z 0-9 ,]\",\"\",a)"
      ],
      "metadata": {
        "id": "I6-RHJhPV3v1",
        "colab": {
          "base_uri": "https://localhost:8080/",
          "height": 36
        },
        "outputId": "5c986904-22cc-4c95-c7c3-f06e460ad0e3"
      },
      "execution_count": null,
      "outputs": [
        {
          "output_type": "execute_result",
          "data": {
            "text/plain": [
              "'F343ood, is awesome'"
            ],
            "application/vnd.google.colaboratory.intrinsic+json": {
              "type": "string"
            }
          },
          "metadata": {},
          "execution_count": 11
        }
      ]
    },
    {
      "cell_type": "code",
      "source": [
        "for i in a:\n",
        "  a=\"\"\n",
        "  re.sub(\"[^a-z ]\",\"\",a)\n",
        "  a+=i\n",
        "  print(a) "
      ],
      "metadata": {
        "colab": {
          "base_uri": "https://localhost:8080/"
        },
        "id": "GKa7sXSV7uur",
        "outputId": "03226d9b-c25d-41b4-a8ae-7102391926f5"
      },
      "execution_count": null,
      "outputs": [
        {
          "output_type": "stream",
          "name": "stdout",
          "text": [
            "f\n",
            "3\n",
            "4\n",
            "3\n",
            "o\n",
            "o\n",
            "d\n",
            " \n",
            "i\n",
            "s\n",
            " \n",
            "a\n",
            "w\n",
            "e\n",
            "s\n",
            "o\n",
            "m\n",
            "e\n"
          ]
        }
      ]
    },
    {
      "cell_type": "code",
      "source": [
        "try:\n",
        "  a=10\n",
        "  b=\"krishna\"\n",
        "\n",
        "  print(a/b)\n",
        "except:\n",
        "  print(\"Okay you are unable to divide number with string\")\n",
        "\n",
        "finally:\n",
        "  print(\"Bye\")"
      ],
      "metadata": {
        "colab": {
          "base_uri": "https://localhost:8080/"
        },
        "id": "nkqwsoKQ8KXP",
        "outputId": "5d1a8304-45ff-4a23-dc48-4db62df8eb34"
      },
      "execution_count": null,
      "outputs": [
        {
          "output_type": "stream",
          "name": "stdout",
          "text": [
            "Okay you are unable to divide number with string\n",
            "Bye\n"
          ]
        }
      ]
    },
    {
      "cell_type": "code",
      "source": [
        "try:\n",
        "  a=10\n",
        "  b=10\n",
        "\n",
        "  print(a/b)\n",
        "except:\n",
        "  print(\"Okay you are unable to divide number with string\")\n",
        "\n",
        "finally:\n",
        "  print(\"Bye\")\n",
        "  "
      ],
      "metadata": {
        "colab": {
          "base_uri": "https://localhost:8080/"
        },
        "id": "s-nfVENv9zMu",
        "outputId": "20386176-3834-4c5d-ba06-58f0d6128e41"
      },
      "execution_count": null,
      "outputs": [
        {
          "output_type": "stream",
          "name": "stdout",
          "text": [
            "1.0\n",
            "Bye\n"
          ]
        }
      ]
    },
    {
      "cell_type": "code",
      "source": [
        "a=10\n",
        "b=0\n",
        "\n",
        "print(a/b)\n"
      ],
      "metadata": {
        "colab": {
          "base_uri": "https://localhost:8080/",
          "height": 200
        },
        "id": "ZOAIaiPb_H4u",
        "outputId": "d953241d-16ee-40cc-fc4e-c78820984204"
      },
      "execution_count": null,
      "outputs": [
        {
          "output_type": "error",
          "ename": "ZeroDivisionError",
          "evalue": "ignored",
          "traceback": [
            "\u001b[0;31m---------------------------------------------------------------------------\u001b[0m",
            "\u001b[0;31mZeroDivisionError\u001b[0m                         Traceback (most recent call last)",
            "\u001b[0;32m<ipython-input-22-55e6c80c134f>\u001b[0m in \u001b[0;36m<module>\u001b[0;34m\u001b[0m\n\u001b[1;32m      2\u001b[0m \u001b[0mb\u001b[0m\u001b[0;34m=\u001b[0m\u001b[0;36m0\u001b[0m\u001b[0;34m\u001b[0m\u001b[0;34m\u001b[0m\u001b[0m\n\u001b[1;32m      3\u001b[0m \u001b[0;34m\u001b[0m\u001b[0m\n\u001b[0;32m----> 4\u001b[0;31m \u001b[0mprint\u001b[0m\u001b[0;34m(\u001b[0m\u001b[0ma\u001b[0m\u001b[0;34m/\u001b[0m\u001b[0mb\u001b[0m\u001b[0;34m)\u001b[0m\u001b[0;34m\u001b[0m\u001b[0;34m\u001b[0m\u001b[0m\n\u001b[0m",
            "\u001b[0;31mZeroDivisionError\u001b[0m: division by zero"
          ]
        }
      ]
    },
    {
      "cell_type": "code",
      "source": [
        "try:\n",
        "  a=input(\"Enter number:\")\n",
        "  b=20\n",
        "\n",
        "  print(a/b)\n",
        "except ZeroDivisionError:\n",
        "  print(\"Division by zero is not possible\")\n",
        "\n",
        "finally:\n",
        "  print(\"Bye\")"
      ],
      "metadata": {
        "colab": {
          "base_uri": "https://localhost:8080/",
          "height": 269
        },
        "id": "z3LiIvux_cdf",
        "outputId": "78de0c80-9853-4577-8114-236379082928"
      },
      "execution_count": null,
      "outputs": [
        {
          "output_type": "stream",
          "name": "stdout",
          "text": [
            "Enter number:\n",
            "Bye\n"
          ]
        },
        {
          "output_type": "error",
          "ename": "TypeError",
          "evalue": "ignored",
          "traceback": [
            "\u001b[0;31m---------------------------------------------------------------------------\u001b[0m",
            "\u001b[0;31mTypeError\u001b[0m                                 Traceback (most recent call last)",
            "\u001b[0;32m<ipython-input-27-5bdc7e900f03>\u001b[0m in \u001b[0;36m<module>\u001b[0;34m\u001b[0m\n\u001b[1;32m      3\u001b[0m   \u001b[0mb\u001b[0m\u001b[0;34m=\u001b[0m\u001b[0;36m20\u001b[0m\u001b[0;34m\u001b[0m\u001b[0;34m\u001b[0m\u001b[0m\n\u001b[1;32m      4\u001b[0m \u001b[0;34m\u001b[0m\u001b[0m\n\u001b[0;32m----> 5\u001b[0;31m   \u001b[0mprint\u001b[0m\u001b[0;34m(\u001b[0m\u001b[0ma\u001b[0m\u001b[0;34m/\u001b[0m\u001b[0mb\u001b[0m\u001b[0;34m)\u001b[0m\u001b[0;34m\u001b[0m\u001b[0;34m\u001b[0m\u001b[0m\n\u001b[0m\u001b[1;32m      6\u001b[0m \u001b[0;32mexcept\u001b[0m \u001b[0mZeroDivisionError\u001b[0m\u001b[0;34m:\u001b[0m\u001b[0;34m\u001b[0m\u001b[0;34m\u001b[0m\u001b[0m\n\u001b[1;32m      7\u001b[0m   \u001b[0mprint\u001b[0m\u001b[0;34m(\u001b[0m\u001b[0;34m\"Division by zero is not possible\"\u001b[0m\u001b[0;34m)\u001b[0m\u001b[0;34m\u001b[0m\u001b[0;34m\u001b[0m\u001b[0m\n",
            "\u001b[0;31mTypeError\u001b[0m: unsupported operand type(s) for /: 'str' and 'int'"
          ]
        }
      ]
    },
    {
      "cell_type": "code",
      "source": [
        "try:\n",
        "  a=10\n",
        "  b=\"Krishna\"\n",
        "\n",
        "  print(a/b)\n",
        "except ZeroDivisionError:\n",
        "  print(\"Division by zero is not possible\")\n",
        "except TypeError:\n",
        "  print(\"int is not divisible by string\")\n",
        "\n",
        "finally:\n",
        "  print(\"Bye\")"
      ],
      "metadata": {
        "colab": {
          "base_uri": "https://localhost:8080/"
        },
        "id": "DSQ3G0lm_nOu",
        "outputId": "d2f23f6f-e2e9-405d-b7a2-8e812e3d82e8"
      },
      "execution_count": null,
      "outputs": [
        {
          "output_type": "stream",
          "name": "stdout",
          "text": [
            "int is not divisible by string\n",
            "Bye\n"
          ]
        }
      ]
    },
    {
      "cell_type": "code",
      "source": [
        "try: \n",
        "  a=int(input(\"Enter number:\"))\n",
        "  b=10\n",
        "  # raise Exception(\"10 is not acceptable\")\n",
        "\n",
        "  print(a/b)\n",
        "# except ZeroDivisionError:\n",
        "#   print(\"Division by zero is not possible\")\n",
        "except TypeError:\n",
        "  print(\"int is not divisible by string\")\n",
        "except Exception as e:\n",
        "  print(\"Sorry sir this is an Error use something else\")\n",
        "\n",
        "finally:\n",
        "  print(\"Bye\")"
      ],
      "metadata": {
        "colab": {
          "base_uri": "https://localhost:8080/"
        },
        "id": "ROshclxpBLLA",
        "outputId": "35fffa21-84a9-4c46-fd46-b63fb9911756"
      },
      "execution_count": null,
      "outputs": [
        {
          "output_type": "stream",
          "name": "stdout",
          "text": [
            "Enter number:10\n",
            "1.0\n",
            "Bye\n"
          ]
        }
      ]
    },
    {
      "cell_type": "code",
      "source": [
        "try:\n",
        "  pin=int(input(\"Enter your pin:\"))\n",
        "  if pin<0:\n",
        "    raise Exception(\"Sorry pin is not valid\")\n",
        "\n",
        "finally:\n",
        "  print('Bye')\n"
      ],
      "metadata": {
        "colab": {
          "base_uri": "https://localhost:8080/",
          "height": 269
        },
        "id": "tw_Zxyd1Bvrf",
        "outputId": "068ce84e-36a4-40c7-adea-7a3a12aa0aac"
      },
      "execution_count": null,
      "outputs": [
        {
          "output_type": "stream",
          "name": "stdout",
          "text": [
            "Enter your pin:-10\n",
            "Bye\n"
          ]
        },
        {
          "output_type": "error",
          "ename": "Exception",
          "evalue": "ignored",
          "traceback": [
            "\u001b[0;31m---------------------------------------------------------------------------\u001b[0m",
            "\u001b[0;31mException\u001b[0m                                 Traceback (most recent call last)",
            "\u001b[0;32m<ipython-input-48-61e2b68af758>\u001b[0m in \u001b[0;36m<module>\u001b[0;34m\u001b[0m\n\u001b[1;32m      2\u001b[0m   \u001b[0mpin\u001b[0m\u001b[0;34m=\u001b[0m\u001b[0mint\u001b[0m\u001b[0;34m(\u001b[0m\u001b[0minput\u001b[0m\u001b[0;34m(\u001b[0m\u001b[0;34m\"Enter your pin:\"\u001b[0m\u001b[0;34m)\u001b[0m\u001b[0;34m)\u001b[0m\u001b[0;34m\u001b[0m\u001b[0;34m\u001b[0m\u001b[0m\n\u001b[1;32m      3\u001b[0m   \u001b[0;32mif\u001b[0m \u001b[0mpin\u001b[0m\u001b[0;34m<\u001b[0m\u001b[0;36m0\u001b[0m\u001b[0;34m:\u001b[0m\u001b[0;34m\u001b[0m\u001b[0;34m\u001b[0m\u001b[0m\n\u001b[0;32m----> 4\u001b[0;31m     \u001b[0;32mraise\u001b[0m \u001b[0mException\u001b[0m\u001b[0;34m(\u001b[0m\u001b[0;34m\"Sorry pin is not valid\"\u001b[0m\u001b[0;34m)\u001b[0m\u001b[0;34m\u001b[0m\u001b[0;34m\u001b[0m\u001b[0m\n\u001b[0m\u001b[1;32m      5\u001b[0m \u001b[0;34m\u001b[0m\u001b[0m\n\u001b[1;32m      6\u001b[0m \u001b[0;32mfinally\u001b[0m\u001b[0;34m:\u001b[0m\u001b[0;34m\u001b[0m\u001b[0;34m\u001b[0m\u001b[0m\n",
            "\u001b[0;31mException\u001b[0m: Sorry pin is not valid"
          ]
        }
      ]
    },
    {
      "cell_type": "code",
      "source": [
        "try:\n",
        "  pin=int(input(\"Enter your pin:\"))\n",
        "  if pin<0:\n",
        "    raise TypeError(\"Sorry pin is not valid\")\n",
        "except Exception as e:\n",
        "  print(e)\n",
        "finally:\n",
        "  print('Bye')"
      ],
      "metadata": {
        "colab": {
          "base_uri": "https://localhost:8080/"
        },
        "id": "PaC1tc5MFvIA",
        "outputId": "9c0ad9fd-503b-4fbb-e3e1-31737d2621e2"
      },
      "execution_count": null,
      "outputs": [
        {
          "output_type": "stream",
          "name": "stdout",
          "text": [
            "Enter your pin:-10\n",
            "Sorry pin is not valid\n",
            "Bye\n"
          ]
        }
      ]
    },
    {
      "cell_type": "code",
      "source": [
        "try:\n",
        "  pin=int(input(\"Enter your pin:\"))\n",
        "  if pin<0:\n",
        "    raise TypeError(\"Sorry pin is not valid\")\n",
        "except Exception as e:\n",
        "  print(e)\n",
        "finally:\n",
        "  print('Bye')"
      ],
      "metadata": {
        "colab": {
          "base_uri": "https://localhost:8080/"
        },
        "id": "zKgFT5MKHemt",
        "outputId": "f4b7ac7b-1791-4d52-d69b-136bd3ee6b27"
      },
      "execution_count": null,
      "outputs": [
        {
          "output_type": "stream",
          "name": "stdout",
          "text": [
            "Enter your pin:-10\n",
            "Sorry pin is not valid\n",
            "Bye\n"
          ]
        }
      ]
    },
    {
      "cell_type": "code",
      "source": [
        "threading \n",
        "gc\n",
        "tkinter\n",
        "mysql\n",
        "\n",
        "data analysis \n",
        "statistics\n",
        "pandas \n",
        "matplotlib\n",
        "powerBI/ Tableau\n",
        "20\n",
        "\n",
        "machine learning\n",
        "10 algorithm \n",
        "20\n",
        "\n",
        "AI (DL--> supervise and unsupervise and Reinforcement)"
      ],
      "metadata": {
        "id": "0mvslIg7H2qS"
      },
      "execution_count": null,
      "outputs": []
    }
  ]
}